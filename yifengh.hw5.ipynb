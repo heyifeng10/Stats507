{
 "cells": [
  {
   "cell_type": "markdown",
   "metadata": {},
   "source": [
    "# Homework 5 (35 points + 3 extra credits)\n",
    "\n",
    "name: Yifeng He\n",
    "\n",
    "email: yifengh@umich.edu\n",
    "\n",
    "I discussed Wang Xiang, Yanze Liu with Problem 4 and 5. (Please list *everyone* with whom you discussed any of the homework problems, excluding only the GSIs and the course instructor. If you did not discuss the homework with anyone else, please write \"I did not discuss this homework with anyone else.\" Even if you discuss questions with other, the code you submit must be only yours. All work is checked with the [MOSS plagiarism detector](https://theory.stanford.edu/~aiken/moss/).)\n",
    "\n",
    "This homework assignment took me 11 hours in total to complete. (Please help us to gauge the difficulty of the assignment.)\n",
    "\n",
    "### <span style=\"color:red\"> New Submission Instructions </span>\n",
    "Your homework solutions should be written entirely in this Jupyter notebook file. Once it contains your solutions, you should submit this notebook through Canvas. Before submitting, please make sure make sure __Cells->Run__ executes without errors; errors in your code cause problems for our auto-grader. Thus, even though we frequently ask you to check for errors in your functions, you should not include in your submission any examples of your functions actually raising those errors."
   ]
  },
  {
   "cell_type": "code",
   "execution_count": 1,
   "metadata": {},
   "outputs": [],
   "source": [
    "%load_ext pycodestyle_magic\n",
    "%pycodestyle_on"
   ]
  },
  {
   "cell_type": "code",
   "execution_count": 2,
   "metadata": {},
   "outputs": [],
   "source": [
    "import numpy as np\n",
    "import itertools\n",
    "import functools\n",
    "import random\n",
    "import math"
   ]
  },
  {
   "cell_type": "markdown",
   "metadata": {},
   "source": [
    "### Problem 1: Basic Review Questions (10 points)\n",
    "\n",
    "1. Write a function called __collatz__ takes a positive integer $num$ as its argument, and returns a list. Your function should perform appropriate error checking for it. The list is generated as follows: The first element of the list is $num$. Continue doing the following things: if the last element of the list, $number$, is even,then the next element of the list is $number$ / 2; if the last element of the list, $number$, is odd, then the next element of the list is 3 * number + 1. Stop when the last element of the list is 1. (Note: We guarantee the length of the list is finite.)"
   ]
  },
  {
   "cell_type": "code",
   "execution_count": 3,
   "metadata": {},
   "outputs": [],
   "source": [
    "def collatz(num):\n",
    "    if not isinstance(num, int):\n",
    "        raise TypeError(\"The input should be integer\")\n",
    "    if num <= 0:\n",
    "        raise ValueError(\"The input should be a positive integer\")\n",
    "    lst = []\n",
    "    helper(num, lst)\n",
    "    return lst\n",
    "\n",
    "\n",
    "def helper(num, lst):\n",
    "    lst.append(num)\n",
    "    if num == 1:\n",
    "        return lst\n",
    "    if num % 2 != 0:\n",
    "        num = 3 * num + 1\n",
    "    elif num % 2 == 0:\n",
    "        num = num // 2\n",
    "    helper(num, lst)"
   ]
  },
  {
   "cell_type": "code",
   "execution_count": 4,
   "metadata": {},
   "outputs": [
    {
     "name": "stdout",
     "output_type": "stream",
     "text": [
      "True\n"
     ]
    }
   ],
   "source": [
    "print(collatz(3) == [3, 10, 5, 16, 8, 4, 2, 1])"
   ]
  },
  {
   "cell_type": "markdown",
   "metadata": {},
   "source": [
    "2. __Casino Game:__ This game in the casino consists of tossing a die with N faces twice. There is a number written on each face of the die (these numbers are not necessarily distinct). In order to win, you must get the number $A$ on the first toss and the number $B$ on the second toss of the die. The excited viewers want to know the probability that you will win the game. Define a function __casino_game__ that takes a list of $N$ integers, an integer $A$ and an integer $B$ as its arguments and returns the probability that you win the game. Your function should perform appropriate error checking. Assume that you get each face of the die with the same probability on each toss and that tosses are mutually independent."
   ]
  },
  {
   "cell_type": "code",
   "execution_count": 5,
   "metadata": {},
   "outputs": [],
   "source": [
    "def casino_game(lst, arg1, arg2):\n",
    "    if not isinstance(arg1, int) or not isinstance(arg2, int):\n",
    "        raise TypeError(\"Input numbers should be integer type\")\n",
    "    for item in lst:\n",
    "        if not isinstance(item, int):\n",
    "            raise TypeErrole(\"Elements in list should all be integer type\")\n",
    "    count1 = 0\n",
    "    count2 = 0\n",
    "    for num in lst:\n",
    "        if arg1 == num:\n",
    "            count1 += 1\n",
    "        if arg2 == num:\n",
    "            count2 += 1\n",
    "    prob = count1*count2/((len(lst))**2)\n",
    "    return prob"
   ]
  },
  {
   "cell_type": "code",
   "execution_count": 6,
   "metadata": {},
   "outputs": [
    {
     "name": "stdout",
     "output_type": "stream",
     "text": [
      "True\n",
      "True\n"
     ]
    }
   ],
   "source": [
    "print(casino_game([1, 2, 3, 4], 1, 1) == 0.0625)\n",
    "print(casino_game([1, 2, 3, 4], 1, 5) == 0)"
   ]
  },
  {
   "cell_type": "markdown",
   "metadata": {},
   "source": [
    "3. Write a function __dict_comp__ that takes a positive integer $n$ as its argument and returns a dictionary that contains a number (between 1 and n) as its keys and the first $n$ composite numbers as its values. Your function should perform appropriate error checking for it. Recall that a composite number is any integer $p > 1$ which is not prime."
   ]
  },
  {
   "cell_type": "code",
   "execution_count": 7,
   "metadata": {},
   "outputs": [],
   "source": [
    "def dict_comp(n):\n",
    "    if not isinstance(n, int):\n",
    "        raise TypeError(\"The input should be integer\")\n",
    "    if n <= 0:\n",
    "        raise ValueError(\"The input should be a positive integer\")\n",
    "    lst = []\n",
    "    num = 4\n",
    "    while len(lst) < n:\n",
    "        if any(num % x == 0 for x in range(2, int(math.sqrt(num))+1)):\n",
    "            lst.append(num)\n",
    "        num += 1\n",
    "    res = dict()\n",
    "    for i in range(1, n+1):\n",
    "        res[i] = lst[i-1]\n",
    "    return res"
   ]
  },
  {
   "cell_type": "code",
   "execution_count": 8,
   "metadata": {},
   "outputs": [
    {
     "data": {
      "text/plain": [
       "True"
      ]
     },
     "execution_count": 8,
     "metadata": {},
     "output_type": "execute_result"
    }
   ],
   "source": [
    "dict_comp(5) == {1: 4, 2: 6, 3: 8, 4: 9, 5: 10}"
   ]
  },
  {
   "cell_type": "markdown",
   "metadata": {},
   "source": [
    "4. Write a one-line expression that computes the sum of the first 10 even square numbers (starting from 4). For ease of grading, please assign the output of this expression to a variable called __even_squares__."
   ]
  },
  {
   "cell_type": "code",
   "execution_count": 9,
   "metadata": {},
   "outputs": [],
   "source": [
    "even_squares = functools.reduce(lambda x, y: x+y,\n",
    "                                list(x**2 for x in range(2, 22, 2)))"
   ]
  },
  {
   "cell_type": "markdown",
   "metadata": {},
   "source": [
    "5. Write a generator expression that enumerates the tetrahedral numbers. The n-th tetrahedral number ($n = 1,\\ 2,\\ \\cdots$) is given by $Tn = \\binom{n+2}{3}$， where $\\binom{x}{y}$ is the binomial coefficient\n",
    "$$\\binom{x}{y} = \\frac{x!}{y!(x-y)!}$$\n",
    "For ease of grading, please assign this generator expression to a variable called tetra. Hint: you may find it useful to define a generator that enumerates the positive integers."
   ]
  },
  {
   "cell_type": "code",
   "execution_count": 10,
   "metadata": {},
   "outputs": [],
   "source": [
    "def enm_pos():\n",
    "    h = 0\n",
    "    while True:\n",
    "        h += 1\n",
    "        yield h"
   ]
  },
  {
   "cell_type": "code",
   "execution_count": 11,
   "metadata": {},
   "outputs": [],
   "source": [
    "tetra = (math.factorial(h+2)//(math.factorial(3)*math.factorial(h-1))\n",
    "         for h in enm_pos())"
   ]
  },
  {
   "cell_type": "markdown",
   "metadata": {},
   "source": [
    "6. Write a one-line expression that computes the geometric mean of the first 12 tetrahedral numbers. You may use the generator that you wrote in the previous problem. Recall that the geometric mean of a collection of n numbers $a_1,\\ a_2,\\ \\cdots,\\ a_n$ is given by ($\\prod^n_{i=1} a_i)^{\\frac{1}{n}}$. For ease of grading, please assign the output of this expression to a variable called __tetra_geom__."
   ]
  },
  {
   "cell_type": "code",
   "execution_count": 12,
   "metadata": {},
   "outputs": [],
   "source": [
    "tetra_geom = (functools.reduce(lambda x, y: (x*y),\n",
    "                               (next(tetra) for _ in range(1, 13))))**(1/12)"
   ]
  },
  {
   "cell_type": "markdown",
   "metadata": {},
   "source": [
    "7. You are given a string $s$, which contains alphanumeric characters only. Your task is to sort the string $s$ in the following manner:  \n",
    " - All sorted lowercase letters are ahead of uppercase letters.\n",
    " - All sorted uppercase letters are ahead of digits.\n",
    " - All sorted odd digits are ahead of sorted even digits.\n",
    "\n",
    "Write a function called __sort_str__, which takes the string $s$ as its argument, and return the result. Your function should perform appropriate error checking."
   ]
  },
  {
   "cell_type": "code",
   "execution_count": 13,
   "metadata": {},
   "outputs": [],
   "source": [
    "def sort_str(string):\n",
    "    if not isinstance(string, str):\n",
    "        raise TypeError(\"The input should be string\")\n",
    "    if not string.isalnum():\n",
    "        raise ValueError(\"The input string should be alphanumeric\")\n",
    "    if not string:\n",
    "        return string\n",
    "    a = sorted(string)\n",
    "    lst_up = []\n",
    "    lst_low = []\n",
    "    lst_digit = []\n",
    "    lst_odd = []\n",
    "    lst_even = []\n",
    "    for item in a:\n",
    "        if item.isupper():\n",
    "            lst_up.append(item)\n",
    "        elif item.islower():\n",
    "            lst_low.append(item)\n",
    "        elif item.isdigit():\n",
    "            lst_digit.append(item)\n",
    "    for num in lst_digit:\n",
    "        if int(num) % 2 == 0:\n",
    "            lst_even.append(num)\n",
    "        else:\n",
    "            lst_odd.append(num)\n",
    "    lst_odd.extend(lst_even)\n",
    "    lst_low.extend(lst_up)\n",
    "    lst_low.extend(lst_odd)\n",
    "    return \"\".join(lst_low)"
   ]
  },
  {
   "cell_type": "code",
   "execution_count": 14,
   "metadata": {},
   "outputs": [
    {
     "name": "stdout",
     "output_type": "stream",
     "text": [
      "True\n",
      "True\n"
     ]
    }
   ],
   "source": [
    "print(sort_str('Sorting1234') == 'ginortS1324')\n",
    "print(sort_str('Stats5072020') == 'asttS5700022')"
   ]
  },
  {
   "cell_type": "markdown",
   "metadata": {},
   "source": [
    "### Problem 2: Fantasy Game (5 points)\n",
    "1. __Fantasy Game Inventory:__ You are creating a fantasy video game. The data structure to model the player’s inventory will be a dictionary where the keys are string values describing the item in the inventory and the value is an integer value detailing how many of that item the player has. For example, the dictionary value `{'rope': 1, 'torch': 6, 'gold coin': 42, 'dagger': 1, 'arrow': 12}` means the player has 1 rope, 6 torches, 42 gold coins, and so on. Write a function named __displayInventory__ that takes a dictionary “inventory” as its argument and print it like the following:\n",
    "***\n",
    "Inventory:\n",
    "\n",
    "12 arrow\n",
    "\n",
    "42 gold coin\n",
    "\n",
    "1 rope\n",
    "\n",
    "6 torch\n",
    "\n",
    "1 dagger\n",
    "\n",
    "Total number of items: 62\n",
    "\n",
    "__Note:__ Your function should raise TypeError if the input is not a dictionary."
   ]
  },
  {
   "cell_type": "code",
   "execution_count": 15,
   "metadata": {},
   "outputs": [],
   "source": [
    "def display_inventory(info):\n",
    "    if not isinstance(info, dict):\n",
    "        raise TypeError(\"The input should be dictionary\")\n",
    "    print(\"Inventory:\")\n",
    "    sum = 0\n",
    "    for key, val in info.items():\n",
    "        print(\"{} {}\".format(val, key))\n",
    "        sum += int(val)\n",
    "    print(\"Total number of items : {}\".format(sum))"
   ]
  },
  {
   "cell_type": "code",
   "execution_count": 16,
   "metadata": {},
   "outputs": [
    {
     "name": "stdout",
     "output_type": "stream",
     "text": [
      "Inventory:\n",
      "1 rope\n",
      "6 torch\n",
      "42 gold coin\n",
      "1 dagger\n",
      "12 arrow\n",
      "3 map fragments\n",
      "Total number of items : 65\n"
     ]
    }
   ],
   "source": [
    "stuff = {'rope': 1, 'torch': 6, 'gold coin': 42,\n",
    "         'dagger': 1, 'arrow': 12, 'map fragments': 3}\n",
    "\n",
    "display_inventory(stuff)"
   ]
  },
  {
   "cell_type": "markdown",
   "metadata": {},
   "source": [
    "2. __List to Dictionary Function for Fantasy Game Inventory:__ Imagine that a vanquished dragon’s loot is represented as a list of strings like this: `dragonLoot = ['gold coin', 'dagger', 'gold coin', 'gold coin', 'ruby']`. Write a function named `addToInventory(inventory, addedItems)`, where the __inventory__ argument is a dictionary representing the player’s inventory (like in the previous question) and the __addedItems__ argument is a list like dragonLoot. Your function should check to make sure that the types of the input are appropriate (e.g., that inventory is a dictionary and addedItems should be a list of strings). The __addToInventory__ function should return a dictionary that represents the updated inventory. __Note:__ the addedItems list can contain multiples of the same item."
   ]
  },
  {
   "cell_type": "code",
   "execution_count": 17,
   "metadata": {},
   "outputs": [],
   "source": [
    "def add_to_inventory(inventory, addedItems):\n",
    "    if not isinstance(inventory, dict):\n",
    "        raise TypeError(\"The input inventory should be dictionary\")\n",
    "    if not isinstance(addedItems, list):\n",
    "        raise TypeError(\"The input added items should be a list\")\n",
    "    for item in addedItems:\n",
    "        if not isinstance(item, str):\n",
    "            raise TypeError(\"The item in added items should be string\")\n",
    "    for item in addedItems:\n",
    "        if item in inventory:\n",
    "            inventory[item] += 1\n",
    "        else:\n",
    "            inventory[item] = 1\n",
    "    return inventory"
   ]
  },
  {
   "cell_type": "code",
   "execution_count": 18,
   "metadata": {},
   "outputs": [
    {
     "data": {
      "text/plain": [
       "True"
      ]
     },
     "execution_count": 18,
     "metadata": {},
     "output_type": "execute_result"
    }
   ],
   "source": [
    "inv = {'gold coin': 42, 'rope': 1}\n",
    "dragon_loot = ['gold coin', 'dagger', 'gold coin', 'gold coin', 'ruby']\n",
    "add_to_inventory(inv, dragon_loot) == {'dagger': 1, 'gold coin': 45,\n",
    "                                       'rope': 1, 'ruby': 1}"
   ]
  },
  {
   "cell_type": "markdown",
   "metadata": {},
   "source": [
    "### Problem 3: More Fun with Strings (5 points)\n",
    "1. __Merge the Tools:__ Consider the following: A string, $s$, of length $n$  where $s=c_0c_1 \\ldots c_{n-1}$. An integer, $k$ , where $k$ is a factor of $n$.We can split $s$ into $n/k$ subsegments where each subsegment, $t_i$ , consists of a contiguous block of $k$ characters in $s$. Then, use each $t_i$ to create string $u_i$ such that:  \n",
    " - The characters in $u_i$ are a subsequence of the characters in $t_i$.  \n",
    " - Any repeat occurrence of a character is removed from the string such that each character in $u_i$ occurs exactly once. In other words, if the character at some index $j$  in $t_i$  occurs at a previous index $< j$ in $t_i$, then do not include the character in string $u_i$.\n",
    "  \n",
    " Write a function called __str_seg__, which takes the string $s$ and the value $k$ as its two argument, and return a list containing $\\frac{n}{k}$ elements, where $i$-th element denotes the string $u_i$. __Note:__ You don't need to worry about error checking for this question, but you are welcome to perform some appropriate error checking."
   ]
  },
  {
   "cell_type": "code",
   "execution_count": 19,
   "metadata": {},
   "outputs": [],
   "source": [
    "def str_seg(s, k):\n",
    "    if not s:\n",
    "        return s\n",
    "    res = []\n",
    "    lst = []\n",
    "    num = len(s)//k\n",
    "    for i in range(k, len(s)+k, k):\n",
    "        lst.append(s[i-k:i])\n",
    "    for item in lst:\n",
    "        check = []\n",
    "        for char in item:\n",
    "            if char not in check:\n",
    "                check.append(char)\n",
    "        res.append(\"\".join(check))\n",
    "    return res"
   ]
  },
  {
   "cell_type": "code",
   "execution_count": 20,
   "metadata": {},
   "outputs": [
    {
     "name": "stdout",
     "output_type": "stream",
     "text": [
      "True\n",
      "True\n"
     ]
    }
   ],
   "source": [
    "print(str_seg('AABCAAADA', 3) == ['AB', 'CA', 'AD'])\n",
    "print(str_seg('AABCAABDAB', 5) == ['ABC', 'ABD'])"
   ]
  },
  {
   "cell_type": "markdown",
   "metadata": {},
   "source": [
    "2. __Simple Arithmetics:__ You are given multiple sequences of button presses of a simple pocket calculator that consist of digits and arithmetic operators. For each such sequence find the number it would produce on a pocket calculator's display. __Note that the pocket calculator evaluates the operators in the order in which they are given (i.e., there is no operator precedence).__ Assume that the display of the calculator is large enough to show the result, and that its memory is sufficient to store all intermediate results. Write a function called __simple_arith__, which takes a string as its only argument, and returns the result as a float. In this problem, A string represents one sequence of button presses for a pocket calculator. The sequence consists of non-negative integers and arithmetic operators and ends with an equal sign.__It also contain spaces to improve readability.__ __The operators only contain \"+-*/\"__, and the operator / represents integer division, rounded down. You may assume that no test case contains division by zero and that in all test cases all intermediate results are non-negative. __Hint:__ you may use eval() function. __Note:__ You don't need to worry about error checking for this question, but you are welcome to perform some appropriate error checking."
   ]
  },
  {
   "cell_type": "code",
   "execution_count": 21,
   "metadata": {},
   "outputs": [],
   "source": [
    "def simple_arith(s):\n",
    "    med = s.split()\n",
    "    k = 1\n",
    "    res = med[0]\n",
    "    while k < len(med)-1:\n",
    "        res = \"{} \".format(res) + \" \".join(med[k:k+2])\n",
    "        res = eval(res)\n",
    "        k += 2\n",
    "    return float(res)"
   ]
  },
  {
   "cell_type": "code",
   "execution_count": 22,
   "metadata": {
    "scrolled": true
   },
   "outputs": [
    {
     "name": "stdout",
     "output_type": "stream",
     "text": [
      "True\n"
     ]
    }
   ],
   "source": [
    "print(simple_arith('1 + 1 * 2 =') == 4.0)"
   ]
  },
  {
   "cell_type": "markdown",
   "metadata": {},
   "source": [
    "### Problem 4: More Practice (15 points)"
   ]
  },
  {
   "cell_type": "markdown",
   "metadata": {},
   "source": [
    "1. You are given a string $s$. Suppose a character '$c$' occurs consecutively $x$ times in the string. __In this problem, we assume each character is in '0123456789', representing a number between 0 and 9.__ Replace these consecutive occurrences of the character '$c$' with $(x,c)$ in the string and store into a list. Write a function called __comp_str__, which takes the string $s$ as its argument, and return the list containing the replacements. For example, the result of `comp_str('1222311')` is `[(1, 1), (3, 2), (1, 3), (2, 1)]`. Reason: First, the character '1' occurs only once, so it is replaced by (1,1). Then the character '2' occurs three times, and it is replaced by (3,2) and so on. __Hint:__ _itertools.groupby_ might be helpful in this question. __Note:__ You don't need to worry about error checking for this question, but you are welcome to perform some appropriate error checking."
   ]
  },
  {
   "cell_type": "code",
   "execution_count": 23,
   "metadata": {},
   "outputs": [],
   "source": [
    "def comp_str(string):\n",
    "    lst = []\n",
    "    res = []\n",
    "    k = 1\n",
    "    for item in string:\n",
    "        lst.append((k, item))\n",
    "        k += 1\n",
    "    for key, val in itertools.groupby(lst, key=lambda x: x[1]):\n",
    "        count = 0\n",
    "        for i in val:\n",
    "            count += 1\n",
    "        res.append((count, int(key)))\n",
    "    return res"
   ]
  },
  {
   "cell_type": "code",
   "execution_count": 24,
   "metadata": {},
   "outputs": [
    {
     "name": "stdout",
     "output_type": "stream",
     "text": [
      "True\n"
     ]
    }
   ],
   "source": [
    "print(comp_str('1222311') == [(1, 1), (3, 2), (1, 3), (2, 1)])"
   ]
  },
  {
   "cell_type": "markdown",
   "metadata": {},
   "source": [
    "2. __The Mirror of Galadriel:__ With water from the stream Galadriel filled the basin to the brim, and breathed on it, and when the water was still again she spoke. 'Here is the Mirror of Galadriel,' she said. 'I have brought you here so that you may look in it, if you will. For this is what your folk would call magic, I believe; though I do not understand clearly what they mean; and they seem also to use the same word of the deceits of the Enemy. But this, if you will, is the magic of Galadriel. Did you not say that you wished to see Elf-magic?' - Galadriel to Frodo and Sam, describing her Mirror. We call a string S magical if every substring of S appears in Galadriel's Mirror (under lateral inversion). In other words, a magical string is a string where every substring has its reverse in the string. Write a function __magical__, that takes a string S as its argument, determine if it is magical or not, and return the result: \"Yes\" is it is magical, or \"No\" if it is not magical. For example, magical('aba') is 'Yes'. Reason: the list of substrings are : a, b, ab, ba, aba. The reverse of each of these strings is present as a substring of S too. __Note:__ You don't need to worry about error checking for this question, but you are welcome to perform some appropriate error checking."
   ]
  },
  {
   "cell_type": "code",
   "execution_count": 25,
   "metadata": {},
   "outputs": [],
   "source": [
    "def magical(s):\n",
    "    sub = set(s[x:y] for x, y in itertools.combinations(range(len(s)+1), r=2))\n",
    "    for item in sub:\n",
    "        if item[::-1] in sub:\n",
    "            continue\n",
    "        else:\n",
    "            return \"No\"\n",
    "    return \"Yes\""
   ]
  },
  {
   "cell_type": "code",
   "execution_count": 26,
   "metadata": {},
   "outputs": [
    {
     "name": "stdout",
     "output_type": "stream",
     "text": [
      "True\n"
     ]
    }
   ],
   "source": [
    "print(magical('aba') == 'Yes')"
   ]
  },
  {
   "cell_type": "markdown",
   "metadata": {},
   "source": [
    "3. Everybody hates Raymond. He’s the largest stamp collector on planet earth and because of that he always makes fun of all the others at the stamp collector parties. Fortunately everybody loves Lucy, and she has a plan. She secretly asks her friends whether they could lend her some stamps, so that she can embarrass Raymond by showing an even larger collection than his. Raymond is so sure about his superiority that he always tells how many stamps he’ll show.And since Lucy knows how many she owns, she knows how many more she needs. She also knows how many friends would lend her some stamps and how many each would lend. But she’s like to borrow from as few friends as possible and if she needs too many then she’d rather not do it at all. Can you tell her the minimum number of friends she needs to borrow from?\n",
    "\n",
    " Write a function called __stamps__, which contains the following arguments: how many stamps Lucy needs to borrow and a list containing the number of stamps each of her friends id offering. This function should return the minimum number of friends Lucy needs to borrow stamps from. If it’s impossible even if she borrows everything from everybody, return \"Impossible!\" instead. __Note:__ You don't need to worry about error checking for this question, but you are welcome to perform some appropriate error checking."
   ]
  },
  {
   "cell_type": "code",
   "execution_count": 27,
   "metadata": {},
   "outputs": [],
   "source": [
    "def stamps(needs, lst):\n",
    "    if sum(lst) < needs:\n",
    "        return \"Impossible!\"\n",
    "    if sum(lst) == needs:\n",
    "        return len(lst)\n",
    "    for i in range(1, len(lst)):\n",
    "        a = list(itertools.combinations(lst, r=i))\n",
    "        for item in a:\n",
    "            if sum(item) >= needs:\n",
    "                return i\n",
    "    return \"Impossible!\""
   ]
  },
  {
   "cell_type": "code",
   "execution_count": 28,
   "metadata": {},
   "outputs": [
    {
     "name": "stdout",
     "output_type": "stream",
     "text": [
      "True\n",
      "True\n"
     ]
    }
   ],
   "source": [
    "print(stamps(100, [13, 17, 42, 9, 23, 57]) == 3)\n",
    "print(stamps(10, [1, 2, 3]) == \"Impossible!\")"
   ]
  },
  {
   "cell_type": "markdown",
   "metadata": {},
   "source": [
    "4. You are given a grid with R rows (numbered 1 through R) and C columns (numbered 1 through C).A cell in row r and column c is denoted by (r, c). Two cells in the grid are adjacent if they have a common side.For each valid i and j, there is a value $a_{i, j}$ written in cell (i, j). A cell in the grid is stable if the number of cells in the grid which are adjacent to this cell is strictly greater than the value written in this cell. The whole grid is stable if all cells in the grid are stable.\n",
    "\n",
    " Define a function __is_stable__ that takes an r-by-c n numpy array (i.e., an ndarray) as its only argument and returns a Python Boolean that is True if and only if the argument is a stable array. Your function should perform appropriate error checking."
   ]
  },
  {
   "cell_type": "code",
   "execution_count": 41,
   "metadata": {},
   "outputs": [],
   "source": [
    "def is_stable(array):\n",
    "    if not isinstance(array, np.ndarray):\n",
    "        raise TypeError(\"The input should be numpy ndarray\")\n",
    "    row = len(array)\n",
    "    col = len(array[0])\n",
    "    for i in range(row):\n",
    "        for j in range(col):\n",
    "            if not isinstance(array[i][j], (int, float, np.int32, np.int64)):\n",
    "                raise TypeError(\"Elements in numpy array should be numeric.\")\n",
    "    for i in range(1, row-1):\n",
    "        for j in range(1, col-1):\n",
    "            if array[i][j] >= 4:\n",
    "                return False\n",
    "    for j in range(1, col-1):\n",
    "        if array[0][j] >= 3:\n",
    "            return False\n",
    "        if array[row-1][j] >= 3:\n",
    "            return False\n",
    "    for i in range(1, row-1):\n",
    "        if array[i][0] >= 3:\n",
    "            return False\n",
    "        if array[i][col-1] >= 3:\n",
    "            return False\n",
    "    if array[0][0] >= 2 or array[0][col-1] >= 2\\\n",
    "            or array[row-1][0] >= 2 or array[row-1][col-1] >= 2:\n",
    "        return False\n",
    "    return True"
   ]
  },
  {
   "cell_type": "code",
   "execution_count": 42,
   "metadata": {},
   "outputs": [
    {
     "name": "stdout",
     "output_type": "stream",
     "text": [
      "True\n",
      "True\n"
     ]
    }
   ],
   "source": [
    "array1 = np.array([1, 0, 0,\n",
    "                   0, 0, 0,\n",
    "                   0, 0, 0]).reshape(3, 3)\n",
    "array2 = np.array([3, 0, 0,\n",
    "                   0, 0, 0,\n",
    "                   0, 0, 0]).reshape(3, 3)\n",
    "\n",
    "\n",
    "print(is_stable(array1) is True)\n",
    "print(is_stable(array2) is False)"
   ]
  },
  {
   "cell_type": "markdown",
   "metadata": {},
   "source": [
    "5. The Fibonacci sequence $F_0,\\ F_1,\\cdots$ is a special infinite sequence of non-negative integers, where $F_0=0,\\ F_1=1$ and for each integer $n \\ge 2$, $F_n=F_{n−1}+F_{n−2}$. Consider the sequence $D$ of the last decimal digits of the first $N$ Fibonacci numbers, i.e. $D=(F_0\\%10,F_1\\%10,…,F_{N−1}\\%10)$. Now, you should perform the following process: \n",
    " - Let $D=(D_1,D_2,\\cdots,D_l)$.\n",
    " - If $l=1$, the process ends.\n",
    " - Create a new sequence $E=(D_2,D_4,…,D_{2⌊l/2⌋})$. In other words, $E$ is the sequence created by removing all odd-indexed elements from $D$. \n",
    " - Change $D$ to $E$. \n",
    " \n",
    " When this process terminates, the sequence $D$ contains only one number. You have to find this number. Define a function __find_D__ that takes a positive integer as its only argument and returns the only number in $D$. Your function should perform appropriate error checking. __Hints:__ Fibonacci's final digits cycle every 60 numbers."
   ]
  },
  {
   "cell_type": "code",
   "execution_count": 43,
   "metadata": {},
   "outputs": [],
   "source": [
    "def find_D(num):\n",
    "    if not isinstance(num, int):\n",
    "        raise TypeError(\"The inut should be integer type\")\n",
    "    if num <= 0:\n",
    "        raise ValueError(\"The input should be a positive integer\")\n",
    "    fibo = gen_fibo(num)\n",
    "    for i in range(len(fibo)):\n",
    "        fibo[i] = fibo[i] % 10\n",
    "    while len(fibo) != 1:\n",
    "        temp = []\n",
    "        lst = list(filter(lambda x: (x+1) % 2 == 0, range(len(fibo))))\n",
    "        for item in lst:\n",
    "            temp.append(fibo[item])\n",
    "        fibo = temp\n",
    "    return fibo[0]\n",
    "\n",
    "\n",
    "def gen_fibo(num):\n",
    "    lst = [0]\n",
    "    res, temp = 0, 1\n",
    "    if num == 1:\n",
    "        return [0]\n",
    "    if num == 2:\n",
    "        return [0, 1]\n",
    "    if num > 2:\n",
    "        for i in range(num-1):\n",
    "            res, temp = temp + res, res\n",
    "            lst.append(res)\n",
    "    return lst"
   ]
  },
  {
   "cell_type": "code",
   "execution_count": 44,
   "metadata": {},
   "outputs": [
    {
     "name": "stdout",
     "output_type": "stream",
     "text": [
      "True\n",
      "True\n"
     ]
    }
   ],
   "source": [
    "print(find_D(5) == 2)\n",
    "print(find_D(10) == 3)"
   ]
  },
  {
   "cell_type": "markdown",
   "metadata": {},
   "source": [
    "6. You are given a function $f(X) = X^2$. You are also given $K$ lists. The $i$-th list consists of $N_i$ elements. You have to pick one element from each list so that the value from the equation below is maximized:\n",
    "$$S=\\left(f\\left(X_{1}\\right)+f\\left(X_{2}\\right)+\\ldots+f\\left(X_{k}\\right)\\right) \\% M$$\n",
    " $X_i$ denotes the element picked from the $i$-th list. Find the maximized value of $S$ obtained. \\% denotes the modulo operator.   Note that you need to take exactly one element from each list, not necessarily the largest element. You add the squares of the chosen elements and perform the modulo operation. The maximum value that you can obtain, will be the answer to the problem.\n",
    "\n",
    " Write a function called __max_mod__, which takes $K$, $M$ and $K$ lists as its arguments, and return the maximized value of $S$.\n",
    "\n",
    " For example, max_mod(3, 1000, [2,5,4], [3,7,8,9], [5,7,8,9,10]) is 206.  Reason: Picking 5 from the 1-st list, 9 from the 2-nd list and 10 from the 3-rd list gives the maximum S value equal to $\\left(5^{2}+9^{2}+10^{2}\\right) \\% 1000 = 206$. __Hint:__ _itertools.product_ might be helpful."
   ]
  },
  {
   "cell_type": "code",
   "execution_count": 45,
   "metadata": {},
   "outputs": [],
   "source": [
    "def max_mod(k, m, *args):\n",
    "    collections = itertools.product(*args)\n",
    "    max = float('-inf')\n",
    "    for item in collections:\n",
    "        if item is None:\n",
    "            continue\n",
    "        val = functools.reduce(lambda x, y: x+y, list(x**2 for x in item))\n",
    "        if val % m > max:\n",
    "            max = val % m\n",
    "    return max"
   ]
  },
  {
   "cell_type": "code",
   "execution_count": 46,
   "metadata": {},
   "outputs": [
    {
     "name": "stdout",
     "output_type": "stream",
     "text": [
      "True\n"
     ]
    }
   ],
   "source": [
    "print(max_mod(3, 1000, [2, 5, 4], [3, 7, 8, 9], [5, 7, 8, 9, 10]) == 206)"
   ]
  },
  {
   "cell_type": "markdown",
   "metadata": {},
   "source": [
    "### Problem 5: Extra Credit (3 points)"
   ]
  },
  {
   "cell_type": "markdown",
   "metadata": {},
   "source": [
    "1. __Coin Flip Streaks:__ Suppose you flip a coin 100 times and write down an “H” for each heads and “T” for each tails, you’ll create a list that looks like “T T T T H H H H T T.” If you ask a human to make up 100 random coin flips, you’ll probably end up with alternating headtail results like “H T H T H H T H T T,” which looks random (to humans), but isn’t mathematically random. A human will almost never write down a streak of several heads or several tails in a row, even though it is highly likely to happen in truly random coin flips. Humans are predictably bad at being random.\n",
    "\n",
    " Write a function called __coin_streaks__, which takes a positive integer $n$ as its only argument. Your function should perform appropriate error checking. Your function breaks up the experiment into two parts: the first part generates a list of randomly selected 'heads' and 'tails' values, and the second part checks if there is a streak in it. Put all of this code in a loop that repeats the experiment 10,000 times so we can find out what percentage of the coin flips contains a streak of $n$ heads or $n$ tails in a row. Return this percentage. As a hint, the function call __random.randint(0, 1)__ will return a 0 value 50% of the time and a 1 value the other 50% of the time."
   ]
  },
  {
   "cell_type": "code",
   "execution_count": 47,
   "metadata": {},
   "outputs": [],
   "source": [
    "import random\n",
    "\n",
    "\n",
    "def coin_streaks(n):\n",
    "    if not isinstance(n, int):\n",
    "        raise TypeError(\"The input should be integer type.\")\n",
    "    if n <= 0:\n",
    "        raise ValueError(\"The input should be positive.\")\n",
    "    count = 0\n",
    "    for i in range(10000):\n",
    "        lst = []\n",
    "        for num in range(100):\n",
    "            temp = random.randint(0, 1)\n",
    "            lst.append(temp)\n",
    "        for i in range((101-n)):\n",
    "            window = set(lst[i:(i+n)])\n",
    "            if len(window) == 1:\n",
    "                count += 1\n",
    "                break\n",
    "    percent = count/10000*100\n",
    "    return percent"
   ]
  },
  {
   "cell_type": "code",
   "execution_count": 48,
   "metadata": {},
   "outputs": [
    {
     "name": "stdout",
     "output_type": "stream",
     "text": [
      "True\n"
     ]
    }
   ],
   "source": [
    "print((coin_streaks(6) >= 76) and (coin_streaks(6) <= 85))"
   ]
  },
  {
   "cell_type": "markdown",
   "metadata": {},
   "source": [
    "2. The only printer in the computer science students' union is experiencing an extremely heavy workload. Sometimes there are a hundred jobs in the printer queue and you may have to wait for hours to get a single page of output.\n",
    "\n",
    " Because some jobs are more important than others, the Hacker General has invented and implemented a simple priority system for the print job queue. Now, each job is assigned a priority between 1 and 9 (with 9 being the highest priority, and 1 being the lowest), The first position in the queue is number 0, the second is number 1, and so on. The printer operates as follows.\n",
    "\n",
    " - The first job J in queue is taken from the queue.\n",
    " - If there is some job in the queue with a higher priority than job J, then move J to the end of the queue without printing it.\n",
    " - Otherwise, print job J (and do not put it back in the queue).\n",
    "\n",
    " In this way, all those important muffin recipes that the Hacker General is printing get printed very quickly. Of course, those annoying term papers that others are printing may have to wait for quite some time to get printed,but that's life.\n",
    "\n",
    " Your problem with the new policy is that it has become quite tricky to determine when your print job will actually be completed. You decide to write a program to figure this out. The program will be given the current queue (as a list of priorities) as well as the position of your job in the queue, and must then calculate how long it will take until your job is printed, assuming that no additional jobs will be added to the queue. To simplify matters, we assume that printing a job always takes exactly one minute, and that adding and removing jobs from the queue is instantaneous.\n",
    "\n",
    " Write a function called __printer_queue__, which contains the following arguments: $m$ (the position of your job), a list containing integers in the range 1 to 9 giving the priorities of the jobs in the queue (The first integer gives the priority of the first job, the second integer the priority of the second job, and so on). This function should return a number , which is the number of minutes until your job is completely printed, assuming that no additional print jobs will arrive."
   ]
  },
  {
   "cell_type": "code",
   "execution_count": 49,
   "metadata": {},
   "outputs": [],
   "source": [
    "def printer_queue(m, lst):\n",
    "    count = 1\n",
    "    for i in range(len(lst)):\n",
    "        if lst[i] > lst[m]:\n",
    "            count += 1\n",
    "            lst[i] = 0\n",
    "    for i in range(m):\n",
    "        if lst[i] == lst[m]:\n",
    "            count += 1\n",
    "    return count"
   ]
  },
  {
   "cell_type": "code",
   "execution_count": 50,
   "metadata": {},
   "outputs": [
    {
     "name": "stdout",
     "output_type": "stream",
     "text": [
      "True\n"
     ]
    }
   ],
   "source": [
    "print(printer_queue(2, [1, 2, 3, 4]) == 2)"
   ]
  },
  {
   "cell_type": "markdown",
   "metadata": {},
   "source": [
    "3. Johnny has some difficulty memorizing the small prime numbers. So, his computer science teacher has asked him to play with the following puzzle game frequently. The puzzle is a 3x3 board consisting of numbers from 1 to 9. The objective of the puzzle is to swap the tiles until the following final state is reached:\n",
    "\n",
    " 1 2 3\n",
    "\n",
    " 4 5 6\n",
    "\n",
    " 7 8 9\n",
    "\n",
    " At each step, Johnny may swap two adjacent tiles if their sum is a prime number. Two tiles are considered adjacent if they have a common edge. Help Johnny to figure out whether the given 3-by-3 board can reach the goal state or not. Define a function __solve_puzzle__ that takes an 3-by-3 numpy array (i.e., an ndarray) as its only argument and returns Python Boolean that is True if and only if the given 3-by-3 board can reach the goal state. __Hint:__ You can start from the goal state, walk through all the possible states and save them into a global variable. You function just need to judge if the given state is inside the possible states or not."
   ]
  },
  {
   "cell_type": "markdown",
   "metadata": {},
   "source": [
    "swap two adjacent tiles if their sum is a prime number."
   ]
  },
  {
   "cell_type": "code",
   "execution_count": 51,
   "metadata": {},
   "outputs": [],
   "source": [
    "# convert array to list\n",
    "from collections import deque\n",
    "\n",
    "\n",
    "def solve_puzzle(array):\n",
    "    lst = []\n",
    "    storage = tank()\n",
    "    check = list(array.ravel())\n",
    "    check = tuple(check)\n",
    "    if check in storage:\n",
    "        return True\n",
    "    return False\n",
    "\n",
    "\n",
    "# BFS\n",
    "def tank():\n",
    "    org = np.array([[1, 2, 3], [4, 5, 6], [7, 8, 9]])\n",
    "    form = list(org.ravel())\n",
    "    visited = set()\n",
    "    q = deque()\n",
    "    q.append(form)\n",
    "    while q:\n",
    "        u = q.popleft()\n",
    "        u = list(u)\n",
    "        for item in moves(u):\n",
    "            item = tuple(item)\n",
    "            if item not in visited:\n",
    "                visited.add(item)\n",
    "                q.append(item)\n",
    "    return visited\n",
    "\n",
    "\n",
    "def moves(form):\n",
    "    lst = []\n",
    "    if swap(form, 0, 1):\n",
    "        lst.append(swap(form, 0, 1))\n",
    "    if swap(form, 0, 3):\n",
    "        lst.append(swap(form, 0, 3))\n",
    "    if swap(form, 1, 2):\n",
    "        lst.append(swap(form, 1, 2))\n",
    "    if swap(form, 1, 4):\n",
    "        lst.append(swap(form, 1, 4))\n",
    "    if swap(form, 2, 5):\n",
    "        lst.append(swap(form, 2, 5))\n",
    "    if swap(form, 3, 4):\n",
    "        lst.append(swap(form, 3, 4))\n",
    "    if swap(form, 3, 6):\n",
    "        lst.append(swap(form, 3, 6))\n",
    "    if swap(form, 4, 5):\n",
    "        lst.append(swap(form, 4, 5))\n",
    "    if swap(form, 4, 7):\n",
    "        lst.append(swap(form, 4, 7))\n",
    "    if swap(form, 5, 8):\n",
    "        lst.append(swap(form, 5, 8))\n",
    "    if swap(form, 6, 7):\n",
    "        lst.append(swap(form, 6, 7))\n",
    "    if swap(form, 7, 8):\n",
    "        lst.append(swap(form, 7, 8))\n",
    "    return lst\n",
    "\n",
    "\n",
    "def swap(form, i, j):\n",
    "    temp = form.copy()\n",
    "    primes = {2, 3, 5, 7, 11, 13, 17}\n",
    "    n = temp[i]+temp[j]\n",
    "    if n in primes:\n",
    "        temp[i], temp[j] = temp[j], temp[i]\n",
    "        return temp\n",
    "    return"
   ]
  },
  {
   "cell_type": "code",
   "execution_count": 52,
   "metadata": {},
   "outputs": [
    {
     "name": "stdout",
     "output_type": "stream",
     "text": [
      "True\n",
      "True\n"
     ]
    }
   ],
   "source": [
    "print(solve_puzzle(np.array([[1, 2, 9], [5, 6, 4], [7, 3, 8]])) is True)\n",
    "print(solve_puzzle(np.array([[9, 8, 5], [2, 4, 1], [3, 7, 6]])) is False)"
   ]
  }
 ],
 "metadata": {
  "kernelspec": {
   "display_name": "Python 3",
   "language": "python",
   "name": "python3"
  },
  "language_info": {
   "codemirror_mode": {
    "name": "ipython",
    "version": 3
   },
   "file_extension": ".py",
   "mimetype": "text/x-python",
   "name": "python",
   "nbconvert_exporter": "python",
   "pygments_lexer": "ipython3",
   "version": "3.7.4"
  }
 },
 "nbformat": 4,
 "nbformat_minor": 2
}
