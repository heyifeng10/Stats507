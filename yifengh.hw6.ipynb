{
 "cells": [
  {
   "cell_type": "markdown",
   "metadata": {},
   "source": [
    "# Homework 6: PyTorch and Pandas\n",
    "\n",
    "name: Yifeng He\n",
    "\n",
    "email: yifengh@umich.edu\n",
    "\n",
    "I discussed Prob 1.6 with Wang Xiang. (Please list *everyone* with whom you discussed any of the homework problems, excluding only the GSIs and the course instructor. If you did not discuss the homework with anyone else, please write \"I did not discuss this homework with anyone else.\" Even if you discuss questions with other, the code you submit must be only yours. All work is checked with the [MOSS plagiarism detector](https://theory.stanford.edu/~aiken/moss/).)\n",
    "\n",
    "This homework assignment took me 10 hours in total to complete. (Please help us to gauge the difficulty of the assignment.)\n",
    "\n",
    "### Submission Instructions\n",
    "Your homework solutions should be written entirely in this Jupyter notebook file. Once it contains your solutions, you should submit this notebook through Canvas. Before submitting, please make sure make sure __Cells->Run__ executes without errors; errors in your code cause problems for our auto-grader. Thus, even though we frequently ask you to check for errors in your functions, you should not include in your submission any examples of your functions actually raising those errors.\n",
    "\n",
    "### Coding style\n",
    "Please follow the [PEP8 guidelines](https://www.python.org/dev/peps/pep-0008/). The `pycodestyle_magic` package will remind you if you are not. To install it, run\n",
    "```\n",
    "pip install flake8 pycodestyle_magic\n",
    "```\n",
    "Once it is installed the following two Jupyter directives will enable syntax checking:"
   ]
  },
  {
   "cell_type": "code",
   "execution_count": 1,
   "metadata": {},
   "outputs": [],
   "source": [
    "%load_ext pycodestyle_magic\n",
    "%pycodestyle_on"
   ]
  },
  {
   "cell_type": "markdown",
   "metadata": {},
   "source": [
    "### Supplemental Data Files\n",
    "Run the following code to download the supplemental files you will need to complete this homework:"
   ]
  },
  {
   "cell_type": "code",
   "execution_count": 2,
   "metadata": {},
   "outputs": [],
   "source": [
    "from urllib import request\n",
    "from os import path\n",
    "from zipfile import ZipFile\n",
    "\n",
    "url = \"https://regier.stat.lsa.umich.edu/stats507/\"\n",
    "fn = \"hw6data.zip\"\n",
    "if not path.exists(fn):\n",
    "    data = request.urlopen(url + fn).read()\n",
    "    with open(fn, 'wb') as fhand:\n",
    "        fhand.write(data)\n",
    "    with ZipFile(fn, 'r') as zipObj:\n",
    "        zipObj.extractall()"
   ]
  },
  {
   "cell_type": "markdown",
   "metadata": {},
   "source": [
    "## Problem 1: Building and training simple models with PyTorch (10 points)\n",
    "In this problem, you'll use PyTorch to build the loss functions for a pair of commonly-used statistical models. In all cases, your answer should include variables `x` and `ytrue`, which will serve as the predictor (independent variable) and response (dependent variable), respectively. Please use `W` to denote a parameter that multiplies the predictor, and $b$ to denote a bias parameter (i.e., a parameter that is added)."
   ]
  },
  {
   "cell_type": "markdown",
   "metadata": {},
   "source": [
    "1. __Logistic regression with a negative log-likelihood loss.__ In this model, which we discussed briefly in class, the binary variable $Y$ is distributed as a Bernoulli random variable with success parameter $\\sigma(W^T X + b)$, where $\\sigma(z) = (1+\\exp(-z))^{-1}$ is the logistic function, and $X \\in R^6$ is the predictor random variable, and $W \\in R^6, b \\in R$ are the model parameters. Derive the log-likelihood of $Y$, and write the PyTorch code that represents the negative log-likelihood loss function. __Hint:__ the loss should be a negative log-likelihood term, summed over all the observations."
   ]
  },
  {
   "cell_type": "code",
   "execution_count": 3,
   "metadata": {},
   "outputs": [],
   "source": [
    "import torch\n",
    "import numpy as np\n",
    "import pandas as pd\n",
    "import matplotlib.pyplot as plt\n",
    "%matplotlib inline"
   ]
  },
  {
   "cell_type": "code",
   "execution_count": 4,
   "metadata": {},
   "outputs": [],
   "source": [
    "def model(x):\n",
    "    z = torch.mm(x, w.t()) + b\n",
    "    yhat = ((1+torch.exp(-z)))**(-1)\n",
    "    return yhat\n",
    "\n",
    "\n",
    "def neg_log_loss(yhat, ytrue):\n",
    "    loss = -ytrue*torch.log(yhat) - (1-ytrue)*torch.log(1-yhat)\n",
    "    return torch.sum(loss)"
   ]
  },
  {
   "cell_type": "markdown",
   "metadata": {},
   "source": [
    "2. __Estimating  parameters  in  logistic  regression.__ For this part you will use the follow four supplemental data files:\n",
    "    - __logistic\\_xtest.npy__: contains a 500-by-6 matrix whose rows are the independent variables (predictors) from the test set.\n",
    "    - __logistic\\_xtrain.npy__: contains a 2000-by-6 matrix whose rows are the independent variables (predictors) from the train set.\n",
    "    - __logistic\\_ytest.npy__: contains a binary 500-dimensional vector of dependent variables (responses) from the test set.\n",
    "    - __logistic\\_ytrain.npy__: contains a binary 2000-dimensional vector of dependent variables (responses) from the train set.\n",
    "    \n",
    "   The $i$-th row of the matrix in __logistic\\_xtrain.npy__ is the predictor for the response in the $i$-th entry of the vector in __logistic\\_ytrain.npy__, and analogously for the two test set files. Please include these files in your submission so that we can run your code without downloading them again. __Note:__ we didn't discuss reading numpy data from files. To load the files, you can simply call __xtrain = np.load('xtrain.npy')__ to read the data into the variable __xtrain__. __xtrain__ will be a Numpy array.\n",
    "\n",
    "   Load the training data and use it to obtain estimates of $W$ and $b$ by minimizing the negative log-likelihood via gradient descent. __Another note:__ you'll have to play around with the learning rate and the number of steps. Two good ways to check if optimization is finding a good minimizer:\n",
    "    - Try printing the training data loss before and after optimization.\n",
    "    - Use the test data to validate your estimated parameters."
   ]
  },
  {
   "cell_type": "code",
   "execution_count": 5,
   "metadata": {},
   "outputs": [],
   "source": [
    "xtrain = np.load('logistic_xtrain.npy')\n",
    "ytrain = np.load('logistic_ytrain.npy')\n",
    "xtrain = torch.from_numpy(xtrain)\n",
    "ytrain = torch.from_numpy(ytrain)\n",
    "\n",
    "xtest = np.load('logistic_xtest.npy')\n",
    "ytest = np.load('logistic_ytest.npy')\n",
    "xtest = torch.from_numpy(xtest)\n",
    "ytest = torch.from_numpy(ytest)"
   ]
  },
  {
   "cell_type": "code",
   "execution_count": 6,
   "metadata": {},
   "outputs": [],
   "source": [
    "w = torch.randn(1, 6, requires_grad=True, dtype=torch.double)\n",
    "b = torch.randn(1, requires_grad=True, dtype=torch.double)"
   ]
  },
  {
   "cell_type": "code",
   "execution_count": 7,
   "metadata": {},
   "outputs": [
    {
     "name": "stdout",
     "output_type": "stream",
     "text": [
      "tensor(1707.3252, dtype=torch.float64, grad_fn=<SumBackward0>)\n"
     ]
    }
   ],
   "source": [
    "# get loss before optimization\n",
    "preds = model(xtrain)\n",
    "loss = neg_log_loss(preds, ytrain)\n",
    "print(loss)"
   ]
  },
  {
   "cell_type": "code",
   "execution_count": 8,
   "metadata": {},
   "outputs": [],
   "source": [
    "for i in range(1000):\n",
    "    preds = model(xtrain)\n",
    "    loss = neg_log_loss(preds, ytrain)\n",
    "    loss.backward()\n",
    "    with torch.no_grad():\n",
    "        w -= w.grad * 1e-3\n",
    "        b -= b.grad * 1e-3\n",
    "        w.grad.zero_()\n",
    "        b.grad.zero_()"
   ]
  },
  {
   "cell_type": "code",
   "execution_count": 9,
   "metadata": {},
   "outputs": [
    {
     "name": "stdout",
     "output_type": "stream",
     "text": [
      "tensor(680.2275, dtype=torch.float64, grad_fn=<SumBackward0>)\n"
     ]
    }
   ],
   "source": [
    "# get loss after optimization\n",
    "preds = model(xtrain)\n",
    "loss = neg_log_loss(preds, ytrain)\n",
    "print(loss)"
   ]
  },
  {
   "cell_type": "code",
   "execution_count": 10,
   "metadata": {},
   "outputs": [
    {
     "name": "stdout",
     "output_type": "stream",
     "text": [
      "Estimated paramters for w: [0.97620586 1.23051734 1.49473818 3.00901795 4.63457977 7.51345627]\n",
      "Estimated paramters for b: -0.9534086167870017\n"
     ]
    }
   ],
   "source": [
    "print(\"Estimated paramters for w: {}\".format(w.detach().numpy().ravel()))\n",
    "print(\"Estimated paramters for b: {}\".format(b.item()))"
   ]
  },
  {
   "cell_type": "markdown",
   "metadata": {},
   "source": [
    "From the code above, we could see that the parameter w: **[0.9763, 1.2306, 1.4948, 3.0092, 4.6348, 7.5139]**, \n",
    "                          the parameter b: **[-0.9535]**"
   ]
  },
  {
   "cell_type": "markdown",
   "metadata": {},
   "source": [
    "3. __Evaluating logistic regression on test data.__ Load the test data. What is the negative log-likelihood of your model on this test data? That is, what is the negative log-likelihood when you use your estimated parameters with the previously unseen test data?"
   ]
  },
  {
   "cell_type": "code",
   "execution_count": 11,
   "metadata": {},
   "outputs": [
    {
     "name": "stdout",
     "output_type": "stream",
     "text": [
      "tensor(163.0494, dtype=torch.float64, grad_fn=<SumBackward0>)\n"
     ]
    }
   ],
   "source": [
    "# Calculate loss\n",
    "preds_test = model(xtest)\n",
    "loss_test = neg_log_loss(preds_test, ytest)\n",
    "print(loss_test)"
   ]
  },
  {
   "cell_type": "markdown",
   "metadata": {},
   "source": [
    "From the code above, we could see that the negative log-likelihood loss function returns **163.0484**"
   ]
  },
  {
   "cell_type": "markdown",
   "metadata": {},
   "source": [
    "4. __Evaluating the estimated logistic parameters.__ The data was, in reality, generated with \n",
    "$$ W = (1,1,2,3,5,8),~~~~~~ b = -1. $$\n",
    "    Write PyTorch expressions to compute the squared error between your estimated parameters and their true values. Evaluate the error in recovering $W$ and $b$ separately. What are the squared errors of these estimates? __Note:__ you need only evaluate the error of your final estimates, not at every step."
   ]
  },
  {
   "cell_type": "code",
   "execution_count": 12,
   "metadata": {},
   "outputs": [],
   "source": [
    "def square_error(x, y):\n",
    "    diff = x - y\n",
    "    return torch.sum(diff*diff)"
   ]
  },
  {
   "cell_type": "code",
   "execution_count": 13,
   "metadata": {},
   "outputs": [
    {
     "name": "stdout",
     "output_type": "stream",
     "text": [
      "tensor(0.6793, dtype=torch.float64, grad_fn=<SumBackward0>)\n",
      "tensor(0.0022, dtype=torch.float64, grad_fn=<SumBackward0>)\n"
     ]
    }
   ],
   "source": [
    "w_true = torch.tensor([[1., 1., 2., 3., 5., 8.]])\n",
    "b_true = -1\n",
    "Wsqerr = square_error(w, w_true)\n",
    "bsqerr = square_error(b, b_true)\n",
    "print(Wsqerr)\n",
    "print(bsqerr)"
   ]
  },
  {
   "cell_type": "markdown",
   "metadata": {},
   "source": [
    "From the code above, we could see that the squared for w is **0.6787**, and for b is **0.0022**"
   ]
  },
  {
   "cell_type": "markdown",
   "metadata": {},
   "source": [
    "5. For ease of grading, please make the variables from the above problems available in a dictionary called __results_logistic__. The dictionary should have keys __$W$, Wsqerr, $b$, bsqerr, log_lik_test__ corresponding to the evaluation of your estimate of $W$, $W$ squared error, $b$, $b$ squared error and the negative log-likelihood on the test set. For example, if my squared error for $W$ is stored in a torch.Tensor called __W_squared_error__, then the key __'Wsqerr'__ should have value __W_squared_error.item()__."
   ]
  },
  {
   "cell_type": "code",
   "execution_count": 14,
   "metadata": {},
   "outputs": [],
   "source": [
    "results_logistic = {'W': set(w.detach().numpy().ravel()),\n",
    "                    'Wsqerr': Wsqerr.item(),\n",
    "                    'b': b.item(), 'bsqerr': bsqerr.item(),\n",
    "                    'log_like_test': loss_test.item()}"
   ]
  },
  {
   "cell_type": "markdown",
   "metadata": {},
   "source": [
    "6. __Classification  of  normally  distributed  data.__ For this part you will use four Numpy __.npy__ files that contain train and test data generated from $K=3$ different classes. Each class $k \\in \\{1,2,3\\}$ has an associated mean $\\mu_k \\in R$ and variance $\\sigma^2_k \\in R$, and all observations from a given class are i.i.d. $\\mathcal{N}(\\mu_k,\\sigma^2_k)$. The four files are:\n",
    "    - __normal_xtest.npy__: contains a 500-vector whose entries are the independent variables (predictors) from the test set.\n",
    "    - __normal_xtrain.npy__: contains a 2000-vector whose entries are the independent variables (predictors) from the train set.\n",
    "    - __normal_ytest.npy__: contains a 500-by-3 dimensional matrix whose rows are one-hot encodings of the class labels for the test set.\n",
    "    - __normal_ytrain.npy__: contains a 2000-by-3 dimensional matrix whose rows are one-hot encodings of the class labels for the train set.\n",
    "    \n",
    "   The $i$-th entry of the vector in __normal_xtrain.npy__ is the observed random variable from class with label given by the $i$-th row of the matrix in __normal_ytrain.npy__, and analogously for the two test set files. Please include these files in your submission so that we can run your code without downloading them again.\n",
    "\n",
    "   Load the training data and use it to obtain estimates of the vector of class means $\\mu = (\\mu_0,\\mu_1,\\mu_2)$ and variances $\\sigma^2 = (\\sigma^2_0, \\sigma^2_1, \\sigma^2_2)$ by minimizing the cross-entropy between the estimated normals and the one-hot encodings of the class labels (as we did in our softmax regression example in class). Please name the corresponding variables __mu__ and __sigma2__. This time, instead of using gradient descent, use Adagrad, supplied by Pytorch as the function __torch.optim.Adagrad__. Adagrad is a _stochastic gradient descent algorithm_, popular in machine learning. You can call this just like the gradient descent optimizer we used in class---just supply a learning rate. Documentation for the PyTorch implementation of Adagrad can be found here: https://pytorch.org/docs/stable/_modules/torch/optim/adagrad.html. See https://en.wikipedia.org/wiki/Stochastic_gradient_descent for more information about stochastic gradient descent and the Adagrad algorithm.\n",
    "\t\n",
    "   __Note:__ you'll no longer be able to use the built-in logit cross-entropy that we used for training our models in lecture. Your cross-entropy for one observation should now look something like $ -\\sum_k y'_k \\log p_k,$ where $y'$ is the one-hot encoded vector and $p$ is the vector whose $k$-th entry is the (estimated) probability of the $k$-th observation given its class. __Another note:__ do not include any estimation of the mixing coefficients (i.e., the class priors) in your model. You only need to estimate three means and three variances, because we are building a _discriminative_ model in this problem."
   ]
  },
  {
   "cell_type": "code",
   "execution_count": 18,
   "metadata": {},
   "outputs": [],
   "source": [
    "xntrain = np.load('normal_xtrain.npy')\n",
    "yntrain = np.load('normal_ytrain.npy')\n",
    "xntrain = torch.from_numpy(xntrain)\n",
    "yntrain = torch.from_numpy(yntrain)\n",
    "\n",
    "xntest = np.load('normal_xtest.npy')\n",
    "yntest = np.load('normal_ytest.npy')\n",
    "xntest = torch.from_numpy(xntest)\n",
    "yntest = torch.from_numpy(yntest)\n",
    "\n",
    "mu = torch.tensor([[1., 1., 1.]], requires_grad=True)\n",
    "std = torch.tensor([[1., 1., 1.]], requires_grad=True)\n",
    "classes = torch.distributions.Normal(mu, std)\n",
    "logprob = classes.log_prob(xntrain)"
   ]
  },
  {
   "cell_type": "code",
   "execution_count": 19,
   "metadata": {},
   "outputs": [],
   "source": [
    "def cross_entropy(x, y):\n",
    "    m = y.shape[0]\n",
    "    log_likelihood = -y*x\n",
    "    loss = torch.sum(log_likelihood)\n",
    "    return loss\n",
    "\n",
    "\n",
    "def model_n(x):\n",
    "    classes = torch.distributions.Normal(mu, std)\n",
    "    logprob = classes.log_prob(x)\n",
    "    return logprob"
   ]
  },
  {
   "cell_type": "code",
   "execution_count": 20,
   "metadata": {},
   "outputs": [],
   "source": [
    "adagrad = torch.optim.Adagrad([mu, std, ], lr=0.1)\n",
    "lst = []\n",
    "for i in range(1000):\n",
    "    preds = model_n(xntrain)\n",
    "    loss = cross_entropy(preds, yntrain)\n",
    "    loss.backward()\n",
    "    adagrad.step()\n",
    "    mu.grad.zero_()\n",
    "    std.grad.zero_()"
   ]
  },
  {
   "cell_type": "code",
   "execution_count": 21,
   "metadata": {},
   "outputs": [
    {
     "name": "stdout",
     "output_type": "stream",
     "text": [
      "tensor(2783.8196, dtype=torch.float64, grad_fn=<SumBackward0>)\n"
     ]
    }
   ],
   "source": [
    "print(loss)"
   ]
  },
  {
   "cell_type": "code",
   "execution_count": 22,
   "metadata": {},
   "outputs": [
    {
     "name": "stdout",
     "output_type": "stream",
     "text": [
      "tensor([[-1.0076,  0.0045,  3.0046]], requires_grad=True)\n",
      "tensor([[0.5334, 1.0088, 1.5159]], grad_fn=<PowBackward0>)\n"
     ]
    }
   ],
   "source": [
    "print(mu)\n",
    "print(std**2)"
   ]
  },
  {
   "cell_type": "markdown",
   "metadata": {},
   "source": [
    "7. __Evaluating loss on test data.__ Load the test data. What is the cross-entropy of your model on this test data? That is, what is the cross-entropy when you use your estimated parameters with the previously unseen test data?"
   ]
  },
  {
   "cell_type": "code",
   "execution_count": 23,
   "metadata": {},
   "outputs": [
    {
     "name": "stdout",
     "output_type": "stream",
     "text": [
      "tensor(686.3451, dtype=torch.float64, grad_fn=<SumBackward0>)\n"
     ]
    }
   ],
   "source": [
    "# Calculate loss\n",
    "predsn_test = model_n(xntest)\n",
    "lossn_test = cross_entropy(predsn_test, yntest)\n",
    "print(lossn_test)"
   ]
  },
  {
   "cell_type": "markdown",
   "metadata": {},
   "source": [
    "8. __Evaluating parameter estimation on test data.__ The true parameter values for the three classes were\n",
    "\\begin{equation*} \\begin{aligned}\n",
    "\\mu_0 &= -1, \\sigma_0^2 = 0.5 \\\\\n",
    "\\mu_1 &= 0, \\sigma_1^2 = 1 \\\\\n",
    "\\mu_2 &= 3, \\sigma_2^2 = 1.5.\n",
    "\\end{aligned} \n",
    "\\end{equation*}\n",
    "   Write a PyTorch expression to compute the total squared error (i.e., summed over the six parameters) between your estimates and their true values. What is the squared error? __Note:__ you need only evaluate the error of your final estimates, not at every step."
   ]
  },
  {
   "cell_type": "code",
   "execution_count": 24,
   "metadata": {},
   "outputs": [],
   "source": [
    "mu_true = torch.tensor([[-1, 0, 3]])\n",
    "sigma_true = torch.tensor([[0.5, 1, 1.5]])"
   ]
  },
  {
   "cell_type": "code",
   "execution_count": 25,
   "metadata": {},
   "outputs": [
    {
     "name": "stdout",
     "output_type": "stream",
     "text": [
      "tensor([[1.1143e-03, 7.6645e-05, 2.5229e-04]], grad_fn=<PowBackward0>)\n",
      "tensor([[5.8342e-05, 2.0172e-05, 2.1519e-05]], grad_fn=<PowBackward0>)\n",
      "tensor(0.0015, grad_fn=<SumBackward0>)\n"
     ]
    }
   ],
   "source": [
    "sigma = std**2\n",
    "total = torch.sum((mu - mu_true)**2+(sigma - sigma_true)**2)\n",
    "print((sigma - sigma_true)**2)\n",
    "print((mu - mu_true)**2)\n",
    "print(total)"
   ]
  },
  {
   "cell_type": "markdown",
   "metadata": {},
   "source": [
    "9. __Evaluating classification error on test data.__ Write and evaluate a PyTorch expression that computes the classification error of your estimated model averaged over the test data."
   ]
  },
  {
   "cell_type": "code",
   "execution_count": 26,
   "metadata": {},
   "outputs": [],
   "source": [
    "a = predsn_test.argmax(1)\n",
    "model_label = torch.zeros(predsn_test.shape).scatter(1, a.unsqueeze(1), 1.0)"
   ]
  },
  {
   "cell_type": "code",
   "execution_count": 27,
   "metadata": {},
   "outputs": [],
   "source": [
    "check = (yntest-model_label)**2\n",
    "check = torch.sum(check)/2\n",
    "class_error = check/yntest.shape[0]"
   ]
  },
  {
   "cell_type": "markdown",
   "metadata": {},
   "source": [
    "10. Again, for ease of grading, define a dictionary called __results_class__, with keys __'mu', 'sigma2', 'crossent_test', 'class_error'__ with keys corresponding to the evaluation of your estimate of $\\mu$, $\\sigma^2$, the cross-entropy on the test set, and the classification error from the previous problem."
   ]
  },
  {
   "cell_type": "code",
   "execution_count": 28,
   "metadata": {},
   "outputs": [],
   "source": [
    "results_class = {'mu': list(mu.detach().numpy().ravel()),\n",
    "                 'sigma2': list(sigma.detach().numpy().ravel()),\n",
    "                 'crossent_test': total.item(),\n",
    "                 'class_error': class_error.item()}"
   ]
  },
  {
   "cell_type": "markdown",
   "metadata": {},
   "source": [
    "## Problem 2: Constructing $pandas$ objects (2 points)\n",
    "In this problem, you will create two simple $pandas$ objects."
   ]
  },
  {
   "cell_type": "markdown",
   "metadata": {},
   "source": [
    "1. Create a $pandas$ Series object with indices given by the first 10 letters of the English alphabet and values given by the first 10 primes. Assign this object to a variable called __alphaprimes__."
   ]
  },
  {
   "cell_type": "code",
   "execution_count": 30,
   "metadata": {},
   "outputs": [],
   "source": [
    "alphaprimes = pd.Series({\"a\": 2, \"b\": 3, \"c\": 5, \"d\": 7,\n",
    "                         \"e\": 11, \"f\": 13, \"g\": 17, \"h\": 19,\n",
    "                         \"i\": 23, \"j\": 29})"
   ]
  },
  {
   "attachments": {
    "table.png": {
     "image/png": "[encoded data removed]"
    }
   },
   "cell_type": "markdown",
   "metadata": {},
   "source": [
    "2. Below is a table that might arise in a genetics experiment. Reconstruct this as a $pandas$ DataFrame and assign it to a variable called __animals__.\n",
    "\n",
    "![table.png](attachment:table.png)"
   ]
  },
  {
   "cell_type": "code",
   "execution_count": 31,
   "metadata": {},
   "outputs": [],
   "source": [
    "lst1 = [x for x in range(1, 13)]\n",
    "lst2 = [2, 4, 4, 6, 6, 8, 8, 10, 10, 12, 12, 14]\n",
    "element2 = [\"A\", \"a\"]\n",
    "lstP2 = []\n",
    "for i in range(6):\n",
    "    lstP2.extend(element2)\n",
    "lstP1 = [\"A\", \"A\", \"a\", \"a\", \"A\", \"A\", \"a\", \"a\", \"A\", \"A\", \"a\", \"a\"]\n",
    "lstA = [\"goat\", \"goat\", \"goat\", \"goat\", \"bird\", \"bird\",\n",
    "        \"bird\", \"bird\", \"llama\", \"llama\", \"llama\", \"llama\"]\n",
    "data = {'animals': lstA, 'parent1': lstP1,\n",
    "        'parent2': lstP2, 'score1': lst1, 'score2': lst2}"
   ]
  },
  {
   "cell_type": "code",
   "execution_count": 32,
   "metadata": {},
   "outputs": [],
   "source": [
    "animals = pd.DataFrame(data).set_index(['animals', 'parent1', 'parent2'])"
   ]
  },
  {
   "cell_type": "markdown",
   "metadata": {},
   "source": [
    "## Problem 3: Working with $pandas$ DataFrames (5 points)\n",
    "In this problem, you'll get practice working with $pandas$ DataFrames, reading them into and out of memory, changing their contents and performing aggregation operations."
   ]
  },
  {
   "cell_type": "markdown",
   "metadata": {},
   "source": [
    "1. Read __iris.csv__ into Python as a $pandas$ DataFrame. Note that the CSV file includes column headers. How many data points are there in this data set? What are the data types of the columns? What are the column names? The column names correspond to flower species names, as well as four basic measurements one can make of a flower: the width and length of its petals and the width and length of its sepal (the part of the pant that supports and protects the flower itself). How many species of flower are included in the data?"
   ]
  },
  {
   "cell_type": "markdown",
   "metadata": {},
   "source": [
    "Answer:<br> \n",
    "1. it has 150 data points in total.\n",
    "2. Data types of columns: 'Sepal.Length': float64, 'Sepal.Width': float64,'Petal.Length': float64, 'Petal.Width': float64, 'Species': object  \n",
    "3. Column names: 'Sepal.length', 'Sepal.Width', 'Petal.Length', 'Petal.Width', 'Species'\n",
    "4. There are 3 species in total: 'setosa', 'versicolor', 'virginica'.\n"
   ]
  },
  {
   "cell_type": "code",
   "execution_count": 33,
   "metadata": {},
   "outputs": [],
   "source": [
    "data = pd.read_csv('iris.csv')"
   ]
  },
  {
   "cell_type": "code",
   "execution_count": 34,
   "metadata": {},
   "outputs": [
    {
     "data": {
      "text/html": [
       "<div>\n",
       "<style scoped>\n",
       "    .dataframe tbody tr th:only-of-type {\n",
       "        vertical-align: middle;\n",
       "    }\n",
       "\n",
       "    .dataframe tbody tr th {\n",
       "        vertical-align: top;\n",
       "    }\n",
       "\n",
       "    .dataframe thead th {\n",
       "        text-align: right;\n",
       "    }\n",
       "</style>\n",
       "<table border=\"1\" class=\"dataframe\">\n",
       "  <thead>\n",
       "    <tr style=\"text-align: right;\">\n",
       "      <th></th>\n",
       "      <th>Sepal.Length</th>\n",
       "      <th>Sepal.Width</th>\n",
       "      <th>Petal.Length</th>\n",
       "      <th>Petal.Width</th>\n",
       "      <th>Species</th>\n",
       "    </tr>\n",
       "  </thead>\n",
       "  <tbody>\n",
       "    <tr>\n",
       "      <th>0</th>\n",
       "      <td>5.1</td>\n",
       "      <td>3.5</td>\n",
       "      <td>1.4</td>\n",
       "      <td>0.2</td>\n",
       "      <td>setosa</td>\n",
       "    </tr>\n",
       "    <tr>\n",
       "      <th>1</th>\n",
       "      <td>4.9</td>\n",
       "      <td>3.0</td>\n",
       "      <td>1.4</td>\n",
       "      <td>0.2</td>\n",
       "      <td>setosa</td>\n",
       "    </tr>\n",
       "    <tr>\n",
       "      <th>2</th>\n",
       "      <td>4.7</td>\n",
       "      <td>3.2</td>\n",
       "      <td>1.3</td>\n",
       "      <td>0.2</td>\n",
       "      <td>setosa</td>\n",
       "    </tr>\n",
       "    <tr>\n",
       "      <th>3</th>\n",
       "      <td>4.6</td>\n",
       "      <td>3.1</td>\n",
       "      <td>1.5</td>\n",
       "      <td>0.2</td>\n",
       "      <td>setosa</td>\n",
       "    </tr>\n",
       "    <tr>\n",
       "      <th>4</th>\n",
       "      <td>5.0</td>\n",
       "      <td>3.6</td>\n",
       "      <td>1.4</td>\n",
       "      <td>0.2</td>\n",
       "      <td>setosa</td>\n",
       "    </tr>\n",
       "  </tbody>\n",
       "</table>\n",
       "</div>"
      ],
      "text/plain": [
       "   Sepal.Length  Sepal.Width  Petal.Length  Petal.Width Species\n",
       "0           5.1          3.5           1.4          0.2  setosa\n",
       "1           4.9          3.0           1.4          0.2  setosa\n",
       "2           4.7          3.2           1.3          0.2  setosa\n",
       "3           4.6          3.1           1.5          0.2  setosa\n",
       "4           5.0          3.6           1.4          0.2  setosa"
      ]
     },
     "execution_count": 34,
     "metadata": {},
     "output_type": "execute_result"
    }
   ],
   "source": [
    "data.head()"
   ]
  },
  {
   "cell_type": "code",
   "execution_count": 35,
   "metadata": {},
   "outputs": [
    {
     "data": {
      "text/plain": [
       "(150, 5)"
      ]
     },
     "execution_count": 35,
     "metadata": {},
     "output_type": "execute_result"
    }
   ],
   "source": [
    "data.shape"
   ]
  },
  {
   "cell_type": "code",
   "execution_count": 36,
   "metadata": {},
   "outputs": [
    {
     "data": {
      "text/plain": [
       "Sepal.Length    float64\n",
       "Sepal.Width     float64\n",
       "Petal.Length    float64\n",
       "Petal.Width     float64\n",
       "Species          object\n",
       "dtype: object"
      ]
     },
     "execution_count": 36,
     "metadata": {},
     "output_type": "execute_result"
    }
   ],
   "source": [
    "dataTypes = data.dtypes\n",
    "dataTypes"
   ]
  },
  {
   "cell_type": "code",
   "execution_count": 37,
   "metadata": {},
   "outputs": [
    {
     "data": {
      "text/plain": [
       "array(['setosa', 'versicolor', 'virginica'], dtype=object)"
      ]
     },
     "execution_count": 37,
     "metadata": {},
     "output_type": "execute_result"
    }
   ],
   "source": [
    "data.Species.unique()"
   ]
  },
  {
   "cell_type": "markdown",
   "metadata": {},
   "source": [
    "2. The iris data is based on the data initially uploaded to the UC Irvine machine learning repository. It is now known that this data contains errors in two of its rows (see the documentation at https://archive.ics.uci.edu/ml/datasets/Iris). Using 1-indexing, these errors are in the 35th and 38th rows. The 35th row should read __4.9,3.1,1.5,0.2,\"setosa\"__, where the fourth feature is incorrect as it appears in the file, and the 38th row should read __4.9,3.6,1.4,0.1,\"setosa\"__, where the second and third features are incorrect as they appear in the file. Correct these entries of your DataFrame."
   ]
  },
  {
   "cell_type": "code",
   "execution_count": 38,
   "metadata": {},
   "outputs": [
    {
     "data": {
      "text/plain": [
       "Sepal.Length       4.9\n",
       "Sepal.Width        3.1\n",
       "Petal.Length       1.5\n",
       "Petal.Width        0.1\n",
       "Species         setosa\n",
       "Name: 34, dtype: object"
      ]
     },
     "execution_count": 38,
     "metadata": {},
     "output_type": "execute_result"
    }
   ],
   "source": [
    "data.iloc[34]"
   ]
  },
  {
   "cell_type": "code",
   "execution_count": 39,
   "metadata": {},
   "outputs": [],
   "source": [
    "data.iloc[34, 3] = 0.2"
   ]
  },
  {
   "cell_type": "code",
   "execution_count": 40,
   "metadata": {},
   "outputs": [
    {
     "data": {
      "text/plain": [
       "Sepal.Length       4.9\n",
       "Sepal.Width        3.1\n",
       "Petal.Length       1.5\n",
       "Petal.Width        0.2\n",
       "Species         setosa\n",
       "Name: 34, dtype: object"
      ]
     },
     "execution_count": 40,
     "metadata": {},
     "output_type": "execute_result"
    }
   ],
   "source": [
    "data.iloc[34]"
   ]
  },
  {
   "cell_type": "code",
   "execution_count": 41,
   "metadata": {},
   "outputs": [
    {
     "data": {
      "text/plain": [
       "Sepal.Length       4.9\n",
       "Sepal.Width        3.1\n",
       "Petal.Length       1.5\n",
       "Petal.Width        0.1\n",
       "Species         setosa\n",
       "Name: 37, dtype: object"
      ]
     },
     "execution_count": 41,
     "metadata": {},
     "output_type": "execute_result"
    }
   ],
   "source": [
    "data.iloc[37]"
   ]
  },
  {
   "cell_type": "code",
   "execution_count": 42,
   "metadata": {},
   "outputs": [],
   "source": [
    "data.iloc[37, 1] = 3.6\n",
    "data.iloc[37, 2] = 1.4"
   ]
  },
  {
   "cell_type": "code",
   "execution_count": 43,
   "metadata": {},
   "outputs": [
    {
     "data": {
      "text/plain": [
       "Sepal.Length       4.9\n",
       "Sepal.Width        3.6\n",
       "Petal.Length       1.4\n",
       "Petal.Width        0.1\n",
       "Species         setosa\n",
       "Name: 37, dtype: object"
      ]
     },
     "execution_count": 43,
     "metadata": {},
     "output_type": "execute_result"
    }
   ],
   "source": [
    "data.iloc[37]"
   ]
  },
  {
   "cell_type": "markdown",
   "metadata": {},
   "source": [
    "3. The iris dataset is commonly used in machine learning as a proving ground for clustering and classification algorithms. Some researchers have found it useful to use two additional features, called _Petal ratio_ and _Sepal ratio_, defined as the ratio of the petal length to petal width and the ratio of the sepal length to sepal width, respectively. Add two columns to your DataFrame corresponding to these two new features. Name these columns __Petal.Ratio__ and __Sepal.Ratio__, respectively."
   ]
  },
  {
   "cell_type": "code",
   "execution_count": 44,
   "metadata": {},
   "outputs": [],
   "source": [
    "data['Petal.Ratio'] = (data['Petal.Length'] / data['Petal.Width']).round(2)\n",
    "data['Sepal.Ratio'] = (data['Sepal.Length'] / data['Sepal.Width']).round(2)"
   ]
  },
  {
   "cell_type": "code",
   "execution_count": 45,
   "metadata": {},
   "outputs": [
    {
     "data": {
      "text/html": [
       "<div>\n",
       "<style scoped>\n",
       "    .dataframe tbody tr th:only-of-type {\n",
       "        vertical-align: middle;\n",
       "    }\n",
       "\n",
       "    .dataframe tbody tr th {\n",
       "        vertical-align: top;\n",
       "    }\n",
       "\n",
       "    .dataframe thead th {\n",
       "        text-align: right;\n",
       "    }\n",
       "</style>\n",
       "<table border=\"1\" class=\"dataframe\">\n",
       "  <thead>\n",
       "    <tr style=\"text-align: right;\">\n",
       "      <th></th>\n",
       "      <th>Sepal.Length</th>\n",
       "      <th>Sepal.Width</th>\n",
       "      <th>Petal.Length</th>\n",
       "      <th>Petal.Width</th>\n",
       "      <th>Species</th>\n",
       "      <th>Petal.Ratio</th>\n",
       "      <th>Sepal.Ratio</th>\n",
       "    </tr>\n",
       "  </thead>\n",
       "  <tbody>\n",
       "    <tr>\n",
       "      <th>0</th>\n",
       "      <td>5.1</td>\n",
       "      <td>3.5</td>\n",
       "      <td>1.4</td>\n",
       "      <td>0.2</td>\n",
       "      <td>setosa</td>\n",
       "      <td>7.0</td>\n",
       "      <td>1.46</td>\n",
       "    </tr>\n",
       "    <tr>\n",
       "      <th>1</th>\n",
       "      <td>4.9</td>\n",
       "      <td>3.0</td>\n",
       "      <td>1.4</td>\n",
       "      <td>0.2</td>\n",
       "      <td>setosa</td>\n",
       "      <td>7.0</td>\n",
       "      <td>1.63</td>\n",
       "    </tr>\n",
       "    <tr>\n",
       "      <th>2</th>\n",
       "      <td>4.7</td>\n",
       "      <td>3.2</td>\n",
       "      <td>1.3</td>\n",
       "      <td>0.2</td>\n",
       "      <td>setosa</td>\n",
       "      <td>6.5</td>\n",
       "      <td>1.47</td>\n",
       "    </tr>\n",
       "    <tr>\n",
       "      <th>3</th>\n",
       "      <td>4.6</td>\n",
       "      <td>3.1</td>\n",
       "      <td>1.5</td>\n",
       "      <td>0.2</td>\n",
       "      <td>setosa</td>\n",
       "      <td>7.5</td>\n",
       "      <td>1.48</td>\n",
       "    </tr>\n",
       "    <tr>\n",
       "      <th>4</th>\n",
       "      <td>5.0</td>\n",
       "      <td>3.6</td>\n",
       "      <td>1.4</td>\n",
       "      <td>0.2</td>\n",
       "      <td>setosa</td>\n",
       "      <td>7.0</td>\n",
       "      <td>1.39</td>\n",
       "    </tr>\n",
       "  </tbody>\n",
       "</table>\n",
       "</div>"
      ],
      "text/plain": [
       "   Sepal.Length  Sepal.Width  Petal.Length  Petal.Width Species  Petal.Ratio  \\\n",
       "0           5.1          3.5           1.4          0.2  setosa          7.0   \n",
       "1           4.9          3.0           1.4          0.2  setosa          7.0   \n",
       "2           4.7          3.2           1.3          0.2  setosa          6.5   \n",
       "3           4.6          3.1           1.5          0.2  setosa          7.5   \n",
       "4           5.0          3.6           1.4          0.2  setosa          7.0   \n",
       "\n",
       "   Sepal.Ratio  \n",
       "0         1.46  \n",
       "1         1.63  \n",
       "2         1.47  \n",
       "3         1.48  \n",
       "4         1.39  "
      ]
     },
     "execution_count": 45,
     "metadata": {},
     "output_type": "execute_result"
    }
   ],
   "source": [
    "data.head()"
   ]
  },
  {
   "cell_type": "markdown",
   "metadata": {},
   "source": [
    "4. Save your corrected and extended DataFrame to a csv file called __iris_corrected.csv__. (This file does not need to be included in your submission.)"
   ]
  },
  {
   "cell_type": "code",
   "execution_count": 46,
   "metadata": {},
   "outputs": [],
   "source": [
    "export_csv = data.to_csv(r'iris_corrected.csv', index=None, header=True)"
   ]
  },
  {
   "cell_type": "markdown",
   "metadata": {},
   "source": [
    "5. Use a $pandas$ aggregate operation to determine the mean, median, minimum, maximum and standard deviation of the petal and sepal ratio for each of the three species in the data set. __Note:__ you should be able to get all five numbers in a single table (indeed, in a single line of code) using a well-chosen group-by or aggregate operation."
   ]
  },
  {
   "cell_type": "code",
   "execution_count": 47,
   "metadata": {},
   "outputs": [
    {
     "data": {
      "text/html": [
       "<div>\n",
       "<style scoped>\n",
       "    .dataframe tbody tr th:only-of-type {\n",
       "        vertical-align: middle;\n",
       "    }\n",
       "\n",
       "    .dataframe tbody tr th {\n",
       "        vertical-align: top;\n",
       "    }\n",
       "\n",
       "    .dataframe thead tr th {\n",
       "        text-align: left;\n",
       "    }\n",
       "\n",
       "    .dataframe thead tr:last-of-type th {\n",
       "        text-align: right;\n",
       "    }\n",
       "</style>\n",
       "<table border=\"1\" class=\"dataframe\">\n",
       "  <thead>\n",
       "    <tr>\n",
       "      <th></th>\n",
       "      <th colspan=\"5\" halign=\"left\">Petal.Ratio</th>\n",
       "      <th colspan=\"5\" halign=\"left\">Sepal.Ratio</th>\n",
       "    </tr>\n",
       "    <tr>\n",
       "      <th></th>\n",
       "      <th>min</th>\n",
       "      <th>max</th>\n",
       "      <th>median</th>\n",
       "      <th>mean</th>\n",
       "      <th>std</th>\n",
       "      <th>min</th>\n",
       "      <th>max</th>\n",
       "      <th>median</th>\n",
       "      <th>mean</th>\n",
       "      <th>std</th>\n",
       "    </tr>\n",
       "    <tr>\n",
       "      <th>Species</th>\n",
       "      <th></th>\n",
       "      <th></th>\n",
       "      <th></th>\n",
       "      <th></th>\n",
       "      <th></th>\n",
       "      <th></th>\n",
       "      <th></th>\n",
       "      <th></th>\n",
       "      <th></th>\n",
       "      <th></th>\n",
       "    </tr>\n",
       "  </thead>\n",
       "  <tbody>\n",
       "    <tr>\n",
       "      <th>setosa</th>\n",
       "      <td>2.67</td>\n",
       "      <td>15.0</td>\n",
       "      <td>7.00</td>\n",
       "      <td>6.9082</td>\n",
       "      <td>2.854377</td>\n",
       "      <td>1.27</td>\n",
       "      <td>1.96</td>\n",
       "      <td>1.465</td>\n",
       "      <td>1.4706</td>\n",
       "      <td>0.119188</td>\n",
       "    </tr>\n",
       "    <tr>\n",
       "      <th>versicolor</th>\n",
       "      <td>2.67</td>\n",
       "      <td>4.1</td>\n",
       "      <td>3.24</td>\n",
       "      <td>3.2434</td>\n",
       "      <td>0.312414</td>\n",
       "      <td>1.76</td>\n",
       "      <td>2.82</td>\n",
       "      <td>2.160</td>\n",
       "      <td>2.1608</td>\n",
       "      <td>0.228802</td>\n",
       "    </tr>\n",
       "    <tr>\n",
       "      <th>virginica</th>\n",
       "      <td>2.12</td>\n",
       "      <td>4.0</td>\n",
       "      <td>2.67</td>\n",
       "      <td>2.7804</td>\n",
       "      <td>0.407210</td>\n",
       "      <td>1.82</td>\n",
       "      <td>2.96</td>\n",
       "      <td>2.170</td>\n",
       "      <td>2.2308</td>\n",
       "      <td>0.247261</td>\n",
       "    </tr>\n",
       "  </tbody>\n",
       "</table>\n",
       "</div>"
      ],
      "text/plain": [
       "           Petal.Ratio                                Sepal.Ratio        \\\n",
       "                   min   max median    mean       std         min   max   \n",
       "Species                                                                   \n",
       "setosa            2.67  15.0   7.00  6.9082  2.854377        1.27  1.96   \n",
       "versicolor        2.67   4.1   3.24  3.2434  0.312414        1.76  2.82   \n",
       "virginica         2.12   4.0   2.67  2.7804  0.407210        1.82  2.96   \n",
       "\n",
       "                                     \n",
       "           median    mean       std  \n",
       "Species                              \n",
       "setosa      1.465  1.4706  0.119188  \n",
       "versicolor  2.160  2.1608  0.228802  \n",
       "virginica   2.170  2.2308  0.247261  "
      ]
     },
     "execution_count": 47,
     "metadata": {},
     "output_type": "execute_result"
    }
   ],
   "source": [
    "data[['Petal.Ratio', 'Sepal.Ratio', 'Species']].groupby('Species').aggregate(\n",
    "    ['min', 'max', 'median', 'mean', 'std'])"
   ]
  },
  {
   "cell_type": "markdown",
   "metadata": {},
   "source": [
    "## Problem 3: Plotting Dataframes: Major League Baseball (8 points)\n",
    "\n",
    "\n",
    "__Requisite legal boilerplate:__ The information used here was obtained free of charge from and is copyrighted by Retrosheet.  Interested parties may contact [Retrosheet](www.retrosheet.org)."
   ]
  },
  {
   "cell_type": "markdown",
   "metadata": {},
   "source": [
    "1. Read the data into a table called __mlb_df__. Each row of the table represents the outcome of a single game from the 2018 MLB season. Take note that the file does not have columns names; see the __header__ keyword to the __pandas.read_csv__ function. The columns are explained in a __.txt__ file which you can download from https://www.retrosheet.org/gamelogs/glfields.txt, but we will only make use of a few of them in this problem. The 10-th and 11-th columns (using 1-indexing) are the scores of the visiting and home teams, respectively. Rename these columns __v_score__ and __h_score__, respectively. MLB comprises two leagues, the American League and the National League, encoded as __AL__ and __NL__ in the table. The 5-th and 8-th columns (also 1-indexed) are the league affiliations of the visiting and home team, respectively. Rename these columns __v_league__ and __h_league__."
   ]
  },
  {
   "cell_type": "code",
   "execution_count": 48,
   "metadata": {},
   "outputs": [],
   "source": [
    "mlb_df = pd.read_csv('GL2018.TXT')"
   ]
  },
  {
   "cell_type": "code",
   "execution_count": 49,
   "metadata": {},
   "outputs": [],
   "source": [
    "mlb_df = mlb_df.rename(columns={'NL': 'v_league', 'NL.1': 'h_league',\n",
    "                                '2': 'v_score', '8': 'h_score'})"
   ]
  },
  {
   "cell_type": "code",
   "execution_count": 50,
   "metadata": {},
   "outputs": [
    {
     "data": {
      "text/html": [
       "<div>\n",
       "<style scoped>\n",
       "    .dataframe tbody tr th:only-of-type {\n",
       "        vertical-align: middle;\n",
       "    }\n",
       "\n",
       "    .dataframe tbody tr th {\n",
       "        vertical-align: top;\n",
       "    }\n",
       "\n",
       "    .dataframe thead th {\n",
       "        text-align: right;\n",
       "    }\n",
       "</style>\n",
       "<table border=\"1\" class=\"dataframe\">\n",
       "  <thead>\n",
       "    <tr style=\"text-align: right;\">\n",
       "      <th></th>\n",
       "      <th>v_league</th>\n",
       "      <th>1</th>\n",
       "      <th>ARI</th>\n",
       "      <th>h_league</th>\n",
       "      <th>1.1</th>\n",
       "      <th>v_score</th>\n",
       "      <th>h_score</th>\n",
       "    </tr>\n",
       "  </thead>\n",
       "  <tbody>\n",
       "    <tr>\n",
       "      <th>0</th>\n",
       "      <td>NL</td>\n",
       "      <td>1</td>\n",
       "      <td>ATL</td>\n",
       "      <td>NL</td>\n",
       "      <td>1</td>\n",
       "      <td>5</td>\n",
       "      <td>8</td>\n",
       "    </tr>\n",
       "    <tr>\n",
       "      <th>1</th>\n",
       "      <td>NL</td>\n",
       "      <td>1</td>\n",
       "      <td>LAN</td>\n",
       "      <td>NL</td>\n",
       "      <td>1</td>\n",
       "      <td>1</td>\n",
       "      <td>0</td>\n",
       "    </tr>\n",
       "    <tr>\n",
       "      <th>2</th>\n",
       "      <td>NL</td>\n",
       "      <td>1</td>\n",
       "      <td>MIA</td>\n",
       "      <td>NL</td>\n",
       "      <td>1</td>\n",
       "      <td>8</td>\n",
       "      <td>4</td>\n",
       "    </tr>\n",
       "    <tr>\n",
       "      <th>3</th>\n",
       "      <td>NL</td>\n",
       "      <td>1</td>\n",
       "      <td>NYN</td>\n",
       "      <td>NL</td>\n",
       "      <td>1</td>\n",
       "      <td>4</td>\n",
       "      <td>9</td>\n",
       "    </tr>\n",
       "    <tr>\n",
       "      <th>4</th>\n",
       "      <td>NL</td>\n",
       "      <td>1</td>\n",
       "      <td>SDN</td>\n",
       "      <td>NL</td>\n",
       "      <td>1</td>\n",
       "      <td>2</td>\n",
       "      <td>1</td>\n",
       "    </tr>\n",
       "    <tr>\n",
       "      <th>...</th>\n",
       "      <td>...</td>\n",
       "      <td>...</td>\n",
       "      <td>...</td>\n",
       "      <td>...</td>\n",
       "      <td>...</td>\n",
       "      <td>...</td>\n",
       "      <td>...</td>\n",
       "    </tr>\n",
       "    <tr>\n",
       "      <th>2425</th>\n",
       "      <td>AL</td>\n",
       "      <td>162</td>\n",
       "      <td>MIN</td>\n",
       "      <td>AL</td>\n",
       "      <td>162</td>\n",
       "      <td>4</td>\n",
       "      <td>5</td>\n",
       "    </tr>\n",
       "    <tr>\n",
       "      <th>2426</th>\n",
       "      <td>AL</td>\n",
       "      <td>162</td>\n",
       "      <td>SEA</td>\n",
       "      <td>AL</td>\n",
       "      <td>162</td>\n",
       "      <td>1</td>\n",
       "      <td>3</td>\n",
       "    </tr>\n",
       "    <tr>\n",
       "      <th>2427</th>\n",
       "      <td>AL</td>\n",
       "      <td>162</td>\n",
       "      <td>TBA</td>\n",
       "      <td>AL</td>\n",
       "      <td>162</td>\n",
       "      <td>4</td>\n",
       "      <td>9</td>\n",
       "    </tr>\n",
       "    <tr>\n",
       "      <th>2428</th>\n",
       "      <td>NL</td>\n",
       "      <td>163</td>\n",
       "      <td>CHN</td>\n",
       "      <td>NL</td>\n",
       "      <td>163</td>\n",
       "      <td>3</td>\n",
       "      <td>1</td>\n",
       "    </tr>\n",
       "    <tr>\n",
       "      <th>2429</th>\n",
       "      <td>NL</td>\n",
       "      <td>163</td>\n",
       "      <td>LAN</td>\n",
       "      <td>NL</td>\n",
       "      <td>163</td>\n",
       "      <td>2</td>\n",
       "      <td>5</td>\n",
       "    </tr>\n",
       "  </tbody>\n",
       "</table>\n",
       "<p>2430 rows × 7 columns</p>\n",
       "</div>"
      ],
      "text/plain": [
       "     v_league    1  ARI h_league  1.1  v_score  h_score\n",
       "0          NL    1  ATL       NL    1        5        8\n",
       "1          NL    1  LAN       NL    1        1        0\n",
       "2          NL    1  MIA       NL    1        8        4\n",
       "3          NL    1  NYN       NL    1        4        9\n",
       "4          NL    1  SDN       NL    1        2        1\n",
       "...       ...  ...  ...      ...  ...      ...      ...\n",
       "2425       AL  162  MIN       AL  162        4        5\n",
       "2426       AL  162  SEA       AL  162        1        3\n",
       "2427       AL  162  TBA       AL  162        4        9\n",
       "2428       NL  163  CHN       NL  163        3        1\n",
       "2429       NL  163  LAN       NL  163        2        5\n",
       "\n",
       "[2430 rows x 7 columns]"
      ]
     },
     "execution_count": 50,
     "metadata": {},
     "output_type": "execute_result"
    }
   ],
   "source": [
    "mlb_df[mlb_df.columns[4:11]]"
   ]
  },
  {
   "cell_type": "markdown",
   "metadata": {},
   "source": [
    "2. Create a plot with two subplots, placed side-by-side. Each subplot should be a scatter plot in which the x- and y-axes correspond to the home and visitor scores, respectively, and in which each point corresponds to a game from the season. In the left-hand plot, include all games in which both teams were in the NL, and in the right-hand plot, include all games in which both teams were in the AL. Games in which the teams were from different leagues should be ignored. Specify the transparency (cf. the __alpha__ parameter in the __matplotlib__ documentation) so that scores that occur more often will be shaded darker than rare scores. Color the points in the scatter plot according to the league affiliation of the two teams as follows: games between two teams both in the AL should be rendered as red points in the scatter plot. Games between two teams both in the NL should be rendered as blue points in the scatter plot. Label your axes and provide an appropriate title for your plot as well as its subplots. Save your plot in a pdf file called __home_vs_away_scores.pdf__. This file does not need to be including in your submission. __Note:__ you may find it useful to create an extra column in the encoding whether a given game is AL vs AL, NL vs NL or mixed."
   ]
  },
  {
   "cell_type": "code",
   "execution_count": 51,
   "metadata": {},
   "outputs": [],
   "source": [
    "conditions = [(mlb_df['v_league'] == 'AL') & (mlb_df['h_league'] == 'AL'),\n",
    "              (mlb_df['v_league'] == 'NL') & (mlb_df['h_league'] == 'NL'), ]\n",
    "choices = ['AL', 'NL']\n",
    "mlb_df['v_h_league'] = np.select(conditions, choices, default='mixed')\n",
    "mlb_df_al = mlb_df[mlb_df['v_h_league'] == 'AL']\n",
    "mlb_df_nl = mlb_df[mlb_df['v_h_league'] == 'NL']"
   ]
  },
  {
   "cell_type": "code",
   "execution_count": 52,
   "metadata": {},
   "outputs": [
    {
     "data": {
      "image/png": "[encoded data removed]",
      "text/plain": [
       "<Figure size 432x288 with 2 Axes>"
      ]
     },
     "metadata": {
      "needs_background": "light"
     },
     "output_type": "display_data"
    }
   ],
   "source": [
    "fig, ax = plt.subplots(1, 2)\n",
    "fig.suptitle('Home vs Away Scores in Leagues')\n",
    "\n",
    "ax[0].scatter(mlb_df_nl['h_score'], mlb_df_nl['v_score'], alpha=0.1, c='blue')\n",
    "ax[0].set_title(\"NL League Scores\")\n",
    "ax[0].set_xlabel('Home Score')\n",
    "ax[0].set_ylabel('Vistor Score')\n",
    "\n",
    "ax[1].scatter(mlb_df_al['h_score'], mlb_df_al['v_score'], alpha=0.1, c='red')\n",
    "ax[1].set_title(\"AL League Scores\")\n",
    "ax[1].set_xlabel('Home Score')\n",
    "ax[1].set_ylabel('Vistor Score')\n",
    "fig.tight_layout()\n",
    "\n",
    "fig.subplots_adjust(top=0.85)\n",
    "plt.savefig('home_vs_away_scores.pdf')\n",
    "plt.show()"
   ]
  },
  {
   "cell_type": "markdown",
   "metadata": {},
   "source": [
    "3. The Skellam distribution https://en.wikipedia.org/wiki/Skellam_distribution) is the distribution that results from taking the difference between two Poisson random variables. It is often suggested as a model for the difference between scores in sports games, particularly baseball. Add a new column to the data frame called __score_diff__, given by the home score minus the away score. Make a histogram of this score difference and give the plot an appropriate title."
   ]
  },
  {
   "cell_type": "code",
   "execution_count": 53,
   "metadata": {},
   "outputs": [],
   "source": [
    "mlb_df['score_diff'] = mlb_df['h_score'] - mlb_df['v_score']"
   ]
  },
  {
   "cell_type": "code",
   "execution_count": 54,
   "metadata": {},
   "outputs": [
    {
     "data": {
      "image/png": "[encoded data removed]",
      "text/plain": [
       "<Figure size 432x288 with 1 Axes>"
      ]
     },
     "metadata": {
      "needs_background": "light"
     },
     "output_type": "display_data"
    }
   ],
   "source": [
    "plt.hist(mlb_df['score_diff'], bins=20)\n",
    "plt.title('Difference Between Home Score and Vistor Score')\n",
    "plt.show()"
   ]
  },
  {
   "cell_type": "markdown",
   "metadata": {},
   "source": [
    "4. Read the documentation about the __scipy__ implementation of the Skellam distribution at https://docs.scipy.org/doc/scipy/reference/generated/scipy.stats.skellam.html . If $\\lambda_H$ and $\\lambda_V$ are the means of two independent Poisson random variables $K_H$ and $K_V$, respectively, then the Skellam distribution that describes the difference $K_H - K_V$ has parameters $\\lambda_H$ and $\\lambda_V$. We will assume (perhaps incorrectly) that the correlation and location parameters of the Skellam distribution are both $0$. To fit a Skellam distribution to the data, we will first fit Poisson distributions to the home and away teams. Estimate parameters $\\hat{\\lambda}_H$ and $\\hat{\\lambda}_V$ as the means of the home and visitor scores, respectively. Save your estimates in variables __lambda_home__ and __lambda_visitor__, respectively."
   ]
  },
  {
   "cell_type": "code",
   "execution_count": 55,
   "metadata": {},
   "outputs": [],
   "source": [
    "lambda_home = mlb_df['h_score'].mean()\n",
    "lambda_visitor = mlb_df['v_score'].mean()"
   ]
  },
  {
   "cell_type": "markdown",
   "metadata": {},
   "source": [
    "5. Now let's run a goodness-of-fit test to see how well the Skellam distribution matches our data. There are several ways to do this, but we will use the $\\chi^2$ test, which is available in __scipy__ as __scipy.stats.chisquare__ (documentation here: https://docs.scipy.org/doc/scipy/reference/generated/scipy.stats.chisquare.html ). There are two problems we must address. First, the Skellam distribution predicts that sometimes $K_H = K_V$, which cannot happen in our data because ties are not allowed in baseball (play continues until a team wins https://en.wikipedia.org/wiki/Longest_professional_baseball_game), so our model should really be the Skellam distribution conditioned on the fact that $K_H \\neq K_V$. Second, the $\\chi^2$ test as implemented in __scipy__ requires that the observed and expected frequencies be finite-length arrays, but the Skellam distribution gives non-zero probability to every possible integer value. To account for these two issues, we will model the score difference as a Skellam distribution conditioned on the event that $K_H \\neq K_V$ and $|K_H-K_V| \\le 30$ ($36$ is the most runs ever scored by one team in a baseball game, so $30$ is a reasonable upper bound for our purposes). Use the __scipy__ implementation of the $\\chi^2$ test to assess the fit of our model to the data (use the default delta degrees of freedom, __ddof=0__). Save the resulting p-value and the test statistic in variables named __chi2pvalue__ and __chi2stat__, respectively. Does our model agree with the data? What changes might we consider to improve the fit of our model (a few sentences will suffice here--- no need to implement any of these improvements unless you really want to)?"
   ]
  },
  {
   "cell_type": "markdown",
   "metadata": {},
   "source": [
    "Answer: \n",
    "From the last block in this problem we could see that the \"chi2stat\" is 1395521 and the \"chi2pvalue\" is 0. Both these numbers indicate that the data does not agree with our Skellman model. From two plots at bottom, we could found that the distribution for observed data has wider spread than our Skellman model's data, so one way to improve the fit of our model is to make our model has wider spread shape rather than putting too much emphasis in the center.  "
   ]
  },
  {
   "cell_type": "code",
   "execution_count": 57,
   "metadata": {},
   "outputs": [],
   "source": [
    "from scipy.stats import chisquare\n",
    "from scipy.stats import skellam"
   ]
  },
  {
   "cell_type": "code",
   "execution_count": 58,
   "metadata": {},
   "outputs": [],
   "source": [
    "mu_1 = lambda_home\n",
    "mu_2 = lambda_visitor"
   ]
  },
  {
   "cell_type": "code",
   "execution_count": 59,
   "metadata": {},
   "outputs": [],
   "source": [
    "p_less = skellam.cdf(-30, mu_1, mu_2)\n",
    "p_zero = skellam.pmf(0, mu_1, mu_2)\n",
    "p_more = 1 - skellam.cdf(30, mu_1, mu_2)\n",
    "p = 1 - p_less - p_zero - p_more\n",
    "\n",
    "counts = pd.Series.value_counts(mlb_df['score_diff'])\n",
    "exp = np.arange(-30, 30)\n",
    "exp[30:] += 1\n",
    "exp_freq = skellam.pmf(exp, mu_1, mu_2)/p*mlb_df['score_diff'].shape[0]\n",
    "\n",
    "counts.index = np.where(counts.index > 0, counts.index+29, counts.index+30)\n",
    "container = np.zeros(60)\n",
    "container[counts.index] = counts.values"
   ]
  },
  {
   "cell_type": "code",
   "execution_count": 60,
   "metadata": {},
   "outputs": [
    {
     "name": "stdout",
     "output_type": "stream",
     "text": [
      "1395521.947708178, 0.0\n"
     ]
    }
   ],
   "source": [
    "chi2stat, chi2pvalue = chisquare(container, exp_freq, ddof=0)\n",
    "print(\"{}, {}\".format(chi2stat, chi2pvalue))"
   ]
  },
  {
   "cell_type": "code",
   "execution_count": 61,
   "metadata": {},
   "outputs": [
    {
     "data": {
      "image/png": "[encoded data removed]",
      "text/plain": [
       "<Figure size 432x288 with 2 Axes>"
      ]
     },
     "metadata": {
      "needs_background": "light"
     },
     "output_type": "display_data"
    }
   ],
   "source": [
    "plt.subplot(2, 1, 1)\n",
    "plt.bar(exp, container)\n",
    "plt.title(\"Observed value for score difference\")\n",
    "plt.xlabel(\"score difference\")\n",
    "plt.ylabel(\"frequency\")\n",
    "\n",
    "plt.subplot(2, 1, 2)\n",
    "plt.bar(exp, exp_freq)\n",
    "plt.title(\"Expected value for score difference\")\n",
    "plt.xlabel(\"score difference\")\n",
    "plt.ylabel(\"frequency\")\n",
    "\n",
    "_ = plt.tight_layout()"
   ]
  }
 ],
 "metadata": {
  "kernelspec": {
   "display_name": "Python 3",
   "language": "python",
   "name": "python3"
  },
  "language_info": {
   "codemirror_mode": {
    "name": "ipython",
    "version": 3
   },
   "file_extension": ".py",
   "mimetype": "text/x-python",
   "name": "python",
   "nbconvert_exporter": "python",
   "pygments_lexer": "ipython3",
   "version": "3.7.4"
  }
 },
 "nbformat": 4,
 "nbformat_minor": 2
}
