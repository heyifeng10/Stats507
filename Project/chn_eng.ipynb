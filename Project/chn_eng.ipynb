{
 "cells": [
  {
   "cell_type": "code",
   "execution_count": 2,
   "metadata": {},
   "outputs": [],
   "source": [
    "import pandas as pd"
   ]
  },
  {
   "cell_type": "code",
   "execution_count": 6,
   "metadata": {},
   "outputs": [],
   "source": [
    "auth = pd.read_csv('C:/Users/Vance He/Desktop/UMich/2020_WN/STATS507/project/AI_risk_train_V3.0/train_auth_info.csv')\n",
    "bankcard = pd.read_csv('C:/Users/Vance He/Desktop/UMich/2020_WN/STATS507/project/AI_risk_train_V3.0/train_bankcard_info.csv', encoding = 'gbk')\n",
    "credit = pd.read_csv('C:/Users/Vance He/Desktop/UMich/2020_WN/STATS507/project/AI_risk_train_V3.0/train_credit_info.csv')"
   ]
  },
  {
   "cell_type": "code",
   "execution_count": 69,
   "metadata": {},
   "outputs": [],
   "source": [
    "order = pd.read_csv('C:/Users/Vance He/Desktop/UMich/2020_WN/STATS507/project/AI_risk_train_V3.0/train_order_info.csv', encoding = 'gbk')"
   ]
  },
  {
   "cell_type": "code",
   "execution_count": 45,
   "metadata": {},
   "outputs": [],
   "source": [
    "addr = pd.read_csv('C:/Users/Vance He/Desktop/UMich/2020_WN/STATS507/project/AI_risk_train_V3.0/train_recieve_addr_info.csv', encoding = 'gbk')\n",
    "target = pd.read_csv('C:/Users/Vance He/Desktop/UMich/2020_WN/STATS507/project/AI_risk_train_V3.0/train_target.csv')\n",
    "user = pd.read_csv('C:/Users/Vance He/Desktop/UMich/2020_WN/STATS507/project/AI_risk_train_V3.0/train_user_info.csv', encoding = 'gbk')"
   ]
  },
  {
   "cell_type": "code",
   "execution_count": 10,
   "metadata": {},
   "outputs": [
    {
     "data": {
      "text/html": [
       "<div>\n",
       "<style scoped>\n",
       "    .dataframe tbody tr th:only-of-type {\n",
       "        vertical-align: middle;\n",
       "    }\n",
       "\n",
       "    .dataframe tbody tr th {\n",
       "        vertical-align: top;\n",
       "    }\n",
       "\n",
       "    .dataframe thead th {\n",
       "        text-align: right;\n",
       "    }\n",
       "</style>\n",
       "<table border=\"1\" class=\"dataframe\">\n",
       "  <thead>\n",
       "    <tr style=\"text-align: right;\">\n",
       "      <th></th>\n",
       "      <th>id_card</th>\n",
       "      <th>auth_time</th>\n",
       "      <th>phone</th>\n",
       "      <th>id</th>\n",
       "    </tr>\n",
       "  </thead>\n",
       "  <tbody>\n",
       "    <tr>\n",
       "      <th>0</th>\n",
       "      <td>4****************0</td>\n",
       "      <td>2017-06-10</td>\n",
       "      <td>132****2008</td>\n",
       "      <td>501951980776722440</td>\n",
       "    </tr>\n",
       "    <tr>\n",
       "      <th>1</th>\n",
       "      <td>NaN</td>\n",
       "      <td>NaN</td>\n",
       "      <td>187*****500</td>\n",
       "      <td>525890212484616200</td>\n",
       "    </tr>\n",
       "    <tr>\n",
       "      <th>2</th>\n",
       "      <td>5****************9</td>\n",
       "      <td>2015-10-10</td>\n",
       "      <td>135****3522</td>\n",
       "      <td>599309364691472392</td>\n",
       "    </tr>\n",
       "    <tr>\n",
       "      <th>3</th>\n",
       "      <td>NaN</td>\n",
       "      <td>NaN</td>\n",
       "      <td>136*****651</td>\n",
       "      <td>582559913071350024</td>\n",
       "    </tr>\n",
       "    <tr>\n",
       "      <th>4</th>\n",
       "      <td>3****************0</td>\n",
       "      <td>2016-12-19</td>\n",
       "      <td>137****4241</td>\n",
       "      <td>599017959926534408</td>\n",
       "    </tr>\n",
       "  </tbody>\n",
       "</table>\n",
       "</div>"
      ],
      "text/plain": [
       "              id_card   auth_time        phone                  id\n",
       "0  4****************0  2017-06-10  132****2008  501951980776722440\n",
       "1                 NaN         NaN  187*****500  525890212484616200\n",
       "2  5****************9  2015-10-10  135****3522  599309364691472392\n",
       "3                 NaN         NaN  136*****651  582559913071350024\n",
       "4  3****************0  2016-12-19  137****4241  599017959926534408"
      ]
     },
     "execution_count": 10,
     "metadata": {},
     "output_type": "execute_result"
    }
   ],
   "source": [
    "auth.head()"
   ]
  },
  {
   "cell_type": "code",
   "execution_count": 11,
   "metadata": {},
   "outputs": [
    {
     "data": {
      "text/html": [
       "<div>\n",
       "<style scoped>\n",
       "    .dataframe tbody tr th:only-of-type {\n",
       "        vertical-align: middle;\n",
       "    }\n",
       "\n",
       "    .dataframe tbody tr th {\n",
       "        vertical-align: top;\n",
       "    }\n",
       "\n",
       "    .dataframe thead th {\n",
       "        text-align: right;\n",
       "    }\n",
       "</style>\n",
       "<table border=\"1\" class=\"dataframe\">\n",
       "  <thead>\n",
       "    <tr style=\"text-align: right;\">\n",
       "      <th></th>\n",
       "      <th>bank_name</th>\n",
       "      <th>tail_num</th>\n",
       "      <th>card_type</th>\n",
       "      <th>phone</th>\n",
       "      <th>id</th>\n",
       "    </tr>\n",
       "  </thead>\n",
       "  <tbody>\n",
       "    <tr>\n",
       "      <th>0</th>\n",
       "      <td>中信银行</td>\n",
       "      <td>9753</td>\n",
       "      <td>储蓄卡</td>\n",
       "      <td>177****8427</td>\n",
       "      <td>5.854010e+17</td>\n",
       "    </tr>\n",
       "    <tr>\n",
       "      <th>1</th>\n",
       "      <td>农业银行</td>\n",
       "      <td>2174</td>\n",
       "      <td>储蓄卡</td>\n",
       "      <td>150****4551</td>\n",
       "      <td>5.876950e+17</td>\n",
       "    </tr>\n",
       "    <tr>\n",
       "      <th>2</th>\n",
       "      <td>中国交通银行</td>\n",
       "      <td>4832</td>\n",
       "      <td>信用卡</td>\n",
       "      <td>185****1989</td>\n",
       "      <td>6.020980e+17</td>\n",
       "    </tr>\n",
       "    <tr>\n",
       "      <th>3</th>\n",
       "      <td>北京银行</td>\n",
       "      <td>5697</td>\n",
       "      <td>储蓄卡</td>\n",
       "      <td>186****1634</td>\n",
       "      <td>5.672050e+17</td>\n",
       "    </tr>\n",
       "    <tr>\n",
       "      <th>4</th>\n",
       "      <td>中信银行</td>\n",
       "      <td>7703</td>\n",
       "      <td>储蓄卡</td>\n",
       "      <td>158****7655</td>\n",
       "      <td>5.775380e+17</td>\n",
       "    </tr>\n",
       "  </tbody>\n",
       "</table>\n",
       "</div>"
      ],
      "text/plain": [
       "  bank_name  tail_num card_type        phone            id\n",
       "0      中信银行      9753       储蓄卡  177****8427  5.854010e+17\n",
       "1      农业银行      2174       储蓄卡  150****4551  5.876950e+17\n",
       "2    中国交通银行      4832       信用卡  185****1989  6.020980e+17\n",
       "3      北京银行      5697       储蓄卡  186****1634  5.672050e+17\n",
       "4      中信银行      7703       储蓄卡  158****7655  5.775380e+17"
      ]
     },
     "execution_count": 11,
     "metadata": {},
     "output_type": "execute_result"
    }
   ],
   "source": [
    "bankcard.head()"
   ]
  },
  {
   "cell_type": "code",
   "execution_count": 12,
   "metadata": {},
   "outputs": [],
   "source": [
    "bank_name = {'中信银行': 'citic', '工商银行': 'icbc', '中国邮政': 'post', '招商银行': 'cmb', '中国银行': 'boc', '民生银行': 'cmbc',\n",
    "\t\t\t'广发银行': 'gdb', '交通银行': 'bcom', '中国交通银行': 'bcom', '建设银行': 'ccb', '北京银行': 'bob', '平安银行': 'pab',\n",
    "\t\t\t'光大银行': 'ceb', '兴业银行': 'cib', '浦发银行': 'spdb', '华夏银行': 'hxb', '江苏银行': 'jsb', '东莞农村商业银行': 'drcb',\n",
    "\t\t\t'河北省农村信用社': 'hbnx', '深圳农村商业银行': 'szrcb', '龙江银行': 'bolj', '浙江泰隆银行': 'zjtlcb', '广西农村信用社': 'gxnx',\n",
    "\t\t\t'江苏农村商业银行': 'jsnx', '湖南农村信用社': 'hunnx', '汉口银行': 'hkb', '北京农商行': 'bjrcb', '济宁银行': 'bojn',\n",
    "\t\t\t'深圳发展银行': 'sdb', '河南省信用社': 'hnnx', '上海农商行': 'srcb', '重庆农商行': 'cqrcb', '盛京银行': 'bosj', '吉林省农村信用社': 'jlnx',\n",
    "\t\t\t'广州农商行': 'grcb', '徽商银行': 'hsb', '四川省农村信用社': 'scnx', '浙商银行': 'czb', '杭州银行': 'hzb', '宁波银行': 'nbcb',\n",
    "\t\t\t'云南省农村农信社': 'ynnx', '包商银行': 'bsb', '海南省农村信用社': 'hnrcc', '贵阳银行': 'bogy', '黑龙江农村信用社': 'hljnx',\n",
    "\t\t\t'湖北银行': 'hbcl', '南京银行': 'njcb', '南昌银行': 'bonc', '营口银行': 'boyk', '晋中银行': 'jzcb', '张家港农商银行': 'zjgrcb',\n",
    "\t\t\t'内蒙古农村信用社': 'nmgnx', '陕西省农村信用社': 'shxnx', '厦门银行': 'boxm', '吉林银行': 'bojl', '长安银行': 'chab', '桂林银行': 'bogl',\n",
    "\t\t\t'临商银行': 'lsb', '广州市农村信用社': 'gzrcc', '温州银行': 'wzcb', '湖北省农村信用社': 'hubnx', '日照银行': 'rzb', '甘肃省农村信用社': 'gsnx',\n",
    "\t\t\t'哈尔滨银行': 'bohrb', '华融湘江银行': 'boxj', '兰州银行': 'lzcb', '青岛银行': 'qdccb', '锦州银行': 'jzb', '昆山农商银行': 'ksrcb',\n",
    "\t\t\t'台州银行': 'botz', '农业银行': 'abc', '青海省农村信用社': 'qhnx', '上海银行': 'shb', '九江银行': 'jjccb', '贵州省农村信用社': 'gznx',\n",
    "\t\t\t'恒丰银行': 'egb', '成都农商银行': 'cdrcb', '西安银行': 'boxa', '成都银行': 'bocd', '中国光大银行': 'ceb', '中国民生银行': 'cmbc',\n",
    "\t\t\t'云南省农村信用社': 'ynnx', '北京农村商业银行': 'bjrcb', '广州农村商业银行': 'grcb', '河南省农村信用社': 'hnnx', '重庆农村商业银行': 'cqrcb',\n",
    "\t\t\t'黑龙江农信': 'hljnx', '上海农村商业银行': 'srcb', '渤海银行': 'cbhb', '顺德农商银行': 'sdeb', '微众银行': 'webank', '邮政储蓄': 'post',\n",
    "\t\t\t'韩亚银行': 'hanabank', '浙江农信银行': 'zjnx', '中原银行': 'zyb', '天津滨海农村商业银行': 'tjrcb', '天津农商银行': 'tjrcb', '储蓄卡': 'debit', '信用卡': 'credit'}"
   ]
  },
  {
   "cell_type": "code",
   "execution_count": 13,
   "metadata": {},
   "outputs": [],
   "source": [
    "def translate(x):\n",
    "    try:\n",
    "        return bank_name[x]\n",
    "    except:\n",
    "        if pd.isnull(x):\n",
    "            return 'unknown'\n",
    "        return x"
   ]
  },
  {
   "cell_type": "code",
   "execution_count": 15,
   "metadata": {},
   "outputs": [],
   "source": [
    "bankcard['bank_name'] = bankcard['bank_name'].apply(translate)\n",
    "bankcard['card_type'] = bankcard['card_type'].apply(translate)\n",
    "bankcard.to_csv('C:/Users/Vance He/Desktop/UMich/2020_WN/STATS507/project/project/data/train_bankcard_info_eng.csv')"
   ]
  },
  {
   "cell_type": "code",
   "execution_count": 16,
   "metadata": {},
   "outputs": [
    {
     "data": {
      "text/html": [
       "<div>\n",
       "<style scoped>\n",
       "    .dataframe tbody tr th:only-of-type {\n",
       "        vertical-align: middle;\n",
       "    }\n",
       "\n",
       "    .dataframe tbody tr th {\n",
       "        vertical-align: top;\n",
       "    }\n",
       "\n",
       "    .dataframe thead th {\n",
       "        text-align: right;\n",
       "    }\n",
       "</style>\n",
       "<table border=\"1\" class=\"dataframe\">\n",
       "  <thead>\n",
       "    <tr style=\"text-align: right;\">\n",
       "      <th></th>\n",
       "      <th>bank_name</th>\n",
       "      <th>tail_num</th>\n",
       "      <th>card_type</th>\n",
       "      <th>phone</th>\n",
       "      <th>id</th>\n",
       "    </tr>\n",
       "  </thead>\n",
       "  <tbody>\n",
       "    <tr>\n",
       "      <th>0</th>\n",
       "      <td>citic</td>\n",
       "      <td>9753</td>\n",
       "      <td>debit</td>\n",
       "      <td>177****8427</td>\n",
       "      <td>5.854010e+17</td>\n",
       "    </tr>\n",
       "    <tr>\n",
       "      <th>1</th>\n",
       "      <td>abc</td>\n",
       "      <td>2174</td>\n",
       "      <td>debit</td>\n",
       "      <td>150****4551</td>\n",
       "      <td>5.876950e+17</td>\n",
       "    </tr>\n",
       "    <tr>\n",
       "      <th>2</th>\n",
       "      <td>bcom</td>\n",
       "      <td>4832</td>\n",
       "      <td>credit</td>\n",
       "      <td>185****1989</td>\n",
       "      <td>6.020980e+17</td>\n",
       "    </tr>\n",
       "    <tr>\n",
       "      <th>3</th>\n",
       "      <td>bob</td>\n",
       "      <td>5697</td>\n",
       "      <td>debit</td>\n",
       "      <td>186****1634</td>\n",
       "      <td>5.672050e+17</td>\n",
       "    </tr>\n",
       "    <tr>\n",
       "      <th>4</th>\n",
       "      <td>citic</td>\n",
       "      <td>7703</td>\n",
       "      <td>debit</td>\n",
       "      <td>158****7655</td>\n",
       "      <td>5.775380e+17</td>\n",
       "    </tr>\n",
       "  </tbody>\n",
       "</table>\n",
       "</div>"
      ],
      "text/plain": [
       "  bank_name  tail_num card_type        phone            id\n",
       "0     citic      9753     debit  177****8427  5.854010e+17\n",
       "1       abc      2174     debit  150****4551  5.876950e+17\n",
       "2      bcom      4832    credit  185****1989  6.020980e+17\n",
       "3       bob      5697     debit  186****1634  5.672050e+17\n",
       "4     citic      7703     debit  158****7655  5.775380e+17"
      ]
     },
     "execution_count": 16,
     "metadata": {},
     "output_type": "execute_result"
    }
   ],
   "source": [
    "bankcard.head()"
   ]
  },
  {
   "cell_type": "code",
   "execution_count": 17,
   "metadata": {},
   "outputs": [
    {
     "data": {
      "text/html": [
       "<div>\n",
       "<style scoped>\n",
       "    .dataframe tbody tr th:only-of-type {\n",
       "        vertical-align: middle;\n",
       "    }\n",
       "\n",
       "    .dataframe tbody tr th {\n",
       "        vertical-align: top;\n",
       "    }\n",
       "\n",
       "    .dataframe thead th {\n",
       "        text-align: right;\n",
       "    }\n",
       "</style>\n",
       "<table border=\"1\" class=\"dataframe\">\n",
       "  <thead>\n",
       "    <tr style=\"text-align: right;\">\n",
       "      <th></th>\n",
       "      <th>credit_score</th>\n",
       "      <th>overdraft</th>\n",
       "      <th>quota</th>\n",
       "      <th>id</th>\n",
       "    </tr>\n",
       "  </thead>\n",
       "  <tbody>\n",
       "    <tr>\n",
       "      <th>0</th>\n",
       "      <td>549.0</td>\n",
       "      <td>0.0</td>\n",
       "      <td>0.0</td>\n",
       "      <td>563888070781309192</td>\n",
       "    </tr>\n",
       "    <tr>\n",
       "      <th>1</th>\n",
       "      <td>400.0</td>\n",
       "      <td>0.0</td>\n",
       "      <td>0.0</td>\n",
       "      <td>591567740590887176</td>\n",
       "    </tr>\n",
       "    <tr>\n",
       "      <th>2</th>\n",
       "      <td>490.0</td>\n",
       "      <td>4955.9</td>\n",
       "      <td>5083.0</td>\n",
       "      <td>464888846169936136</td>\n",
       "    </tr>\n",
       "    <tr>\n",
       "      <th>3</th>\n",
       "      <td>387.0</td>\n",
       "      <td>0.0</td>\n",
       "      <td>0.0</td>\n",
       "      <td>514996919311798280</td>\n",
       "    </tr>\n",
       "    <tr>\n",
       "      <th>4</th>\n",
       "      <td>394.0</td>\n",
       "      <td>0.0</td>\n",
       "      <td>0.0</td>\n",
       "      <td>20160629090004442243</td>\n",
       "    </tr>\n",
       "  </tbody>\n",
       "</table>\n",
       "</div>"
      ],
      "text/plain": [
       "   credit_score  overdraft   quota                    id\n",
       "0         549.0        0.0     0.0    563888070781309192\n",
       "1         400.0        0.0     0.0    591567740590887176\n",
       "2         490.0     4955.9  5083.0    464888846169936136\n",
       "3         387.0        0.0     0.0    514996919311798280\n",
       "4         394.0        0.0     0.0  20160629090004442243"
      ]
     },
     "execution_count": 17,
     "metadata": {},
     "output_type": "execute_result"
    }
   ],
   "source": [
    "credit.head()"
   ]
  },
  {
   "cell_type": "code",
   "execution_count": 70,
   "metadata": {},
   "outputs": [
    {
     "data": {
      "text/html": [
       "<div>\n",
       "<style scoped>\n",
       "    .dataframe tbody tr th:only-of-type {\n",
       "        vertical-align: middle;\n",
       "    }\n",
       "\n",
       "    .dataframe tbody tr th {\n",
       "        vertical-align: top;\n",
       "    }\n",
       "\n",
       "    .dataframe thead th {\n",
       "        text-align: right;\n",
       "    }\n",
       "</style>\n",
       "<table border=\"1\" class=\"dataframe\">\n",
       "  <thead>\n",
       "    <tr style=\"text-align: right;\">\n",
       "      <th></th>\n",
       "      <th>amt_order</th>\n",
       "      <th>type_pay</th>\n",
       "      <th>time_order</th>\n",
       "      <th>sts_order</th>\n",
       "      <th>phone</th>\n",
       "      <th>unit_price</th>\n",
       "      <th>id</th>\n",
       "      <th>no_order_md5</th>\n",
       "      <th>name_rec_md5</th>\n",
       "      <th>product_id_md5</th>\n",
       "    </tr>\n",
       "  </thead>\n",
       "  <tbody>\n",
       "    <tr>\n",
       "      <th>0</th>\n",
       "      <td>39.0</td>\n",
       "      <td>在线支付</td>\n",
       "      <td>2017-04-15 09:21:18</td>\n",
       "      <td>等待收货</td>\n",
       "      <td>159****2937</td>\n",
       "      <td>NaN</td>\n",
       "      <td>609460154345197832</td>\n",
       "      <td>ae3b7fd144ff7ee8658d92137a924836</td>\n",
       "      <td>afeb593025b37afbe8179c456b8855f1</td>\n",
       "      <td>NaN</td>\n",
       "    </tr>\n",
       "    <tr>\n",
       "      <th>1</th>\n",
       "      <td>39.0</td>\n",
       "      <td>在线支付</td>\n",
       "      <td>2017-04-15 09:21:18</td>\n",
       "      <td>完成</td>\n",
       "      <td>159****2937</td>\n",
       "      <td>NaN</td>\n",
       "      <td>609460154345197832</td>\n",
       "      <td>ae3b7fd144ff7ee8658d92137a924836</td>\n",
       "      <td>afeb593025b37afbe8179c456b8855f1</td>\n",
       "      <td>NaN</td>\n",
       "    </tr>\n",
       "    <tr>\n",
       "      <th>2</th>\n",
       "      <td>288.0</td>\n",
       "      <td>在线支付</td>\n",
       "      <td>2016-10-24 08:57:06</td>\n",
       "      <td>NaN</td>\n",
       "      <td>137****8223</td>\n",
       "      <td>NaN</td>\n",
       "      <td>609460154345197832</td>\n",
       "      <td>1d7b1294cdbfe24815e39c458cd059d1</td>\n",
       "      <td>eac9416f834d481d7c88da6134468d03</td>\n",
       "      <td>NaN</td>\n",
       "    </tr>\n",
       "    <tr>\n",
       "      <th>3</th>\n",
       "      <td>428.0</td>\n",
       "      <td>在线支付</td>\n",
       "      <td>2016-10-27 20:04:48</td>\n",
       "      <td>完成</td>\n",
       "      <td>137****8223</td>\n",
       "      <td>NaN</td>\n",
       "      <td>609460154345197832</td>\n",
       "      <td>51ee194476e14e9976db834c08f20e21</td>\n",
       "      <td>eac9416f834d481d7c88da6134468d03</td>\n",
       "      <td>NaN</td>\n",
       "    </tr>\n",
       "    <tr>\n",
       "      <th>4</th>\n",
       "      <td>428.0</td>\n",
       "      <td>在线支付</td>\n",
       "      <td>2016-10-27 20:04:48</td>\n",
       "      <td>NaN</td>\n",
       "      <td>137****8223</td>\n",
       "      <td>NaN</td>\n",
       "      <td>609460154345197832</td>\n",
       "      <td>51ee194476e14e9976db834c08f20e21</td>\n",
       "      <td>eac9416f834d481d7c88da6134468d03</td>\n",
       "      <td>NaN</td>\n",
       "    </tr>\n",
       "  </tbody>\n",
       "</table>\n",
       "</div>"
      ],
      "text/plain": [
       "   amt_order type_pay           time_order sts_order        phone  unit_price  \\\n",
       "0       39.0     在线支付  2017-04-15 09:21:18      等待收货  159****2937         NaN   \n",
       "1       39.0     在线支付  2017-04-15 09:21:18        完成  159****2937         NaN   \n",
       "2      288.0     在线支付  2016-10-24 08:57:06       NaN  137****8223         NaN   \n",
       "3      428.0     在线支付  2016-10-27 20:04:48        完成  137****8223         NaN   \n",
       "4      428.0     在线支付  2016-10-27 20:04:48       NaN  137****8223         NaN   \n",
       "\n",
       "                   id                      no_order_md5  \\\n",
       "0  609460154345197832  ae3b7fd144ff7ee8658d92137a924836   \n",
       "1  609460154345197832  ae3b7fd144ff7ee8658d92137a924836   \n",
       "2  609460154345197832  1d7b1294cdbfe24815e39c458cd059d1   \n",
       "3  609460154345197832  51ee194476e14e9976db834c08f20e21   \n",
       "4  609460154345197832  51ee194476e14e9976db834c08f20e21   \n",
       "\n",
       "                       name_rec_md5 product_id_md5  \n",
       "0  afeb593025b37afbe8179c456b8855f1            NaN  \n",
       "1  afeb593025b37afbe8179c456b8855f1            NaN  \n",
       "2  eac9416f834d481d7c88da6134468d03            NaN  \n",
       "3  eac9416f834d481d7c88da6134468d03            NaN  \n",
       "4  eac9416f834d481d7c88da6134468d03            NaN  "
      ]
     },
     "execution_count": 70,
     "metadata": {},
     "output_type": "execute_result"
    }
   ],
   "source": [
    "order.head()"
   ]
  },
  {
   "cell_type": "code",
   "execution_count": 71,
   "metadata": {},
   "outputs": [
    {
     "data": {
      "text/plain": [
       "(2415645, 10)"
      ]
     },
     "execution_count": 71,
     "metadata": {},
     "output_type": "execute_result"
    }
   ],
   "source": [
    "order.shape"
   ]
  },
  {
   "cell_type": "code",
   "execution_count": 72,
   "metadata": {},
   "outputs": [
    {
     "data": {
      "text/plain": [
       "array(['在线支付', '货到付款', nan, '混合支付', '上门自提', '在线', '白条支付', '分期付款', '在线+京豆',\n",
       "       '前台自付', '余额', '在线+限品东券', '京豆支付', '京豆混合支付', '邮局汇款', '东券混合支付',\n",
       "       '公司转账', '在线+东券支付', '在线支付 ', '在线+定向东券', '定向京券支付', '京豆', '在线+东券',\n",
       "       '在线预付', '京豆东券混合支付', '定向东券', '在线+全品东券', '京券混合支付', '在线+余额',\n",
       "       '余额+限品东券', '在线+限品京券', '在线+全品京券', '在线+京券支付', '积分支付', '定向京券', '全品京券',\n",
       "       '京券全额支付', '限品京券', '在线+余额+限品东券', '高校代理-自己支付', '高校代理-代理支付',\n",
       "       '分期付款(招行)'], dtype=object)"
      ]
     },
     "execution_count": 72,
     "metadata": {},
     "output_type": "execute_result"
    }
   ],
   "source": [
    "order.type_pay.unique()"
   ]
  },
  {
   "cell_type": "code",
   "execution_count": 73,
   "metadata": {},
   "outputs": [],
   "source": [
    "type_pay = {\n",
    "    '在线支付': 'Online Pay', '货到付款': 'Cash on Delivery', '混合支付': 'Mixed Pay', '上门自提': 'Pick it up', '在线': 'Online Pay',\n",
    "    '白条支付': 'JD Pay', '分期付款': 'Installment', '在线+京豆': 'Online+JD Bean', '前台自付':'Pay at Front Desk', '余额': 'Balance',\n",
    "    '在线+限品东券': 'Online+limited Dong Coupon', '京豆支付': 'JD Bean', '京豆混合支付': 'JD Bean Mixed Payment',\n",
    "    '邮局汇款': 'Post Office Remittance','东券混合支付': 'Dong Coupon Mixed Payment', '公司转账': 'Company Transfer', \n",
    "    '在线+东券支付': 'Online+Dong Coupon', '在线+定向东券': 'Online+Directed Dong Coupon', '定向京券支付': 'Directed Jing Coupon',\n",
    "    '京豆': 'JD Bean', '在线+东券': 'Online+Dong Coupon', '在线预付': 'Prepay Online', '在线支付 ':'Online Pay',\n",
    "    '京豆东券混合支付': 'JD Bean+Dong Coupon Mixed Pay', '定向东券': 'Directed Dong Coupon', '在线+全品东券': 'Online+General Dong Coupon',\n",
    "    '京券混合支付': 'Jing Coupon Mixed Pay', '在线+余额': 'Online+Balance', '余额+限品东券': 'Balance+Limited Dong Coupon',\n",
    "    '在线+限品京券': 'Online+Limited Jing Coupon', '在线+全品京券': 'Online+General Jing Coupon', '在线+京券支付': 'Online+Jing Coupon Pay',\n",
    "    '积分支付': 'Points Payment', '定向京券': 'Directed Jing Coupon', '全品京券': 'General Jing Coupon', '京券全额支付': 'All Jing Coupon',\n",
    "    '限品京券': 'Limited Jing Coupon', '在线+余额+限品东券': 'Online+Balance+Limited Dong Coupon', '高校代理-自己支付': 'University Self Pay',\n",
    "    '高校代理-代理支付': 'University Agent Pay', '分期付款(招行)': 'Installment(cmb)'\n",
    "}"
   ]
  },
  {
   "cell_type": "code",
   "execution_count": 74,
   "metadata": {},
   "outputs": [],
   "source": [
    "def translate_tp(x):\n",
    "    try:\n",
    "        return type_pay[x]\n",
    "    except:\n",
    "        if pd.isnull(x):\n",
    "            return 'unknown'\n",
    "        return x"
   ]
  },
  {
   "cell_type": "code",
   "execution_count": 75,
   "metadata": {},
   "outputs": [],
   "source": [
    "order['type_pay'] = order['type_pay'].apply(translate_tp)"
   ]
  },
  {
   "cell_type": "code",
   "execution_count": 76,
   "metadata": {},
   "outputs": [
    {
     "data": {
      "text/plain": [
       "array(['Online Pay', 'Cash on Delivery', 'unknown', 'Mixed Pay',\n",
       "       'Pick it up', 'JD Pay', 'Installment', 'Online+JD Bean',\n",
       "       'Pay at Front Desk', 'Balance', 'Online+limited Dong Coupon',\n",
       "       'JD Bean', 'JD Bean Mixed Payment', 'Post Office Remittance',\n",
       "       'Dong Coupon Mixed Payment', 'Company Transfer',\n",
       "       'Online+Dong Coupon', 'Online+Directed Dong Coupon',\n",
       "       'Directed Jing Coupon', 'Prepay Online',\n",
       "       'JD Bean+Dong Coupon Mixed Pay', 'Directed Dong Coupon',\n",
       "       'Online+General Dong Coupon', 'Jing Coupon Mixed Pay',\n",
       "       'Online+Balance', 'Balance+Limited Dong Coupon',\n",
       "       'Online+Limited Jing Coupon', 'Online+General Jing Coupon',\n",
       "       'Online+Jing Coupon Pay', 'Points Payment', 'General Jing Coupon',\n",
       "       'All Jing Coupon', 'Limited Jing Coupon',\n",
       "       'Online+Balance+Limited Dong Coupon', 'University Self Pay',\n",
       "       'University Agent Pay', 'Installment(cmb)'], dtype=object)"
      ]
     },
     "execution_count": 76,
     "metadata": {},
     "output_type": "execute_result"
    }
   ],
   "source": [
    "order.type_pay.unique()"
   ]
  },
  {
   "cell_type": "code",
   "execution_count": 77,
   "metadata": {},
   "outputs": [
    {
     "data": {
      "text/plain": [
       "array(['等待收货', '完成', nan, '已完成', '充值失败;退款成功', '已取消', '订单取消', '充值成功',\n",
       "       '未抢中', '商品出库', '出票成功', '退款完成', '正在出库', '等待付款确认', '充值失败', '等待审核',\n",
       "       '付款成功', '退款成功', '等待付款', '正在处理', '配送退货', '出票失败', '已晒单', '等待处理',\n",
       "       '已入住', '等待退款', '抢票已取消', '请上门自提', '已收货', '缴费成功', '已退款', '订单已取消',\n",
       "       '预约完成', '发货中', '失败退款', '已确认', '预订结束', '下单失败', '部分充值成功;退款成功', '未入住',\n",
       "       '正在送货（暂不能上门自提）', '过期放弃', '购买成功', '已取消订单', '充值失败;退款处理中', '正在充值',\n",
       "       '等待揭晓', '预订中', '等待厂商处理', '退款中', '商品退库', '等待分期付款', '过期关闭', '支付失败'],\n",
       "      dtype=object)"
      ]
     },
     "execution_count": 77,
     "metadata": {},
     "output_type": "execute_result"
    }
   ],
   "source": [
    "order.sts_order.unique()"
   ]
  },
  {
   "cell_type": "code",
   "execution_count": 78,
   "metadata": {},
   "outputs": [],
   "source": [
    "sts_order = {\n",
    "    '等待收货': 'Waiting for Receipt', '完成': 'Finished', '已完成': 'Finished', '充值失败;退款成功': 'Failed Recharge+Successful Refund',\n",
    "    '已取消': 'Canceled', '订单取消': 'Canceled', '充值成功': 'Successful Recharge', '未抢中':'Missed', '商品出库': 'Outbound',\n",
    "    '出票成功': 'Ticket Issued', '退款完成': 'Refunded', '正在出库': 'Outbounding', '等待付款确认': 'Confirming Payment',\n",
    "    '充值失败': 'Failed Recharge', '等待审核': 'Pending Review', '付款成功': 'Payment Succesful', '退款成功': 'Refunded',\n",
    "    '等待付款': 'In Cart', '正在处理': 'Processing', '配送退货': 'Shipping Returns', '出票失败': 'Issueing Ticket Failed',\n",
    "    '已晒单': 'Posted Transaction', '等待处理': 'Waiting for Processing', '已入住': 'Checked in', '等待退款': 'Waiting for Refund',\n",
    "    '抢票已取消':'Ticketing Cancelled', '请上门自提': 'Waiting for Picking up', '已收货': 'Delivered', '缴费成功': 'Successful Recharge',\n",
    "    '已退款': 'Refunded','订单已取消': 'Canceled', '预约完成': 'Reserved', '发货中': 'Shipping', '失败退款': 'Refund Failed', \n",
    "    '已确认': 'Confirmed','预订结束': 'End Of Reservation', '下单失败': 'Order Failed', \n",
    "    '部分充值成功;退款成功': 'Partly Recharged+Successfully Refunded', '未入住': \"Waiting for Check In\", \n",
    "    '正在送货（暂不能上门自提）': 'In Delivery', '过期放弃': 'Expired', '购买成功': 'Confirmed', '已取消订单': 'Order Canceled',\n",
    "    '充值失败;退款处理中': 'Processing Refund', '正在充值': 'In Recharge', '等待揭晓': 'Waiting to be Revealed', '预订中': 'Booking',\n",
    "    '等待厂商处理': 'Processing', '退款中':'Refunding', '商品退库': 'Product Return', '等待分期付款': 'Waiting for Installment', \n",
    "    '过期关闭': 'Expired', '支付失败': 'Failed Payment'\n",
    "}"
   ]
  },
  {
   "cell_type": "code",
   "execution_count": 79,
   "metadata": {},
   "outputs": [],
   "source": [
    "def translate_sts(x):\n",
    "    try:\n",
    "        return sts_order[x]\n",
    "    except:\n",
    "        if pd.isnull(x):\n",
    "            return 'unknown'\n",
    "        return x"
   ]
  },
  {
   "cell_type": "code",
   "execution_count": 80,
   "metadata": {},
   "outputs": [],
   "source": [
    "order['sts_order'] = order['sts_order'].apply(translate_sts)"
   ]
  },
  {
   "cell_type": "code",
   "execution_count": 81,
   "metadata": {},
   "outputs": [
    {
     "data": {
      "text/plain": [
       "array(['Waiting for Receipt', 'Finished', 'unknown',\n",
       "       'Failed Recharge+Successful Refund', 'Canceled',\n",
       "       'Successful Recharge', 'Missed', 'Outbound', 'Ticket Issued',\n",
       "       'Refunded', 'Outbounding', 'Confirming Payment', 'Failed Recharge',\n",
       "       'Pending Review', 'Payment Succesful', 'In Cart', 'Processing',\n",
       "       'Shipping Returns', 'Issueing Ticket Failed', 'Posted Transaction',\n",
       "       'Waiting for Processing', 'Checked in', 'Waiting for Refund',\n",
       "       'Ticketing Cancelled', 'Waiting for Picking up', 'Delivered',\n",
       "       'Reserved', 'Shipping', 'Refund Failed', 'Confirmed',\n",
       "       'End Of Reservation', 'Order Failed',\n",
       "       'Partly Recharged+Successfully Refunded', 'Waiting for Check In',\n",
       "       'In Delivery', 'Expired', 'Order Canceled', 'Processing Refund',\n",
       "       'In Recharge', 'Waiting to be Revealed', 'Booking', 'Refunding',\n",
       "       'Product Return', 'Waiting for Installment', 'Failed Payment'],\n",
       "      dtype=object)"
      ]
     },
     "execution_count": 81,
     "metadata": {},
     "output_type": "execute_result"
    }
   ],
   "source": [
    "order.sts_order.unique()"
   ]
  },
  {
   "cell_type": "code",
   "execution_count": 82,
   "metadata": {},
   "outputs": [],
   "source": [
    "order.to_csv('C:/Users/Vance He/Desktop/UMich/2020_WN/STATS507/project/project/data/train_order_info_eng.csv')"
   ]
  },
  {
   "cell_type": "code",
   "execution_count": 83,
   "metadata": {},
   "outputs": [
    {
     "data": {
      "text/html": [
       "<div>\n",
       "<style scoped>\n",
       "    .dataframe tbody tr th:only-of-type {\n",
       "        vertical-align: middle;\n",
       "    }\n",
       "\n",
       "    .dataframe tbody tr th {\n",
       "        vertical-align: top;\n",
       "    }\n",
       "\n",
       "    .dataframe thead th {\n",
       "        text-align: right;\n",
       "    }\n",
       "</style>\n",
       "<table border=\"1\" class=\"dataframe\">\n",
       "  <thead>\n",
       "    <tr style=\"text-align: right;\">\n",
       "      <th></th>\n",
       "      <th>amt_order</th>\n",
       "      <th>type_pay</th>\n",
       "      <th>time_order</th>\n",
       "      <th>sts_order</th>\n",
       "      <th>phone</th>\n",
       "      <th>unit_price</th>\n",
       "      <th>id</th>\n",
       "      <th>no_order_md5</th>\n",
       "      <th>name_rec_md5</th>\n",
       "      <th>product_id_md5</th>\n",
       "    </tr>\n",
       "  </thead>\n",
       "  <tbody>\n",
       "    <tr>\n",
       "      <th>0</th>\n",
       "      <td>39.0</td>\n",
       "      <td>Online Pay</td>\n",
       "      <td>2017-04-15 09:21:18</td>\n",
       "      <td>Waiting for Receipt</td>\n",
       "      <td>159****2937</td>\n",
       "      <td>NaN</td>\n",
       "      <td>609460154345197832</td>\n",
       "      <td>ae3b7fd144ff7ee8658d92137a924836</td>\n",
       "      <td>afeb593025b37afbe8179c456b8855f1</td>\n",
       "      <td>NaN</td>\n",
       "    </tr>\n",
       "    <tr>\n",
       "      <th>1</th>\n",
       "      <td>39.0</td>\n",
       "      <td>Online Pay</td>\n",
       "      <td>2017-04-15 09:21:18</td>\n",
       "      <td>Finished</td>\n",
       "      <td>159****2937</td>\n",
       "      <td>NaN</td>\n",
       "      <td>609460154345197832</td>\n",
       "      <td>ae3b7fd144ff7ee8658d92137a924836</td>\n",
       "      <td>afeb593025b37afbe8179c456b8855f1</td>\n",
       "      <td>NaN</td>\n",
       "    </tr>\n",
       "    <tr>\n",
       "      <th>2</th>\n",
       "      <td>288.0</td>\n",
       "      <td>Online Pay</td>\n",
       "      <td>2016-10-24 08:57:06</td>\n",
       "      <td>unknown</td>\n",
       "      <td>137****8223</td>\n",
       "      <td>NaN</td>\n",
       "      <td>609460154345197832</td>\n",
       "      <td>1d7b1294cdbfe24815e39c458cd059d1</td>\n",
       "      <td>eac9416f834d481d7c88da6134468d03</td>\n",
       "      <td>NaN</td>\n",
       "    </tr>\n",
       "    <tr>\n",
       "      <th>3</th>\n",
       "      <td>428.0</td>\n",
       "      <td>Online Pay</td>\n",
       "      <td>2016-10-27 20:04:48</td>\n",
       "      <td>Finished</td>\n",
       "      <td>137****8223</td>\n",
       "      <td>NaN</td>\n",
       "      <td>609460154345197832</td>\n",
       "      <td>51ee194476e14e9976db834c08f20e21</td>\n",
       "      <td>eac9416f834d481d7c88da6134468d03</td>\n",
       "      <td>NaN</td>\n",
       "    </tr>\n",
       "    <tr>\n",
       "      <th>4</th>\n",
       "      <td>428.0</td>\n",
       "      <td>Online Pay</td>\n",
       "      <td>2016-10-27 20:04:48</td>\n",
       "      <td>unknown</td>\n",
       "      <td>137****8223</td>\n",
       "      <td>NaN</td>\n",
       "      <td>609460154345197832</td>\n",
       "      <td>51ee194476e14e9976db834c08f20e21</td>\n",
       "      <td>eac9416f834d481d7c88da6134468d03</td>\n",
       "      <td>NaN</td>\n",
       "    </tr>\n",
       "  </tbody>\n",
       "</table>\n",
       "</div>"
      ],
      "text/plain": [
       "   amt_order    type_pay           time_order            sts_order  \\\n",
       "0       39.0  Online Pay  2017-04-15 09:21:18  Waiting for Receipt   \n",
       "1       39.0  Online Pay  2017-04-15 09:21:18             Finished   \n",
       "2      288.0  Online Pay  2016-10-24 08:57:06              unknown   \n",
       "3      428.0  Online Pay  2016-10-27 20:04:48             Finished   \n",
       "4      428.0  Online Pay  2016-10-27 20:04:48              unknown   \n",
       "\n",
       "         phone  unit_price                  id  \\\n",
       "0  159****2937         NaN  609460154345197832   \n",
       "1  159****2937         NaN  609460154345197832   \n",
       "2  137****8223         NaN  609460154345197832   \n",
       "3  137****8223         NaN  609460154345197832   \n",
       "4  137****8223         NaN  609460154345197832   \n",
       "\n",
       "                       no_order_md5                      name_rec_md5  \\\n",
       "0  ae3b7fd144ff7ee8658d92137a924836  afeb593025b37afbe8179c456b8855f1   \n",
       "1  ae3b7fd144ff7ee8658d92137a924836  afeb593025b37afbe8179c456b8855f1   \n",
       "2  1d7b1294cdbfe24815e39c458cd059d1  eac9416f834d481d7c88da6134468d03   \n",
       "3  51ee194476e14e9976db834c08f20e21  eac9416f834d481d7c88da6134468d03   \n",
       "4  51ee194476e14e9976db834c08f20e21  eac9416f834d481d7c88da6134468d03   \n",
       "\n",
       "  product_id_md5  \n",
       "0            NaN  \n",
       "1            NaN  \n",
       "2            NaN  \n",
       "3            NaN  \n",
       "4            NaN  "
      ]
     },
     "execution_count": 83,
     "metadata": {},
     "output_type": "execute_result"
    }
   ],
   "source": [
    "order.head()"
   ]
  },
  {
   "cell_type": "code",
   "execution_count": 46,
   "metadata": {},
   "outputs": [
    {
     "data": {
      "text/html": [
       "<div>\n",
       "<style scoped>\n",
       "    .dataframe tbody tr th:only-of-type {\n",
       "        vertical-align: middle;\n",
       "    }\n",
       "\n",
       "    .dataframe tbody tr th {\n",
       "        vertical-align: top;\n",
       "    }\n",
       "\n",
       "    .dataframe thead th {\n",
       "        text-align: right;\n",
       "    }\n",
       "</style>\n",
       "<table border=\"1\" class=\"dataframe\">\n",
       "  <thead>\n",
       "    <tr style=\"text-align: right;\">\n",
       "      <th></th>\n",
       "      <th>addr_id</th>\n",
       "      <th>region</th>\n",
       "      <th>phone</th>\n",
       "      <th>fix_phone</th>\n",
       "      <th>id</th>\n",
       "      <th>receiver_md5</th>\n",
       "    </tr>\n",
       "  </thead>\n",
       "  <tbody>\n",
       "    <tr>\n",
       "      <th>261294</th>\n",
       "      <td>NaN</td>\n",
       "      <td>湖北武汉市汉阳区三环内</td>\n",
       "      <td>139****0355</td>\n",
       "      <td>NaN</td>\n",
       "      <td>5.753980e+17</td>\n",
       "      <td>6e0bd1fdcd5a1ddb7af062027dd34f29</td>\n",
       "    </tr>\n",
       "    <tr>\n",
       "      <th>261295</th>\n",
       "      <td>NaN</td>\n",
       "      <td>四川泸州市泸县县城内</td>\n",
       "      <td>181****3532</td>\n",
       "      <td>NaN</td>\n",
       "      <td>5.751810e+17</td>\n",
       "      <td>991d749238d03941a76415da2985974e</td>\n",
       "    </tr>\n",
       "    <tr>\n",
       "      <th>261296</th>\n",
       "      <td>140971247.0</td>\n",
       "      <td>四川泸州市泸县县城内</td>\n",
       "      <td>181****3532</td>\n",
       "      <td>NaN</td>\n",
       "      <td>5.751810e+17</td>\n",
       "      <td>991d749238d03941a76415da2985974e</td>\n",
       "    </tr>\n",
       "    <tr>\n",
       "      <th>261297</th>\n",
       "      <td>139277384.0</td>\n",
       "      <td>四川泸州市叙永县县城内</td>\n",
       "      <td>186****8303</td>\n",
       "      <td>NaN</td>\n",
       "      <td>5.751810e+17</td>\n",
       "      <td>78974288a9074d8b46772bf020fbf681</td>\n",
       "    </tr>\n",
       "    <tr>\n",
       "      <th>261298</th>\n",
       "      <td>NaN</td>\n",
       "      <td>NaN</td>\n",
       "      <td>NaN</td>\n",
       "      <td>NaN</td>\n",
       "      <td>5.889080e+17</td>\n",
       "      <td>NaN</td>\n",
       "    </tr>\n",
       "  </tbody>\n",
       "</table>\n",
       "</div>"
      ],
      "text/plain": [
       "            addr_id       region        phone fix_phone            id  \\\n",
       "261294          NaN  湖北武汉市汉阳区三环内  139****0355       NaN  5.753980e+17   \n",
       "261295          NaN   四川泸州市泸县县城内  181****3532       NaN  5.751810e+17   \n",
       "261296  140971247.0   四川泸州市泸县县城内  181****3532       NaN  5.751810e+17   \n",
       "261297  139277384.0  四川泸州市叙永县县城内  186****8303       NaN  5.751810e+17   \n",
       "261298          NaN          NaN          NaN       NaN  5.889080e+17   \n",
       "\n",
       "                            receiver_md5  \n",
       "261294  6e0bd1fdcd5a1ddb7af062027dd34f29  \n",
       "261295  991d749238d03941a76415da2985974e  \n",
       "261296  991d749238d03941a76415da2985974e  \n",
       "261297  78974288a9074d8b46772bf020fbf681  \n",
       "261298                               NaN  "
      ]
     },
     "execution_count": 46,
     "metadata": {},
     "output_type": "execute_result"
    }
   ],
   "source": [
    "addr.tail()"
   ]
  },
  {
   "cell_type": "code",
   "execution_count": 47,
   "metadata": {},
   "outputs": [],
   "source": [
    "addr['region'] = addr['region'].apply(lambda x: x[0:2] if not pd.isnull(x) else x)"
   ]
  },
  {
   "cell_type": "code",
   "execution_count": 49,
   "metadata": {},
   "outputs": [
    {
     "data": {
      "text/plain": [
       "array([nan, '辽宁', '四川', '陕西', '江苏', '广东', '海南', '北京', '广西', '福建', '上海',\n",
       "       '湖南', '安徽', '河南', '河北', '天津', '浙江', '宁夏', '内蒙', '重庆', '甘肃', '湖北',\n",
       "       '新疆', '云南', '江西', '贵州', '青海', '山西', '山东', '黑龙', '吉林', '西藏', '台湾',\n",
       "       '香港'], dtype=object)"
      ]
     },
     "execution_count": 49,
     "metadata": {},
     "output_type": "execute_result"
    }
   ],
   "source": [
    "addr.region.unique()"
   ]
  },
  {
   "cell_type": "code",
   "execution_count": 92,
   "metadata": {},
   "outputs": [
    {
     "data": {
      "text/plain": [
       "array([nan, '186****4600', '159****1000', ..., '593637', '189****1973',\n",
       "       '182****4920'], dtype=object)"
      ]
     },
     "execution_count": 92,
     "metadata": {},
     "output_type": "execute_result"
    }
   ],
   "source": [
    "addr.fix_phone.unique()"
   ]
  },
  {
   "cell_type": "code",
   "execution_count": 50,
   "metadata": {},
   "outputs": [],
   "source": [
    "region = {\n",
    "\t'北京': 'BJ', '天津': 'TJ', '河北': 'HE', '山西': 'SX', '内蒙': 'NM', '辽宁': 'LN',\n",
    "\t'吉林': 'JL', '黑龙': 'HL', '上海': 'SH', '江苏': 'JS', '浙江': 'ZJ', '安徽': 'AH',\n",
    "\t'福建': 'FJ', '江西': 'JX', '山东': 'SD', '河南': 'HA', '湖北': 'HB', '湖南': 'HN', \n",
    "\t'广东': 'GD', '广西': 'GX', '海南': 'HI', '重庆': 'CQ', '四川': 'SC', '贵州': 'GZ',\n",
    "\t'云南': 'YN', '西藏': 'XZ', '陕西': 'SN', '甘肃': 'GS', '青海': 'QH', '宁夏': 'NX',\n",
    "\t'新疆': 'XJ', '香港': 'HK', '澳门': 'MO', '台湾': 'TW'\n",
    "}"
   ]
  },
  {
   "cell_type": "code",
   "execution_count": 51,
   "metadata": {},
   "outputs": [],
   "source": [
    "def translate_addr(x):\n",
    "\ttry:\n",
    "\t\treturn region[x]\n",
    "\texcept:\n",
    "\t\tif pd.isnull(x):\n",
    "\t\t\treturn 'unknown'\n",
    "\t\treturn x"
   ]
  },
  {
   "cell_type": "code",
   "execution_count": 52,
   "metadata": {},
   "outputs": [],
   "source": [
    "addr['region'] = addr['region'].apply(translate_addr)"
   ]
  },
  {
   "cell_type": "code",
   "execution_count": 55,
   "metadata": {},
   "outputs": [
    {
     "data": {
      "text/html": [
       "<div>\n",
       "<style scoped>\n",
       "    .dataframe tbody tr th:only-of-type {\n",
       "        vertical-align: middle;\n",
       "    }\n",
       "\n",
       "    .dataframe tbody tr th {\n",
       "        vertical-align: top;\n",
       "    }\n",
       "\n",
       "    .dataframe thead th {\n",
       "        text-align: right;\n",
       "    }\n",
       "</style>\n",
       "<table border=\"1\" class=\"dataframe\">\n",
       "  <thead>\n",
       "    <tr style=\"text-align: right;\">\n",
       "      <th></th>\n",
       "      <th>addr_id</th>\n",
       "      <th>region</th>\n",
       "      <th>phone</th>\n",
       "      <th>fix_phone</th>\n",
       "      <th>id</th>\n",
       "      <th>receiver_md5</th>\n",
       "    </tr>\n",
       "  </thead>\n",
       "  <tbody>\n",
       "    <tr>\n",
       "      <th>0</th>\n",
       "      <td>NaN</td>\n",
       "      <td>unknown</td>\n",
       "      <td>NaN</td>\n",
       "      <td>NaN</td>\n",
       "      <td>5.751500e+17</td>\n",
       "      <td>NaN</td>\n",
       "    </tr>\n",
       "    <tr>\n",
       "      <th>1</th>\n",
       "      <td>137816020.0</td>\n",
       "      <td>LN</td>\n",
       "      <td>186****4600</td>\n",
       "      <td>186****4600</td>\n",
       "      <td>5.638880e+17</td>\n",
       "      <td>798371eaefb014d304e8c90ba0af1d09</td>\n",
       "    </tr>\n",
       "    <tr>\n",
       "      <th>2</th>\n",
       "      <td>137630418.0</td>\n",
       "      <td>LN</td>\n",
       "      <td>159****1000</td>\n",
       "      <td>159****1000</td>\n",
       "      <td>5.638880e+17</td>\n",
       "      <td>41c14ef94733b4587f11ffb64e58a72d</td>\n",
       "    </tr>\n",
       "    <tr>\n",
       "      <th>3</th>\n",
       "      <td>137816021.0</td>\n",
       "      <td>LN</td>\n",
       "      <td>186****4600</td>\n",
       "      <td>NaN</td>\n",
       "      <td>5.638880e+17</td>\n",
       "      <td>798371eaefb014d304e8c90ba0af1d09</td>\n",
       "    </tr>\n",
       "    <tr>\n",
       "      <th>4</th>\n",
       "      <td>138135925.0</td>\n",
       "      <td>LN</td>\n",
       "      <td>189****9687</td>\n",
       "      <td>189****9687</td>\n",
       "      <td>5.638880e+17</td>\n",
       "      <td>2d3e7dc595265a37f1e9eee82a15b047</td>\n",
       "    </tr>\n",
       "  </tbody>\n",
       "</table>\n",
       "</div>"
      ],
      "text/plain": [
       "       addr_id   region        phone    fix_phone            id  \\\n",
       "0          NaN  unknown          NaN          NaN  5.751500e+17   \n",
       "1  137816020.0       LN  186****4600  186****4600  5.638880e+17   \n",
       "2  137630418.0       LN  159****1000  159****1000  5.638880e+17   \n",
       "3  137816021.0       LN  186****4600          NaN  5.638880e+17   \n",
       "4  138135925.0       LN  189****9687  189****9687  5.638880e+17   \n",
       "\n",
       "                       receiver_md5  \n",
       "0                               NaN  \n",
       "1  798371eaefb014d304e8c90ba0af1d09  \n",
       "2  41c14ef94733b4587f11ffb64e58a72d  \n",
       "3  798371eaefb014d304e8c90ba0af1d09  \n",
       "4  2d3e7dc595265a37f1e9eee82a15b047  "
      ]
     },
     "execution_count": 55,
     "metadata": {},
     "output_type": "execute_result"
    }
   ],
   "source": [
    "addr.head()"
   ]
  },
  {
   "cell_type": "code",
   "execution_count": 56,
   "metadata": {},
   "outputs": [],
   "source": [
    "addr.to_csv('C:/Users/Vance He/Desktop/UMich/2020_WN/STATS507/project/project/data/train_recieve_addr_info_eng.csv')"
   ]
  },
  {
   "cell_type": "code",
   "execution_count": 57,
   "metadata": {},
   "outputs": [
    {
     "data": {
      "text/html": [
       "<div>\n",
       "<style scoped>\n",
       "    .dataframe tbody tr th:only-of-type {\n",
       "        vertical-align: middle;\n",
       "    }\n",
       "\n",
       "    .dataframe tbody tr th {\n",
       "        vertical-align: top;\n",
       "    }\n",
       "\n",
       "    .dataframe thead th {\n",
       "        text-align: right;\n",
       "    }\n",
       "</style>\n",
       "<table border=\"1\" class=\"dataframe\">\n",
       "  <thead>\n",
       "    <tr style=\"text-align: right;\">\n",
       "      <th></th>\n",
       "      <th>appl_sbm_tm</th>\n",
       "      <th>target</th>\n",
       "      <th>id</th>\n",
       "    </tr>\n",
       "  </thead>\n",
       "  <tbody>\n",
       "    <tr>\n",
       "      <th>0</th>\n",
       "      <td>2017-04-08 19:10:13.0</td>\n",
       "      <td>0</td>\n",
       "      <td>600689284231467016</td>\n",
       "    </tr>\n",
       "    <tr>\n",
       "      <th>1</th>\n",
       "      <td>2016-06-08 15:20:21.0</td>\n",
       "      <td>0</td>\n",
       "      <td>20160608150003808365</td>\n",
       "    </tr>\n",
       "    <tr>\n",
       "      <th>2</th>\n",
       "      <td>2016-04-27 11:36:27.0</td>\n",
       "      <td>0</td>\n",
       "      <td>20160427110002485018</td>\n",
       "    </tr>\n",
       "    <tr>\n",
       "      <th>3</th>\n",
       "      <td>2017-03-30 08:45:55.0</td>\n",
       "      <td>0</td>\n",
       "      <td>593852820159991816</td>\n",
       "    </tr>\n",
       "    <tr>\n",
       "      <th>4</th>\n",
       "      <td>2016-11-30 11:40:38.0</td>\n",
       "      <td>0</td>\n",
       "      <td>506970882778861832</td>\n",
       "    </tr>\n",
       "  </tbody>\n",
       "</table>\n",
       "</div>"
      ],
      "text/plain": [
       "             appl_sbm_tm  target                    id\n",
       "0  2017-04-08 19:10:13.0       0    600689284231467016\n",
       "1  2016-06-08 15:20:21.0       0  20160608150003808365\n",
       "2  2016-04-27 11:36:27.0       0  20160427110002485018\n",
       "3  2017-03-30 08:45:55.0       0    593852820159991816\n",
       "4  2016-11-30 11:40:38.0       0    506970882778861832"
      ]
     },
     "execution_count": 57,
     "metadata": {},
     "output_type": "execute_result"
    }
   ],
   "source": [
    "target.head()"
   ]
  },
  {
   "cell_type": "code",
   "execution_count": 4,
   "metadata": {},
   "outputs": [
    {
     "data": {
      "text/html": [
       "<div>\n",
       "<style scoped>\n",
       "    .dataframe tbody tr th:only-of-type {\n",
       "        vertical-align: middle;\n",
       "    }\n",
       "\n",
       "    .dataframe tbody tr th {\n",
       "        vertical-align: top;\n",
       "    }\n",
       "\n",
       "    .dataframe thead th {\n",
       "        text-align: right;\n",
       "    }\n",
       "</style>\n",
       "<table border=\"1\" class=\"dataframe\">\n",
       "  <thead>\n",
       "    <tr style=\"text-align: right;\">\n",
       "      <th></th>\n",
       "      <th>sex</th>\n",
       "      <th>birthday</th>\n",
       "      <th>hobby</th>\n",
       "      <th>merriage</th>\n",
       "      <th>income</th>\n",
       "      <th>id_card</th>\n",
       "      <th>degree</th>\n",
       "      <th>industry</th>\n",
       "      <th>qq_bound</th>\n",
       "      <th>wechat_bound</th>\n",
       "      <th>account_grade</th>\n",
       "      <th>id</th>\n",
       "    </tr>\n",
       "  </thead>\n",
       "  <tbody>\n",
       "    <tr>\n",
       "      <th>0</th>\n",
       "      <td>保密</td>\n",
       "      <td>NaN</td>\n",
       "      <td>NaN</td>\n",
       "      <td>NaN</td>\n",
       "      <td>NaN</td>\n",
       "      <td>NaN</td>\n",
       "      <td>NaN</td>\n",
       "      <td>NaN</td>\n",
       "      <td>未绑定</td>\n",
       "      <td>已绑定</td>\n",
       "      <td>铜牌会员</td>\n",
       "      <td>5.882390e+17</td>\n",
       "    </tr>\n",
       "    <tr>\n",
       "      <th>1</th>\n",
       "      <td>保密</td>\n",
       "      <td>NaN</td>\n",
       "      <td>NaN</td>\n",
       "      <td>NaN</td>\n",
       "      <td>NaN</td>\n",
       "      <td>NaN</td>\n",
       "      <td>NaN</td>\n",
       "      <td>NaN</td>\n",
       "      <td>已绑定</td>\n",
       "      <td>未绑定</td>\n",
       "      <td>铜牌会员</td>\n",
       "      <td>6.014600e+17</td>\n",
       "    </tr>\n",
       "    <tr>\n",
       "      <th>2</th>\n",
       "      <td>保密</td>\n",
       "      <td>NaN</td>\n",
       "      <td>NaN</td>\n",
       "      <td>NaN</td>\n",
       "      <td>NaN</td>\n",
       "      <td>NaN</td>\n",
       "      <td>NaN</td>\n",
       "      <td>NaN</td>\n",
       "      <td>未绑定</td>\n",
       "      <td>已绑定</td>\n",
       "      <td>金牌会员</td>\n",
       "      <td>6.011380e+17</td>\n",
       "    </tr>\n",
       "    <tr>\n",
       "      <th>3</th>\n",
       "      <td>保密</td>\n",
       "      <td>0000-00-00</td>\n",
       "      <td>NaN</td>\n",
       "      <td>NaN</td>\n",
       "      <td>NaN</td>\n",
       "      <td>NaN</td>\n",
       "      <td>NaN</td>\n",
       "      <td>NaN</td>\n",
       "      <td>已绑定</td>\n",
       "      <td>未绑定</td>\n",
       "      <td>注册会员</td>\n",
       "      <td>2.016040e+19</td>\n",
       "    </tr>\n",
       "    <tr>\n",
       "      <th>4</th>\n",
       "      <td>男</td>\n",
       "      <td>10/4/1994</td>\n",
       "      <td>NaN</td>\n",
       "      <td>NaN</td>\n",
       "      <td>NaN</td>\n",
       "      <td>NaN</td>\n",
       "      <td>NaN</td>\n",
       "      <td>NaN</td>\n",
       "      <td>已绑定</td>\n",
       "      <td>未绑定</td>\n",
       "      <td>注册会员</td>\n",
       "      <td>6.134670e+17</td>\n",
       "    </tr>\n",
       "  </tbody>\n",
       "</table>\n",
       "</div>"
      ],
      "text/plain": [
       "  sex    birthday hobby merriage income id_card degree industry qq_bound  \\\n",
       "0  保密         NaN   NaN      NaN    NaN     NaN    NaN      NaN      未绑定   \n",
       "1  保密         NaN   NaN      NaN    NaN     NaN    NaN      NaN      已绑定   \n",
       "2  保密         NaN   NaN      NaN    NaN     NaN    NaN      NaN      未绑定   \n",
       "3  保密  0000-00-00   NaN      NaN    NaN     NaN    NaN      NaN      已绑定   \n",
       "4   男   10/4/1994   NaN      NaN    NaN     NaN    NaN      NaN      已绑定   \n",
       "\n",
       "  wechat_bound account_grade            id  \n",
       "0          已绑定          铜牌会员  5.882390e+17  \n",
       "1          未绑定          铜牌会员  6.014600e+17  \n",
       "2          已绑定          金牌会员  6.011380e+17  \n",
       "3          未绑定          注册会员  2.016040e+19  \n",
       "4          未绑定          注册会员  6.134670e+17  "
      ]
     },
     "execution_count": 4,
     "metadata": {},
     "output_type": "execute_result"
    }
   ],
   "source": [
    "user.head()"
   ]
  },
  {
   "cell_type": "code",
   "execution_count": 5,
   "metadata": {},
   "outputs": [
    {
     "data": {
      "text/plain": [
       "array(['保密', '男', '女', nan], dtype=object)"
      ]
     },
     "execution_count": 5,
     "metadata": {},
     "output_type": "execute_result"
    }
   ],
   "source": [
    "user.sex.unique()"
   ]
  },
  {
   "cell_type": "code",
   "execution_count": 6,
   "metadata": {},
   "outputs": [],
   "source": [
    "sex = {\n",
    "    '保密': 'No Disclosure', '男': 'Male', '女': 'Female'\n",
    "}"
   ]
  },
  {
   "cell_type": "code",
   "execution_count": 7,
   "metadata": {},
   "outputs": [],
   "source": [
    "def translate_sex(x):\n",
    "\ttry:\n",
    "\t\treturn sex[x]\n",
    "\texcept:\n",
    "\t\tif pd.isnull(x):\n",
    "\t\t\treturn 'unknown'\n",
    "\t\treturn x"
   ]
  },
  {
   "cell_type": "code",
   "execution_count": 8,
   "metadata": {},
   "outputs": [],
   "source": [
    "user['sex'] = user['sex'].apply(translate_sex)"
   ]
  },
  {
   "cell_type": "code",
   "execution_count": 9,
   "metadata": {},
   "outputs": [
    {
     "data": {
      "text/plain": [
       "array(['No Disclosure', 'Male', 'Female', 'unknown'], dtype=object)"
      ]
     },
     "execution_count": 9,
     "metadata": {},
     "output_type": "execute_result"
    }
   ],
   "source": [
    "user.sex.unique()"
   ]
  },
  {
   "cell_type": "code",
   "execution_count": 10,
   "metadata": {},
   "outputs": [
    {
     "data": {
      "text/plain": [
       "array([nan, '未婚', '保密', '已婚'], dtype=object)"
      ]
     },
     "execution_count": 10,
     "metadata": {},
     "output_type": "execute_result"
    }
   ],
   "source": [
    "user.merriage.unique()"
   ]
  },
  {
   "cell_type": "code",
   "execution_count": 11,
   "metadata": {},
   "outputs": [],
   "source": [
    "merriage = {\n",
    "    '保密': 'No Disclosure', '未婚': 'Single', '已婚': 'Married'\n",
    "}"
   ]
  },
  {
   "cell_type": "code",
   "execution_count": 12,
   "metadata": {},
   "outputs": [],
   "source": [
    "def translate_mer(x):\n",
    "\ttry:\n",
    "\t\treturn merriage[x]\n",
    "\texcept:\n",
    "\t\tif pd.isnull(x):\n",
    "\t\t\treturn 'unknown'\n",
    "\t\treturn x"
   ]
  },
  {
   "cell_type": "code",
   "execution_count": 13,
   "metadata": {},
   "outputs": [],
   "source": [
    "user['merriage'] = user['merriage'].apply(translate_mer)"
   ]
  },
  {
   "cell_type": "code",
   "execution_count": 14,
   "metadata": {},
   "outputs": [
    {
     "data": {
      "text/plain": [
       "array(['unknown', 'Single', 'No Disclosure', 'Married'], dtype=object)"
      ]
     },
     "execution_count": 14,
     "metadata": {},
     "output_type": "execute_result"
    }
   ],
   "source": [
    "user.merriage.unique()"
   ]
  },
  {
   "cell_type": "code",
   "execution_count": 15,
   "metadata": {},
   "outputs": [
    {
     "data": {
      "text/plain": [
       "array([nan, '6000-7999元', '8000元以上', '4000-5999元', '2000-3999元',\n",
       "       '2000元以下'], dtype=object)"
      ]
     },
     "execution_count": 15,
     "metadata": {},
     "output_type": "execute_result"
    }
   ],
   "source": [
    "user.income.unique()"
   ]
  },
  {
   "cell_type": "code",
   "execution_count": 16,
   "metadata": {},
   "outputs": [],
   "source": [
    "income = {\n",
    "    '6000-7999元': '6000-7999', '8000元以上': 'above 8000', '4000-5999元': '4000-5999', '2000-3999元': '2000-3999',\n",
    "    '2000元以下': 'Below 2000',\n",
    "}"
   ]
  },
  {
   "cell_type": "code",
   "execution_count": 17,
   "metadata": {},
   "outputs": [],
   "source": [
    "def translate_income(x):\n",
    "\ttry:\n",
    "\t\treturn income[x]\n",
    "\texcept:\n",
    "\t\tif pd.isnull(x):\n",
    "\t\t\treturn 'unknown'\n",
    "\t\treturn x"
   ]
  },
  {
   "cell_type": "code",
   "execution_count": 18,
   "metadata": {},
   "outputs": [],
   "source": [
    "user['income'] = user['income'].apply(translate_income)"
   ]
  },
  {
   "cell_type": "code",
   "execution_count": 19,
   "metadata": {},
   "outputs": [
    {
     "data": {
      "text/plain": [
       "array(['unknown', '6000-7999', 'above 8000', '4000-5999', '2000-3999',\n",
       "       'Below 2000'], dtype=object)"
      ]
     },
     "execution_count": 19,
     "metadata": {},
     "output_type": "execute_result"
    }
   ],
   "source": [
    "user.income.unique()"
   ]
  },
  {
   "cell_type": "code",
   "execution_count": 123,
   "metadata": {},
   "outputs": [],
   "source": [
    "user = user.drop('hobby', axis=1)"
   ]
  },
  {
   "cell_type": "code",
   "execution_count": 20,
   "metadata": {},
   "outputs": [
    {
     "data": {
      "text/plain": [
       "array([nan, '大专', '本科', '高中', '中专', '初中', '硕士', '其他', '博士'], dtype=object)"
      ]
     },
     "execution_count": 20,
     "metadata": {},
     "output_type": "execute_result"
    }
   ],
   "source": [
    "user.degree.unique()"
   ]
  },
  {
   "cell_type": "code",
   "execution_count": 21,
   "metadata": {},
   "outputs": [],
   "source": [
    "degree = {\n",
    "    '大专': 'College', '本科': 'Bachelor', '高中': 'High School', '中专': 'Special Secondary School',\n",
    "    '初中': 'Middle School', '硕士': 'Master', '其他': 'Others', '博士': 'PhD'\n",
    "}"
   ]
  },
  {
   "cell_type": "code",
   "execution_count": 22,
   "metadata": {},
   "outputs": [],
   "source": [
    "def translate_degree(x):\n",
    "\ttry:\n",
    "\t\treturn degree[x]\n",
    "\texcept:\n",
    "\t\tif pd.isnull(x):\n",
    "\t\t\treturn 'unknown'\n",
    "\t\treturn x"
   ]
  },
  {
   "cell_type": "code",
   "execution_count": 23,
   "metadata": {},
   "outputs": [],
   "source": [
    "user['degree'] = user['degree'].apply(translate_degree)"
   ]
  },
  {
   "cell_type": "code",
   "execution_count": 24,
   "metadata": {},
   "outputs": [
    {
     "data": {
      "text/plain": [
       "array(['unknown', 'College', 'Bachelor', 'High School',\n",
       "       'Special Secondary School', 'Middle School', 'Master', 'Others',\n",
       "       'PhD'], dtype=object)"
      ]
     },
     "execution_count": 24,
     "metadata": {},
     "output_type": "execute_result"
    }
   ],
   "source": [
    "user.degree.unique()"
   ]
  },
  {
   "cell_type": "code",
   "execution_count": 25,
   "metadata": {},
   "outputs": [],
   "source": [
    "user = user.drop('industry', axis=1)"
   ]
  },
  {
   "cell_type": "code",
   "execution_count": 26,
   "metadata": {},
   "outputs": [
    {
     "data": {
      "text/plain": [
       "array(['未绑定', '已绑定', nan], dtype=object)"
      ]
     },
     "execution_count": 26,
     "metadata": {},
     "output_type": "execute_result"
    }
   ],
   "source": [
    "user.qq_bound.unique()"
   ]
  },
  {
   "cell_type": "code",
   "execution_count": 27,
   "metadata": {},
   "outputs": [],
   "source": [
    "qq = {\n",
    "    '未绑定': 'Not Bounded', '已绑定': 'Bounded'\n",
    "}"
   ]
  },
  {
   "cell_type": "code",
   "execution_count": 28,
   "metadata": {},
   "outputs": [],
   "source": [
    "def translate_qq(x):\n",
    "\ttry:\n",
    "\t\treturn qq[x]\n",
    "\texcept:\n",
    "\t\tif pd.isnull(x):\n",
    "\t\t\treturn 'unknown'\n",
    "\t\treturn x"
   ]
  },
  {
   "cell_type": "code",
   "execution_count": 29,
   "metadata": {},
   "outputs": [],
   "source": [
    "user['qq_bound'] = user['qq_bound'].apply(translate_qq)"
   ]
  },
  {
   "cell_type": "code",
   "execution_count": 30,
   "metadata": {},
   "outputs": [
    {
     "data": {
      "text/plain": [
       "array(['Not Bounded', 'Bounded', 'unknown'], dtype=object)"
      ]
     },
     "execution_count": 30,
     "metadata": {},
     "output_type": "execute_result"
    }
   ],
   "source": [
    "user.qq_bound.unique()"
   ]
  },
  {
   "cell_type": "code",
   "execution_count": 31,
   "metadata": {},
   "outputs": [
    {
     "data": {
      "text/plain": [
       "array(['已绑定', '未绑定', nan], dtype=object)"
      ]
     },
     "execution_count": 31,
     "metadata": {},
     "output_type": "execute_result"
    }
   ],
   "source": [
    "user.wechat_bound.unique()"
   ]
  },
  {
   "cell_type": "code",
   "execution_count": 32,
   "metadata": {},
   "outputs": [],
   "source": [
    "user['wechat_bound'] = user['wechat_bound'].apply(translate_qq)"
   ]
  },
  {
   "cell_type": "code",
   "execution_count": 33,
   "metadata": {},
   "outputs": [
    {
     "data": {
      "text/plain": [
       "array(['Bounded', 'Not Bounded', 'unknown'], dtype=object)"
      ]
     },
     "execution_count": 33,
     "metadata": {},
     "output_type": "execute_result"
    }
   ],
   "source": [
    "user.wechat_bound.unique()"
   ]
  },
  {
   "cell_type": "code",
   "execution_count": 34,
   "metadata": {},
   "outputs": [
    {
     "data": {
      "text/plain": [
       "array(['铜牌会员', '金牌会员', '注册会员', nan, '银牌会员', '钻石会员'], dtype=object)"
      ]
     },
     "execution_count": 34,
     "metadata": {},
     "output_type": "execute_result"
    }
   ],
   "source": [
    "user.account_grade.unique()"
   ]
  },
  {
   "cell_type": "code",
   "execution_count": 35,
   "metadata": {},
   "outputs": [],
   "source": [
    "account = {\n",
    "    '铜牌会员': '3rd Level', '金牌会员': '1st Level', '注册会员': 'Initial Level', '银牌会员': '2nd Level', '钻石会员': 'Premier Level'\n",
    "}"
   ]
  },
  {
   "cell_type": "code",
   "execution_count": 36,
   "metadata": {},
   "outputs": [],
   "source": [
    "def translate_account(x):\n",
    "\ttry:\n",
    "\t\treturn account[x]\n",
    "\texcept:\n",
    "\t\tif pd.isnull(x):\n",
    "\t\t\treturn 'unknown'\n",
    "\t\treturn x"
   ]
  },
  {
   "cell_type": "code",
   "execution_count": 37,
   "metadata": {},
   "outputs": [],
   "source": [
    "user['account_grade'] = user['account_grade'].apply(translate_account)"
   ]
  },
  {
   "cell_type": "code",
   "execution_count": 46,
   "metadata": {},
   "outputs": [
    {
     "data": {
      "text/html": [
       "<div>\n",
       "<style scoped>\n",
       "    .dataframe tbody tr th:only-of-type {\n",
       "        vertical-align: middle;\n",
       "    }\n",
       "\n",
       "    .dataframe tbody tr th {\n",
       "        vertical-align: top;\n",
       "    }\n",
       "\n",
       "    .dataframe thead th {\n",
       "        text-align: right;\n",
       "    }\n",
       "</style>\n",
       "<table border=\"1\" class=\"dataframe\">\n",
       "  <thead>\n",
       "    <tr style=\"text-align: right;\">\n",
       "      <th></th>\n",
       "      <th>sex</th>\n",
       "      <th>birthday</th>\n",
       "      <th>hobby</th>\n",
       "      <th>merriage</th>\n",
       "      <th>income</th>\n",
       "      <th>id_card</th>\n",
       "      <th>degree</th>\n",
       "      <th>industry</th>\n",
       "      <th>qq_bound</th>\n",
       "      <th>wechat_bound</th>\n",
       "      <th>account_grade</th>\n",
       "      <th>id</th>\n",
       "    </tr>\n",
       "  </thead>\n",
       "  <tbody>\n",
       "    <tr>\n",
       "      <th>0</th>\n",
       "      <td>保密</td>\n",
       "      <td>NaN</td>\n",
       "      <td>NaN</td>\n",
       "      <td>NaN</td>\n",
       "      <td>NaN</td>\n",
       "      <td>NaN</td>\n",
       "      <td>NaN</td>\n",
       "      <td>NaN</td>\n",
       "      <td>未绑定</td>\n",
       "      <td>已绑定</td>\n",
       "      <td>铜牌会员</td>\n",
       "      <td>5.882390e+17</td>\n",
       "    </tr>\n",
       "    <tr>\n",
       "      <th>1</th>\n",
       "      <td>保密</td>\n",
       "      <td>NaN</td>\n",
       "      <td>NaN</td>\n",
       "      <td>NaN</td>\n",
       "      <td>NaN</td>\n",
       "      <td>NaN</td>\n",
       "      <td>NaN</td>\n",
       "      <td>NaN</td>\n",
       "      <td>已绑定</td>\n",
       "      <td>未绑定</td>\n",
       "      <td>铜牌会员</td>\n",
       "      <td>6.014600e+17</td>\n",
       "    </tr>\n",
       "    <tr>\n",
       "      <th>2</th>\n",
       "      <td>保密</td>\n",
       "      <td>NaN</td>\n",
       "      <td>NaN</td>\n",
       "      <td>NaN</td>\n",
       "      <td>NaN</td>\n",
       "      <td>NaN</td>\n",
       "      <td>NaN</td>\n",
       "      <td>NaN</td>\n",
       "      <td>未绑定</td>\n",
       "      <td>已绑定</td>\n",
       "      <td>金牌会员</td>\n",
       "      <td>6.011380e+17</td>\n",
       "    </tr>\n",
       "    <tr>\n",
       "      <th>3</th>\n",
       "      <td>保密</td>\n",
       "      <td>0000-00-00</td>\n",
       "      <td>NaN</td>\n",
       "      <td>NaN</td>\n",
       "      <td>NaN</td>\n",
       "      <td>NaN</td>\n",
       "      <td>NaN</td>\n",
       "      <td>NaN</td>\n",
       "      <td>已绑定</td>\n",
       "      <td>未绑定</td>\n",
       "      <td>注册会员</td>\n",
       "      <td>2.016040e+19</td>\n",
       "    </tr>\n",
       "    <tr>\n",
       "      <th>4</th>\n",
       "      <td>男</td>\n",
       "      <td>10/4/1994</td>\n",
       "      <td>NaN</td>\n",
       "      <td>NaN</td>\n",
       "      <td>NaN</td>\n",
       "      <td>NaN</td>\n",
       "      <td>NaN</td>\n",
       "      <td>NaN</td>\n",
       "      <td>已绑定</td>\n",
       "      <td>未绑定</td>\n",
       "      <td>注册会员</td>\n",
       "      <td>6.134670e+17</td>\n",
       "    </tr>\n",
       "  </tbody>\n",
       "</table>\n",
       "</div>"
      ],
      "text/plain": [
       "  sex    birthday hobby merriage income id_card degree industry qq_bound  \\\n",
       "0  保密         NaN   NaN      NaN    NaN     NaN    NaN      NaN      未绑定   \n",
       "1  保密         NaN   NaN      NaN    NaN     NaN    NaN      NaN      已绑定   \n",
       "2  保密         NaN   NaN      NaN    NaN     NaN    NaN      NaN      未绑定   \n",
       "3  保密  0000-00-00   NaN      NaN    NaN     NaN    NaN      NaN      已绑定   \n",
       "4   男   10/4/1994   NaN      NaN    NaN     NaN    NaN      NaN      已绑定   \n",
       "\n",
       "  wechat_bound account_grade            id  \n",
       "0          已绑定          铜牌会员  5.882390e+17  \n",
       "1          未绑定          铜牌会员  6.014600e+17  \n",
       "2          已绑定          金牌会员  6.011380e+17  \n",
       "3          未绑定          注册会员  2.016040e+19  \n",
       "4          未绑定          注册会员  6.134670e+17  "
      ]
     },
     "execution_count": 46,
     "metadata": {},
     "output_type": "execute_result"
    }
   ],
   "source": [
    "user.head()"
   ]
  },
  {
   "cell_type": "code",
   "execution_count": 47,
   "metadata": {},
   "outputs": [
    {
     "data": {
      "text/plain": [
       "array([nan, '能源/矿产/采掘/冶炼', '互联网/电子商务', '房地产/建筑/建材/工程', '酒店/餐饮',\n",
       "       '通讯（设备/运营/增值服务）', '贸易/进出口', '家居/室内设计/装饰装潢', '其它', '电气/电力/水利',\n",
       "       '加工制造（原料加工/模具）', '物业管理/商业中心', '交通/运输/物流', '金融/银行/投资/基金/证券',\n",
       "       '石油/石化/化工', '广告/会展/公关/市场推广', '汽车/摩托车（制造/维护/配件/销售/服务）', '计算机软件',\n",
       "       '检验/检测/认证', '大型设备/机电设备/重工业', '印刷/包装/造纸', '耐用消费品（服装服饰/纺织/皮革/家具/家电）',\n",
       "       '电子技术/半导体/集成电路', '医疗/护理/美容/保健', '农/林/牧/渔', 'IT服务（系统/数据/维护）/多领域经营',\n",
       "       '教育/培训', '计算机硬件及网络设备', '网络游戏', '零售/批发', '政府/公共事业/非盈利机构',\n",
       "       '咨询/管理产业/法律/财会', '媒体/出版/影视/文化/艺术', '娱乐/体育/休闲', '仪器仪表及工业自动化',\n",
       "       '快速消费品（食品/饮料/烟酒/化妆品', '保险', '跨领域经营', '旅游/度假', '医药/生物工程', '航空/航天',\n",
       "       '医疗设备/器械', '中介服务', '环保', '礼品/玩具/工艺美术/收藏品', '学术/科研', '办公用品及设备'],\n",
       "      dtype=object)"
      ]
     },
     "execution_count": 47,
     "metadata": {},
     "output_type": "execute_result"
    }
   ],
   "source": [
    "user['industry'].unique()"
   ]
  },
  {
   "cell_type": "code",
   "execution_count": 42,
   "metadata": {},
   "outputs": [],
   "source": [
    "# 标记hobby, nan为0, 否则为1\n",
    "is_hobby = user['hobby'].map(lambda x: 0 if str(x) == 'nan' else 1)\n",
    "is_hobby_df = pd.DataFrame()\n",
    "is_hobby_df['id'] = user['id']\n",
    "is_hobby_df['is_hobby'] = is_hobby"
   ]
  },
  {
   "cell_type": "code",
   "execution_count": 48,
   "metadata": {},
   "outputs": [],
   "source": [
    "# 标记industry, nan为0，否则为1\n",
    "is_industry = user['industry'].map(lambda x: 0 if str(x) == 'nan' else 1)\n",
    "is_hobby_df['is_industry'] = is_industry"
   ]
  },
  {
   "cell_type": "code",
   "execution_count": 49,
   "metadata": {},
   "outputs": [
    {
     "data": {
      "text/html": [
       "<div>\n",
       "<style scoped>\n",
       "    .dataframe tbody tr th:only-of-type {\n",
       "        vertical-align: middle;\n",
       "    }\n",
       "\n",
       "    .dataframe tbody tr th {\n",
       "        vertical-align: top;\n",
       "    }\n",
       "\n",
       "    .dataframe thead th {\n",
       "        text-align: right;\n",
       "    }\n",
       "</style>\n",
       "<table border=\"1\" class=\"dataframe\">\n",
       "  <thead>\n",
       "    <tr style=\"text-align: right;\">\n",
       "      <th></th>\n",
       "      <th>id</th>\n",
       "      <th>is_hobby</th>\n",
       "      <th>is_industry</th>\n",
       "    </tr>\n",
       "  </thead>\n",
       "  <tbody>\n",
       "    <tr>\n",
       "      <th>0</th>\n",
       "      <td>5.882390e+17</td>\n",
       "      <td>0</td>\n",
       "      <td>0</td>\n",
       "    </tr>\n",
       "    <tr>\n",
       "      <th>1</th>\n",
       "      <td>6.014600e+17</td>\n",
       "      <td>0</td>\n",
       "      <td>0</td>\n",
       "    </tr>\n",
       "    <tr>\n",
       "      <th>2</th>\n",
       "      <td>6.011380e+17</td>\n",
       "      <td>0</td>\n",
       "      <td>0</td>\n",
       "    </tr>\n",
       "    <tr>\n",
       "      <th>3</th>\n",
       "      <td>2.016040e+19</td>\n",
       "      <td>0</td>\n",
       "      <td>0</td>\n",
       "    </tr>\n",
       "    <tr>\n",
       "      <th>4</th>\n",
       "      <td>6.134670e+17</td>\n",
       "      <td>0</td>\n",
       "      <td>0</td>\n",
       "    </tr>\n",
       "  </tbody>\n",
       "</table>\n",
       "</div>"
      ],
      "text/plain": [
       "             id  is_hobby  is_industry\n",
       "0  5.882390e+17         0            0\n",
       "1  6.014600e+17         0            0\n",
       "2  6.011380e+17         0            0\n",
       "3  2.016040e+19         0            0\n",
       "4  6.134670e+17         0            0"
      ]
     },
     "execution_count": 49,
     "metadata": {},
     "output_type": "execute_result"
    }
   ],
   "source": [
    "is_hobby_df.head()"
   ]
  },
  {
   "cell_type": "code",
   "execution_count": 52,
   "metadata": {},
   "outputs": [
    {
     "data": {
      "text/plain": [
       "(120929, 3)"
      ]
     },
     "execution_count": 52,
     "metadata": {},
     "output_type": "execute_result"
    }
   ],
   "source": [
    "is_hobby_df.shape"
   ]
  },
  {
   "cell_type": "code",
   "execution_count": 51,
   "metadata": {},
   "outputs": [
    {
     "data": {
      "text/plain": [
       "15167"
      ]
     },
     "execution_count": 51,
     "metadata": {},
     "output_type": "execute_result"
    }
   ],
   "source": [
    "sum(is_hobby_df['is_hobby'])"
   ]
  },
  {
   "cell_type": "code",
   "execution_count": 53,
   "metadata": {},
   "outputs": [
    {
     "data": {
      "text/plain": [
       "8294"
      ]
     },
     "execution_count": 53,
     "metadata": {},
     "output_type": "execute_result"
    }
   ],
   "source": [
    "sum(is_hobby_df['is_industry'])"
   ]
  },
  {
   "cell_type": "code",
   "execution_count": 54,
   "metadata": {},
   "outputs": [],
   "source": [
    "is_hobby_df.to_csv('C:/Users/Vance He/Desktop/UMich/2020_WN/STATS507/project/project/data/processed_data/user_hobby_industry_info.csv')"
   ]
  },
  {
   "cell_type": "code",
   "execution_count": 127,
   "metadata": {},
   "outputs": [],
   "source": [
    "user.to_csv('C:/Users/Vance He/Desktop/UMich/2020_WN/STATS507/project/project/data/train_user_info_eng.csv')"
   ]
  },
  {
   "cell_type": "code",
   "execution_count": 122,
   "metadata": {},
   "outputs": [
    {
     "data": {
      "text/plain": [
       "array([nan, '420******713', '532******015', ..., '510******595',\n",
       "       '341******073', '532******522'], dtype=object)"
      ]
     },
     "execution_count": 122,
     "metadata": {},
     "output_type": "execute_result"
    }
   ],
   "source": [
    "user.id_card.unique()"
   ]
  }
 ],
 "metadata": {
  "kernelspec": {
   "display_name": "Python 3",
   "language": "python",
   "name": "python3"
  },
  "language_info": {
   "codemirror_mode": {
    "name": "ipython",
    "version": 3
   },
   "file_extension": ".py",
   "mimetype": "text/x-python",
   "name": "python",
   "nbconvert_exporter": "python",
   "pygments_lexer": "ipython3",
   "version": "3.7.4"
  }
 },
 "nbformat": 4,
 "nbformat_minor": 4
}
