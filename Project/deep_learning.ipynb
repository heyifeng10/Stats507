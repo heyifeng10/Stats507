{
 "cells": [
  {
   "cell_type": "code",
   "execution_count": 1,
   "metadata": {},
   "outputs": [
    {
     "name": "stderr",
     "output_type": "stream",
     "text": [
      "C:\\Users\\Vance He\\AppData\\Roaming\\Python\\Python37\\site-packages\\statsmodels\\tools\\_testing.py:19: FutureWarning: pandas.util.testing is deprecated. Use the functions in the public API at pandas.testing instead.\n",
      "  import pandas.util.testing as tm\n"
     ]
    }
   ],
   "source": [
    "import numpy as np\n",
    "import pandas as pd\n",
    "import seaborn as sns\n",
    "import matplotlib.pyplot as plt\n",
    "\n",
    "import torch\n",
    "import torch.nn as nn\n",
    "import torch.optim as optim\n",
    "from torch.utils.data import Dataset, DataLoader\n",
    "\n",
    "from sklearn.preprocessing import StandardScaler\n",
    "from sklearn.metrics import confusion_matrix, classification_report\n",
    "from sklearn.metrics import roc_auc_score\n",
    "from sklearn.metrics import roc_curve\n",
    "\n",
    "import datetime"
   ]
  },
  {
   "cell_type": "code",
   "execution_count": 2,
   "metadata": {},
   "outputs": [],
   "source": [
    "# import data\n",
    "data = pd.read_csv(\"C:/Users/Vance He/Desktop/UMich/2020_WN/STATS507/project/project/data/processed_data/one_hot_truncated.csv\",\n",
    "                        parse_dates=['appl_sbm_tm'])"
   ]
  },
  {
   "cell_type": "code",
   "execution_count": 3,
   "metadata": {
    "scrolled": true
   },
   "outputs": [
    {
     "data": {
      "text/html": [
       "<div>\n",
       "<style scoped>\n",
       "    .dataframe tbody tr th:only-of-type {\n",
       "        vertical-align: middle;\n",
       "    }\n",
       "\n",
       "    .dataframe tbody tr th {\n",
       "        vertical-align: top;\n",
       "    }\n",
       "\n",
       "    .dataframe thead th {\n",
       "        text-align: right;\n",
       "    }\n",
       "</style>\n",
       "<table border=\"1\" class=\"dataframe\">\n",
       "  <thead>\n",
       "    <tr style=\"text-align: right;\">\n",
       "      <th></th>\n",
       "      <th>appl_sbm_tm</th>\n",
       "      <th>target</th>\n",
       "      <th>spt_id_card_x</th>\n",
       "      <th>phone_exist_x</th>\n",
       "      <th>auth_time_year</th>\n",
       "      <th>auth_time_month</th>\n",
       "      <th>auth_time_day</th>\n",
       "      <th>birthday</th>\n",
       "      <th>credit_score</th>\n",
       "      <th>overdraft</th>\n",
       "      <th>...</th>\n",
       "      <th>account_grade_3rd Level</th>\n",
       "      <th>account_grade_Initial Level</th>\n",
       "      <th>account_grade_Premier Level</th>\n",
       "      <th>account_grade_unknown</th>\n",
       "      <th>China Mobile</th>\n",
       "      <th>China Telecom</th>\n",
       "      <th>China Unicom</th>\n",
       "      <th>Other</th>\n",
       "      <th>missing_phone</th>\n",
       "      <th>appl_tm_num</th>\n",
       "    </tr>\n",
       "  </thead>\n",
       "  <tbody>\n",
       "    <tr>\n",
       "      <th>0</th>\n",
       "      <td>2017-04-08 19:10:13</td>\n",
       "      <td>0</td>\n",
       "      <td>1</td>\n",
       "      <td>1</td>\n",
       "      <td>2017</td>\n",
       "      <td>3</td>\n",
       "      <td>5</td>\n",
       "      <td>1992-06-15</td>\n",
       "      <td>394.0</td>\n",
       "      <td>0.00</td>\n",
       "      <td>...</td>\n",
       "      <td>0</td>\n",
       "      <td>0</td>\n",
       "      <td>0</td>\n",
       "      <td>1</td>\n",
       "      <td>1</td>\n",
       "      <td>0</td>\n",
       "      <td>0</td>\n",
       "      <td>0</td>\n",
       "      <td>0</td>\n",
       "      <td>376</td>\n",
       "    </tr>\n",
       "    <tr>\n",
       "      <th>1</th>\n",
       "      <td>2016-06-08 15:20:21</td>\n",
       "      <td>0</td>\n",
       "      <td>1</td>\n",
       "      <td>1</td>\n",
       "      <td>2016</td>\n",
       "      <td>1</td>\n",
       "      <td>31</td>\n",
       "      <td>0</td>\n",
       "      <td>578.0</td>\n",
       "      <td>2647.14</td>\n",
       "      <td>...</td>\n",
       "      <td>0</td>\n",
       "      <td>0</td>\n",
       "      <td>0</td>\n",
       "      <td>1</td>\n",
       "      <td>1</td>\n",
       "      <td>0</td>\n",
       "      <td>0</td>\n",
       "      <td>0</td>\n",
       "      <td>0</td>\n",
       "      <td>72</td>\n",
       "    </tr>\n",
       "    <tr>\n",
       "      <th>2</th>\n",
       "      <td>2016-04-27 11:36:27</td>\n",
       "      <td>0</td>\n",
       "      <td>1</td>\n",
       "      <td>1</td>\n",
       "      <td>2017</td>\n",
       "      <td>6</td>\n",
       "      <td>18</td>\n",
       "      <td>1978-06-25</td>\n",
       "      <td>402.0</td>\n",
       "      <td>0.00</td>\n",
       "      <td>...</td>\n",
       "      <td>1</td>\n",
       "      <td>0</td>\n",
       "      <td>0</td>\n",
       "      <td>0</td>\n",
       "      <td>1</td>\n",
       "      <td>0</td>\n",
       "      <td>0</td>\n",
       "      <td>0</td>\n",
       "      <td>0</td>\n",
       "      <td>30</td>\n",
       "    </tr>\n",
       "    <tr>\n",
       "      <th>3</th>\n",
       "      <td>2017-03-30 08:45:55</td>\n",
       "      <td>0</td>\n",
       "      <td>0</td>\n",
       "      <td>1</td>\n",
       "      <td>0</td>\n",
       "      <td>0</td>\n",
       "      <td>0</td>\n",
       "      <td>1987-01-09</td>\n",
       "      <td>579.0</td>\n",
       "      <td>15125.00</td>\n",
       "      <td>...</td>\n",
       "      <td>0</td>\n",
       "      <td>0</td>\n",
       "      <td>0</td>\n",
       "      <td>1</td>\n",
       "      <td>0</td>\n",
       "      <td>0</td>\n",
       "      <td>1</td>\n",
       "      <td>0</td>\n",
       "      <td>0</td>\n",
       "      <td>366</td>\n",
       "    </tr>\n",
       "    <tr>\n",
       "      <th>4</th>\n",
       "      <td>2016-11-30 11:40:38</td>\n",
       "      <td>0</td>\n",
       "      <td>1</td>\n",
       "      <td>1</td>\n",
       "      <td>2017</td>\n",
       "      <td>12</td>\n",
       "      <td>15</td>\n",
       "      <td>1985-12-08</td>\n",
       "      <td>390.0</td>\n",
       "      <td>0.00</td>\n",
       "      <td>...</td>\n",
       "      <td>0</td>\n",
       "      <td>0</td>\n",
       "      <td>0</td>\n",
       "      <td>1</td>\n",
       "      <td>1</td>\n",
       "      <td>0</td>\n",
       "      <td>0</td>\n",
       "      <td>0</td>\n",
       "      <td>0</td>\n",
       "      <td>247</td>\n",
       "    </tr>\n",
       "  </tbody>\n",
       "</table>\n",
       "<p>5 rows × 114 columns</p>\n",
       "</div>"
      ],
      "text/plain": [
       "          appl_sbm_tm  target  spt_id_card_x  phone_exist_x  auth_time_year  \\\n",
       "0 2017-04-08 19:10:13       0              1              1            2017   \n",
       "1 2016-06-08 15:20:21       0              1              1            2016   \n",
       "2 2016-04-27 11:36:27       0              1              1            2017   \n",
       "3 2017-03-30 08:45:55       0              0              1               0   \n",
       "4 2016-11-30 11:40:38       0              1              1            2017   \n",
       "\n",
       "   auth_time_month  auth_time_day    birthday  credit_score  overdraft  ...  \\\n",
       "0                3              5  1992-06-15         394.0       0.00  ...   \n",
       "1                1             31           0         578.0    2647.14  ...   \n",
       "2                6             18  1978-06-25         402.0       0.00  ...   \n",
       "3                0              0  1987-01-09         579.0   15125.00  ...   \n",
       "4               12             15  1985-12-08         390.0       0.00  ...   \n",
       "\n",
       "   account_grade_3rd Level  account_grade_Initial Level  \\\n",
       "0                        0                            0   \n",
       "1                        0                            0   \n",
       "2                        1                            0   \n",
       "3                        0                            0   \n",
       "4                        0                            0   \n",
       "\n",
       "   account_grade_Premier Level  account_grade_unknown  China Mobile  \\\n",
       "0                            0                      1             1   \n",
       "1                            0                      1             1   \n",
       "2                            0                      0             1   \n",
       "3                            0                      1             0   \n",
       "4                            0                      1             1   \n",
       "\n",
       "   China Telecom  China Unicom  Other  missing_phone  appl_tm_num  \n",
       "0              0             0      0              0          376  \n",
       "1              0             0      0              0           72  \n",
       "2              0             0      0              0           30  \n",
       "3              0             1      0              0          366  \n",
       "4              0             0      0              0          247  \n",
       "\n",
       "[5 rows x 114 columns]"
      ]
     },
     "execution_count": 3,
     "metadata": {},
     "output_type": "execute_result"
    }
   ],
   "source": [
    "data.head()"
   ]
  },
  {
   "cell_type": "code",
   "execution_count": 4,
   "metadata": {},
   "outputs": [],
   "source": [
    "# split the training set and the testing set\n",
    "train_set = data[data['appl_sbm_tm'] < datetime.datetime(2017,3,30)]\n",
    "test_set = data[data['appl_sbm_tm'] >= datetime.datetime(2017,3,30)]\n",
    "#train_data_set = train_set[(train_set.year <= 2017) & (train_set.month <= 5)]\n",
    "#valid_data_set = train_set[(train_set.year >= 2016) & (train_set.month > 5)]\n",
    "\n",
    "test_set = test_set.drop(['appl_sbm_tm'], axis=1)\n",
    "train_set = train_set.drop(['appl_sbm_tm'], axis=1)\n",
    "#train_data_set = train_data_set.drop(['appl_sbm_tm'], axis=1)\n",
    "#valid_data_set = valid_data_set.drop(['appl_sbm_tm'], axis=1)\n",
    "\n",
    "test_set = test_set.drop(['birthday'], axis=1)\n",
    "train_set = train_set.drop(['birthday'], axis=1)\n",
    "#train_data_set = train_data_set.drop(['birthday'], axis=1)\n",
    "#valid_data_set = valid_data_set.drop(['birthday'], axis=1)"
   ]
  },
  {
   "cell_type": "code",
   "execution_count": 5,
   "metadata": {},
   "outputs": [],
   "source": [
    "x_train = train_set.drop(['target'], axis=1)\n",
    "#x_train = train_data_set.drop(['target'], axis=1)\n",
    "#x_valid = valid_data_set.drop(['target'], axis=1)\n",
    "x_test = test_set.drop(['target'], axis=1)"
   ]
  },
  {
   "cell_type": "code",
   "execution_count": 6,
   "metadata": {},
   "outputs": [],
   "source": [
    "# standardize data\n",
    "scaler = StandardScaler()\n",
    "x_train = scaler.fit_transform(x_train)\n",
    "#x_valid = scaler.transform(x_valid)\n",
    "x_test = scaler.transform(x_test)"
   ]
  },
  {
   "cell_type": "code",
   "execution_count": 7,
   "metadata": {},
   "outputs": [],
   "source": [
    "y_train = train_set.iloc[:, 0]"
   ]
  },
  {
   "cell_type": "code",
   "execution_count": 8,
   "metadata": {},
   "outputs": [],
   "source": [
    "y_test = test_set.iloc[:, 0]"
   ]
  },
  {
   "cell_type": "code",
   "execution_count": 48,
   "metadata": {},
   "outputs": [
    {
     "data": {
      "text/plain": [
       "0     0\n",
       "3     0\n",
       "6     0\n",
       "14    0\n",
       "16    0\n",
       "Name: target, dtype: int64"
      ]
     },
     "execution_count": 48,
     "metadata": {},
     "output_type": "execute_result"
    }
   ],
   "source": [
    "y_test.head()"
   ]
  },
  {
   "cell_type": "code",
   "execution_count": 39,
   "metadata": {},
   "outputs": [
    {
     "data": {
      "text/plain": [
       "(87174, 111)"
      ]
     },
     "execution_count": 39,
     "metadata": {},
     "output_type": "execute_result"
    }
   ],
   "source": [
    "x_train.shape"
   ]
  },
  {
   "cell_type": "code",
   "execution_count": 9,
   "metadata": {},
   "outputs": [],
   "source": [
    "y_train = torch.Tensor(y_train.values)"
   ]
  },
  {
   "cell_type": "code",
   "execution_count": 83,
   "metadata": {},
   "outputs": [],
   "source": [
    "# model paramters\n",
    "epochs = 20\n",
    "batch_size = 128\n",
    "learning_rate = 0.005"
   ]
  },
  {
   "cell_type": "code",
   "execution_count": 84,
   "metadata": {},
   "outputs": [],
   "source": [
    "# define custom dataloaders\n",
    "class trainData(Dataset):\n",
    "    def __init__(self, X_data, y_data):\n",
    "        self.X_data = X_data\n",
    "        self.y_data = y_data\n",
    "        \n",
    "    def __getitem__(self, index):\n",
    "        return self.X_data[index], self.y_data[index]\n",
    "    \n",
    "    def __len__(self):\n",
    "        return len(self.X_data)\n",
    "    \n",
    "train_data = trainData(torch.FloatTensor(x_train),\n",
    "                      torch.FloatTensor(y_train))\n",
    "\n",
    "class testData(Dataset):\n",
    "    def __init__(self, X_data):\n",
    "        self.X_data = X_data\n",
    "        \n",
    "    def __getitem__(self, index):\n",
    "        return self.X_data[index]\n",
    "    \n",
    "    def __len__(self):\n",
    "        return len(self.X_data)\n",
    "    \n",
    "test_data = testData(torch.FloatTensor(x_test))"
   ]
  },
  {
   "cell_type": "code",
   "execution_count": 85,
   "metadata": {},
   "outputs": [],
   "source": [
    "# intialize dataloader\n",
    "train_loader = DataLoader(dataset=train_data, \n",
    "                          batch_size=batch_size, shuffle=True)\n",
    "test_loader = DataLoader(dataset=test_data, batch_size=1)"
   ]
  },
  {
   "cell_type": "code",
   "execution_count": 29,
   "metadata": {},
   "outputs": [],
   "source": [
    "class binaryClassification(nn.Module):\n",
    "    def __init__(self):\n",
    "        super(binaryClassification, self).__init__()\n",
    "        \n",
    "        # number of input fetures is 111\n",
    "        self.layer_1 = nn.Linear(111, 64)\n",
    "        self.layer_2 = nn.Linear(64, 64)\n",
    "        self.layer_out = nn.Linear(64, 1)\n",
    "        \n",
    "        self.relu = nn.ReLU()\n",
    "        self.dropout = nn.Dropout(p=0.1)\n",
    "        self.batchnorm1 = nn.BatchNorm1d(64)\n",
    "        self.batchnorm2 = nn.BatchNorm1d(64)\n",
    "        \n",
    "    def forward(self, inputs):\n",
    "        x = self.relu(self.layer_1(inputs))\n",
    "        x = self.batchnorm1(x)\n",
    "        x = self.relu(self.layer_2(x))\n",
    "        x = self.batchnorm2(x)\n",
    "        x = self.dropout(x)\n",
    "        x = self.layer_out(x)\n",
    "        return x"
   ]
  },
  {
   "cell_type": "code",
   "execution_count": 13,
   "metadata": {},
   "outputs": [
    {
     "name": "stdout",
     "output_type": "stream",
     "text": [
      "cuda:0\n"
     ]
    }
   ],
   "source": [
    "# check do we have gpu avaliable\n",
    "device = torch.device(\"cuda:0\" if torch.cuda.is_available() else \"cpu\")\n",
    "print(device)"
   ]
  },
  {
   "cell_type": "code",
   "execution_count": 42,
   "metadata": {},
   "outputs": [
    {
     "name": "stdout",
     "output_type": "stream",
     "text": [
      "binaryClassification(\n",
      "  (layer_1): Linear(in_features=111, out_features=64, bias=True)\n",
      "  (layer_2): Linear(in_features=64, out_features=64, bias=True)\n",
      "  (layer_out): Linear(in_features=64, out_features=1, bias=True)\n",
      "  (relu): ReLU()\n",
      "  (dropout): Dropout(p=0.1, inplace=False)\n",
      "  (batchnorm1): BatchNorm1d(64, eps=1e-05, momentum=0.1, affine=True, track_running_stats=True)\n",
      "  (batchnorm2): BatchNorm1d(64, eps=1e-05, momentum=0.1, affine=True, track_running_stats=True)\n",
      ")\n"
     ]
    }
   ],
   "source": [
    "# intialize optimizer and decide on which loss function to use\n",
    "model = binaryClassification()\n",
    "model.to(device)\n",
    "\n",
    "print(model)\n",
    "\n",
    "criterion = nn.BCEWithLogitsLoss()\n",
    "optimizer = optim.Adam(model.parameters(), lr=learning_rate)"
   ]
  },
  {
   "cell_type": "markdown",
   "metadata": {},
   "source": [
    "### Train the model"
   ]
  },
  {
   "cell_type": "code",
   "execution_count": 19,
   "metadata": {},
   "outputs": [],
   "source": [
    "def binary_acc(y_pred, y_test):\n",
    "    y_pred_tag = torch.round(torch.sigmoid(y_pred))\n",
    "    \n",
    "    correct_results_sum = (y_pred_tag == y_test).sum().float()\n",
    "    acc = correct_results_sum/y_test.shape[0]\n",
    "    acc = torch.round(acc * 100)\n",
    "    \n",
    "    return acc"
   ]
  },
  {
   "cell_type": "code",
   "execution_count": 44,
   "metadata": {
    "scrolled": true
   },
   "outputs": [
    {
     "name": "stdout",
     "output_type": "stream",
     "text": [
      "Epoch 001: | Loss:0.17085 | Acc: 95.343\n",
      "Epoch 002: | Loss:0.11174 | Acc: 97.097\n",
      "Epoch 003: | Loss:0.10868 | Acc: 97.096\n",
      "Epoch 004: | Loss:0.10679 | Acc: 97.102\n",
      "Epoch 005: | Loss:0.10505 | Acc: 97.106\n",
      "Epoch 006: | Loss:0.10352 | Acc: 97.100\n",
      "Epoch 007: | Loss:0.10259 | Acc: 97.095\n",
      "Epoch 008: | Loss:0.10106 | Acc: 97.106\n",
      "Epoch 009: | Loss:0.09994 | Acc: 97.097\n",
      "Epoch 010: | Loss:0.09837 | Acc: 97.109\n",
      "Epoch 011: | Loss:0.09731 | Acc: 97.087\n",
      "Epoch 012: | Loss:0.09574 | Acc: 97.116\n",
      "Epoch 013: | Loss:0.09454 | Acc: 97.126\n",
      "Epoch 014: | Loss:0.09316 | Acc: 97.123\n",
      "Epoch 015: | Loss:0.09251 | Acc: 97.142\n",
      "Epoch 016: | Loss:0.09120 | Acc: 97.112\n",
      "Epoch 017: | Loss:0.09006 | Acc: 97.170\n",
      "Epoch 018: | Loss:0.08918 | Acc: 97.189\n",
      "Epoch 019: | Loss:0.08745 | Acc: 97.184\n",
      "Epoch 020: | Loss:0.08655 | Acc: 97.218\n",
      "Epoch 021: | Loss:0.08701 | Acc: 97.189\n",
      "Epoch 022: | Loss:0.08541 | Acc: 97.262\n",
      "Epoch 023: | Loss:0.08509 | Acc: 97.238\n",
      "Epoch 024: | Loss:0.08376 | Acc: 97.237\n",
      "Epoch 025: | Loss:0.08263 | Acc: 97.305\n",
      "Epoch 026: | Loss:0.08269 | Acc: 97.287\n",
      "Epoch 027: | Loss:0.08108 | Acc: 97.299\n",
      "Epoch 028: | Loss:0.08088 | Acc: 97.318\n",
      "Epoch 029: | Loss:0.08153 | Acc: 97.300\n",
      "Epoch 030: | Loss:0.07970 | Acc: 97.320\n",
      "Epoch 031: | Loss:0.07901 | Acc: 97.336\n",
      "Epoch 032: | Loss:0.07897 | Acc: 97.351\n",
      "Epoch 033: | Loss:0.07811 | Acc: 97.365\n",
      "Epoch 034: | Loss:0.07743 | Acc: 97.394\n",
      "Epoch 035: | Loss:0.07835 | Acc: 97.373\n",
      "Epoch 036: | Loss:0.07619 | Acc: 97.430\n",
      "Epoch 037: | Loss:0.07583 | Acc: 97.409\n",
      "Epoch 038: | Loss:0.07559 | Acc: 97.398\n",
      "Epoch 039: | Loss:0.07551 | Acc: 97.450\n",
      "Epoch 040: | Loss:0.07430 | Acc: 97.474\n",
      "Epoch 041: | Loss:0.07409 | Acc: 97.426\n",
      "Epoch 042: | Loss:0.07444 | Acc: 97.435\n",
      "Epoch 043: | Loss:0.07387 | Acc: 97.421\n",
      "Epoch 044: | Loss:0.07281 | Acc: 97.481\n",
      "Epoch 045: | Loss:0.07235 | Acc: 97.474\n",
      "Epoch 046: | Loss:0.07178 | Acc: 97.476\n",
      "Epoch 047: | Loss:0.07255 | Acc: 97.497\n",
      "Epoch 048: | Loss:0.07175 | Acc: 97.523\n",
      "Epoch 049: | Loss:0.07138 | Acc: 97.507\n",
      "Epoch 050: | Loss:0.07044 | Acc: 97.530\n"
     ]
    }
   ],
   "source": [
    "model.train()\n",
    "for e in range(1, epochs+1):\n",
    "    epoch_loss = 0\n",
    "    epoch_acc = 0\n",
    "    for X_batch, y_batch in train_loader:\n",
    "        X_batch, y_batch = X_batch.to(device), y_batch.to(device)\n",
    "        optimizer.zero_grad()\n",
    "        \n",
    "        y_pred = model(X_batch)\n",
    "        \n",
    "        loss = criterion(y_pred, y_batch.unsqueeze(1))\n",
    "        acc = binary_acc(y_pred, y_batch.unsqueeze(1))\n",
    "        \n",
    "        loss.backward()\n",
    "        optimizer.step()\n",
    "        \n",
    "        epoch_loss += loss.item()\n",
    "        epoch_acc += acc.item()\n",
    "        \n",
    "    print(f'Epoch {e+0:03}: | Loss:{epoch_loss/len(train_loader):.5f} | Acc: {epoch_acc/len(train_loader):.3f}')"
   ]
  },
  {
   "cell_type": "code",
   "execution_count": 51,
   "metadata": {},
   "outputs": [],
   "source": [
    "# Test the model\n",
    "y_pred_list = []\n",
    "\n",
    "model.eval()\n",
    "with torch.no_grad():\n",
    "    for x_batch in test_loader:\n",
    "        x_batch = x_batch.to(device)\n",
    "        y_test_pred = model(x_batch)\n",
    "        y_test_pred = torch.sigmoid(y_test_pred)\n",
    "        y_pred_tag = torch.round(y_test_pred)\n",
    "        y_pred_list.append(y_pred_tag.cpu().numpy())\n",
    "        \n",
    "y_pred_list = [a.squeeze().tolist() for a in y_pred_list]"
   ]
  },
  {
   "cell_type": "code",
   "execution_count": 53,
   "metadata": {},
   "outputs": [
    {
     "data": {
      "text/plain": [
       "array([[32715,    65],\n",
       "       [  968,     7]], dtype=int64)"
      ]
     },
     "execution_count": 53,
     "metadata": {},
     "output_type": "execute_result"
    }
   ],
   "source": [
    "confusion_matrix(y_test, y_pred_list)"
   ]
  },
  {
   "cell_type": "code",
   "execution_count": 54,
   "metadata": {},
   "outputs": [
    {
     "data": {
      "text/plain": [
       "<Figure size 432x288 with 0 Axes>"
      ]
     },
     "metadata": {},
     "output_type": "display_data"
    },
    {
     "data": {
      "image/png": "[encoded data removed]",
      "text/plain": [
       "<Figure size 576x432 with 2 Axes>"
      ]
     },
     "metadata": {
      "needs_background": "light"
     },
     "output_type": "display_data"
    }
   ],
   "source": [
    "# confusion matrix\n",
    "plt.figure()\n",
    "cm = confusion_matrix(test_set['target'],y_pred_list)\n",
    "labels = ['No Default', 'Default']\n",
    "plt.figure(figsize=(8,6))\n",
    "sns.heatmap(cm, xticklabels = labels, yticklabels = labels, annot = True, fmt='d', cmap=\"Blues\", vmin = 0.2);\n",
    "plt.title('Confusion Matrix')\n",
    "plt.ylabel('True Class')\n",
    "plt.xlabel('Predicted Class')\n",
    "plt.show()"
   ]
  },
  {
   "cell_type": "code",
   "execution_count": 55,
   "metadata": {},
   "outputs": [
    {
     "name": "stdout",
     "output_type": "stream",
     "text": [
      "              precision    recall  f1-score   support\n",
      "\n",
      "           0       0.97      1.00      0.98     32780\n",
      "           1       0.10      0.01      0.01       975\n",
      "\n",
      "    accuracy                           0.97     33755\n",
      "   macro avg       0.53      0.50      0.50     33755\n",
      "weighted avg       0.95      0.97      0.96     33755\n",
      "\n"
     ]
    }
   ],
   "source": [
    "# classification report\n",
    "print(classification_report(y_test, y_pred_list))"
   ]
  },
  {
   "cell_type": "markdown",
   "metadata": {},
   "source": [
    "#### Assign weight"
   ]
  },
  {
   "cell_type": "code",
   "execution_count": 64,
   "metadata": {},
   "outputs": [
    {
     "data": {
      "text/plain": [
       "(117541, 114)"
      ]
     },
     "execution_count": 64,
     "metadata": {},
     "output_type": "execute_result"
    }
   ],
   "source": [
    "data[data['target']==0].shape"
   ]
  },
  {
   "cell_type": "code",
   "execution_count": 65,
   "metadata": {},
   "outputs": [
    {
     "data": {
      "text/plain": [
       "(3388, 114)"
      ]
     },
     "execution_count": 65,
     "metadata": {},
     "output_type": "execute_result"
    }
   ],
   "source": [
    "data[data['target']==1].shape"
   ]
  },
  {
   "cell_type": "code",
   "execution_count": 30,
   "metadata": {},
   "outputs": [
    {
     "name": "stdout",
     "output_type": "stream",
     "text": [
      "binaryClassification(\n",
      "  (layer_1): Linear(in_features=111, out_features=64, bias=True)\n",
      "  (layer_2): Linear(in_features=64, out_features=64, bias=True)\n",
      "  (layer_out): Linear(in_features=64, out_features=1, bias=True)\n",
      "  (relu): ReLU()\n",
      "  (dropout): Dropout(p=0.1, inplace=False)\n",
      "  (batchnorm1): BatchNorm1d(64, eps=1e-05, momentum=0.1, affine=True, track_running_stats=True)\n",
      "  (batchnorm2): BatchNorm1d(64, eps=1e-05, momentum=0.1, affine=True, track_running_stats=True)\n",
      ")\n"
     ]
    }
   ],
   "source": [
    "# intialize optimizer and decide on which loss function to use\n",
    "model = binaryClassification()\n",
    "model.to(device)\n",
    "\n",
    "print(model)\n",
    "weight = torch.Tensor([(117541 / 3388)]).to(device)\n",
    "criterion = nn.BCEWithLogitsLoss(pos_weight=weight)\n",
    "optimizer = optim.Adam(model.parameters(), lr=learning_rate)"
   ]
  },
  {
   "cell_type": "markdown",
   "metadata": {},
   "source": [
    "### Train the model"
   ]
  },
  {
   "cell_type": "code",
   "execution_count": 82,
   "metadata": {
    "scrolled": true
   },
   "outputs": [
    {
     "name": "stdout",
     "output_type": "stream",
     "text": [
      "Epoch 001: | Loss:1.11412 | Acc: 62.991\n",
      "Epoch 002: | Loss:1.00543 | Acc: 68.855\n",
      "Epoch 003: | Loss:0.96732 | Acc: 69.903\n",
      "Epoch 004: | Loss:0.95249 | Acc: 71.161\n",
      "Epoch 005: | Loss:0.92880 | Acc: 71.731\n",
      "Epoch 006: | Loss:0.90608 | Acc: 72.078\n",
      "Epoch 007: | Loss:0.88819 | Acc: 73.078\n",
      "Epoch 008: | Loss:0.86829 | Acc: 73.481\n",
      "Epoch 009: | Loss:0.85657 | Acc: 74.188\n",
      "Epoch 010: | Loss:0.83918 | Acc: 74.468\n",
      "Epoch 011: | Loss:0.81722 | Acc: 75.255\n",
      "Epoch 012: | Loss:0.80577 | Acc: 75.484\n",
      "Epoch 013: | Loss:0.78241 | Acc: 76.380\n",
      "Epoch 014: | Loss:0.76632 | Acc: 76.902\n",
      "Epoch 015: | Loss:0.75887 | Acc: 77.214\n",
      "Epoch 016: | Loss:0.74959 | Acc: 77.492\n",
      "Epoch 017: | Loss:0.73006 | Acc: 78.483\n",
      "Epoch 018: | Loss:0.73046 | Acc: 78.263\n",
      "Epoch 019: | Loss:0.70840 | Acc: 78.900\n",
      "Epoch 020: | Loss:0.71157 | Acc: 78.841\n",
      "Epoch 021: | Loss:0.69738 | Acc: 79.375\n",
      "Epoch 022: | Loss:0.69741 | Acc: 79.671\n",
      "Epoch 023: | Loss:0.68055 | Acc: 80.015\n",
      "Epoch 024: | Loss:0.67224 | Acc: 80.216\n",
      "Epoch 025: | Loss:0.66907 | Acc: 80.468\n",
      "Epoch 026: | Loss:0.66876 | Acc: 80.091\n",
      "Epoch 027: | Loss:0.65780 | Acc: 80.993\n",
      "Epoch 028: | Loss:0.64646 | Acc: 81.014\n",
      "Epoch 029: | Loss:0.64045 | Acc: 81.200\n",
      "Epoch 030: | Loss:0.63839 | Acc: 81.277\n",
      "Epoch 031: | Loss:0.63039 | Acc: 81.643\n",
      "Epoch 032: | Loss:0.62324 | Acc: 81.782\n",
      "Epoch 033: | Loss:0.62317 | Acc: 81.775\n",
      "Epoch 034: | Loss:0.61073 | Acc: 82.069\n",
      "Epoch 035: | Loss:0.61658 | Acc: 82.088\n",
      "Epoch 036: | Loss:0.60654 | Acc: 82.255\n",
      "Epoch 037: | Loss:0.60383 | Acc: 82.500\n",
      "Epoch 038: | Loss:0.59831 | Acc: 82.474\n",
      "Epoch 039: | Loss:0.58999 | Acc: 82.960\n",
      "Epoch 040: | Loss:0.58706 | Acc: 83.184\n",
      "Epoch 041: | Loss:0.58670 | Acc: 82.986\n",
      "Epoch 042: | Loss:0.57730 | Acc: 83.206\n",
      "Epoch 043: | Loss:0.57199 | Acc: 83.589\n",
      "Epoch 044: | Loss:0.56553 | Acc: 83.312\n",
      "Epoch 045: | Loss:0.57178 | Acc: 83.460\n",
      "Epoch 046: | Loss:0.56437 | Acc: 83.564\n",
      "Epoch 047: | Loss:0.57457 | Acc: 83.738\n",
      "Epoch 048: | Loss:0.57409 | Acc: 83.671\n",
      "Epoch 049: | Loss:0.56380 | Acc: 83.694\n",
      "Epoch 050: | Loss:0.55556 | Acc: 83.980\n"
     ]
    }
   ],
   "source": [
    "model.train()\n",
    "for e in range(1, epochs+1):\n",
    "    epoch_loss = 0\n",
    "    epoch_acc = 0\n",
    "    for X_batch, y_batch in train_loader:\n",
    "        X_batch, y_batch = X_batch.to(device), y_batch.to(device)\n",
    "        optimizer.zero_grad()\n",
    "        \n",
    "        y_pred = model(X_batch)\n",
    "        \n",
    "        loss = criterion(y_pred, y_batch.unsqueeze(1))\n",
    "        acc = binary_acc(y_pred, y_batch.unsqueeze(1))\n",
    "        \n",
    "        loss.backward()\n",
    "        optimizer.step()\n",
    "        \n",
    "        epoch_loss += loss.item()\n",
    "        epoch_acc += acc.item()\n",
    "        \n",
    "    print(f'Epoch {e+0:03}: | Loss:{epoch_loss/len(train_loader):.5f} | Acc: {epoch_acc/len(train_loader):.3f}')"
   ]
  },
  {
   "cell_type": "code",
   "execution_count": 93,
   "metadata": {},
   "outputs": [],
   "source": [
    "# Test the model\n",
    "y_pred_list = []\n",
    "y_prob = []\n",
    "\n",
    "model.eval()\n",
    "with torch.no_grad():\n",
    "    for x_batch in test_loader:\n",
    "        x_batch = x_batch.to(device)\n",
    "        y_test_pred = model(x_batch)\n",
    "        y_test_pred = torch.sigmoid(y_test_pred)\n",
    "        y_prob.append(y_test_pred.cpu().numpy())\n",
    "        y_pred_tag = torch.round(y_test_pred)\n",
    "        y_pred_list.append(y_pred_tag.cpu().numpy())\n",
    "        \n",
    "y_pred_list = [a.squeeze().tolist() for a in y_pred_list]"
   ]
  },
  {
   "cell_type": "code",
   "execution_count": 84,
   "metadata": {},
   "outputs": [
    {
     "data": {
      "text/plain": [
       "<Figure size 432x288 with 0 Axes>"
      ]
     },
     "metadata": {},
     "output_type": "display_data"
    },
    {
     "data": {
      "image/png": "[encoded data removed]",
      "text/plain": [
       "<Figure size 576x432 with 2 Axes>"
      ]
     },
     "metadata": {
      "needs_background": "light"
     },
     "output_type": "display_data"
    }
   ],
   "source": [
    "# confusion matrix\n",
    "plt.figure()\n",
    "cm = confusion_matrix(test_set['target'],y_pred_list)\n",
    "labels = ['No Default', 'Default']\n",
    "plt.figure(figsize=(8,6))\n",
    "sns.heatmap(cm, xticklabels = labels, yticklabels = labels, annot = True, fmt='d', cmap=\"Blues\", vmin = 0.2);\n",
    "plt.title('Confusion Matrix')\n",
    "plt.ylabel('True Class')\n",
    "plt.xlabel('Predicted Class')\n",
    "plt.show()"
   ]
  },
  {
   "cell_type": "code",
   "execution_count": 85,
   "metadata": {},
   "outputs": [
    {
     "name": "stdout",
     "output_type": "stream",
     "text": [
      "              precision    recall  f1-score   support\n",
      "\n",
      "           0       0.98      0.89      0.93     32780\n",
      "           1       0.09      0.36      0.14       975\n",
      "\n",
      "    accuracy                           0.87     33755\n",
      "   macro avg       0.53      0.62      0.54     33755\n",
      "weighted avg       0.95      0.87      0.91     33755\n",
      "\n"
     ]
    }
   ],
   "source": [
    "# classification report\n",
    "print(classification_report(y_test, y_pred_list))"
   ]
  },
  {
   "cell_type": "code",
   "execution_count": 103,
   "metadata": {},
   "outputs": [],
   "source": [
    "prob = list()\n",
    "for i in range(len(y_prob)):\n",
    "    y_prob[i] = y_prob[i][0][0]"
   ]
  },
  {
   "cell_type": "code",
   "execution_count": 105,
   "metadata": {},
   "outputs": [
    {
     "name": "stdout",
     "output_type": "stream",
     "text": [
      "valid auc 0.7467111747313091\n"
     ]
    }
   ],
   "source": [
    "print('valid auc', roc_auc_score(y_test, y_prob))"
   ]
  },
  {
   "cell_type": "code",
   "execution_count": 109,
   "metadata": {},
   "outputs": [
    {
     "data": {
      "image/png": "[encoded data removed]",
      "text/plain": [
       "<Figure size 432x288 with 1 Axes>"
      ]
     },
     "metadata": {
      "needs_background": "light"
     },
     "output_type": "display_data"
    }
   ],
   "source": [
    "fpr_rf, tpr_rf, _ = roc_curve(y_test, y_prob)\n",
    "# ROC curve of Random Forest result\n",
    "plt.figure(1)\n",
    "plt.plot([0, 1], [0, 1], 'k--')\n",
    "plt.plot(fpr_rf, tpr_rf, label='Neural Network')\n",
    "plt.xlabel('False positive rate')\n",
    "plt.ylabel('True positive rate')\n",
    "plt.title('ROC curve - Baisc Neural Network')\n",
    "plt.legend(loc='best')\n",
    "plt.show()"
   ]
  },
  {
   "cell_type": "markdown",
   "metadata": {},
   "source": [
    "### Optimize Model"
   ]
  },
  {
   "cell_type": "code",
   "execution_count": 86,
   "metadata": {},
   "outputs": [],
   "source": [
    "class binaryClassification(nn.Module):\n",
    "    def __init__(self):\n",
    "        super(binaryClassification, self).__init__()\n",
    "        \n",
    "        # number of input fetures is 111\n",
    "        self.layer_1 = nn.Linear(111, 256)\n",
    "        self.layer_2 = nn.Linear(256, 128)\n",
    "        self.layer_3 = nn.Linear(128, 64)\n",
    "        self.layer_out = nn.Linear(64, 1)\n",
    "        \n",
    "        self.relu = nn.ReLU()\n",
    "        self.dropout = nn.Dropout(p=0.2)\n",
    "        self.batchnorm1 = nn.BatchNorm1d(256)\n",
    "        self.batchnorm2 = nn.BatchNorm1d(128)\n",
    "        self.batchnorm3 = nn.BatchNorm1d(64)\n",
    "        \n",
    "    def forward(self, inputs):\n",
    "        x = self.relu(self.layer_1(inputs))\n",
    "        x = self.batchnorm1(x)\n",
    "        x = self.relu(self.layer_2(x))\n",
    "        x = self.batchnorm2(x)\n",
    "        x = self.relu(self.layer_3(x))\n",
    "        x = self.batchnorm3(x)\n",
    "        x = self.dropout(x)\n",
    "        x = self.layer_out(x)\n",
    "        return x"
   ]
  },
  {
   "cell_type": "code",
   "execution_count": 87,
   "metadata": {},
   "outputs": [
    {
     "name": "stdout",
     "output_type": "stream",
     "text": [
      "binaryClassification(\n",
      "  (layer_1): Linear(in_features=111, out_features=256, bias=True)\n",
      "  (layer_2): Linear(in_features=256, out_features=128, bias=True)\n",
      "  (layer_3): Linear(in_features=128, out_features=64, bias=True)\n",
      "  (layer_out): Linear(in_features=64, out_features=1, bias=True)\n",
      "  (relu): ReLU()\n",
      "  (dropout): Dropout(p=0.2, inplace=False)\n",
      "  (batchnorm1): BatchNorm1d(256, eps=1e-05, momentum=0.1, affine=True, track_running_stats=True)\n",
      "  (batchnorm2): BatchNorm1d(128, eps=1e-05, momentum=0.1, affine=True, track_running_stats=True)\n",
      "  (batchnorm3): BatchNorm1d(64, eps=1e-05, momentum=0.1, affine=True, track_running_stats=True)\n",
      ")\n"
     ]
    }
   ],
   "source": [
    "# intialize optimizer and decide on which loss function to use\n",
    "model = binaryClassification()\n",
    "model.to(device)\n",
    "\n",
    "print(model)\n",
    "weight = torch.Tensor([(117541 / 3388)]).to(device)\n",
    "criterion = nn.BCEWithLogitsLoss(pos_weight=weight)\n",
    "optimizer = optim.Adam(model.parameters(), lr=learning_rate)"
   ]
  },
  {
   "cell_type": "markdown",
   "metadata": {},
   "source": [
    "### Train the model"
   ]
  },
  {
   "cell_type": "code",
   "execution_count": 88,
   "metadata": {
    "scrolled": true
   },
   "outputs": [
    {
     "name": "stdout",
     "output_type": "stream",
     "text": [
      "Epoch 001: | Loss:1.10843 | Acc: 64.727\n",
      "Epoch 002: | Loss:1.02107 | Acc: 67.475\n",
      "Epoch 003: | Loss:1.00295 | Acc: 69.062\n",
      "Epoch 004: | Loss:0.97607 | Acc: 68.953\n",
      "Epoch 005: | Loss:0.94409 | Acc: 70.695\n",
      "Epoch 006: | Loss:0.93098 | Acc: 71.306\n",
      "Epoch 007: | Loss:0.90601 | Acc: 72.035\n",
      "Epoch 008: | Loss:0.88366 | Acc: 72.802\n",
      "Epoch 009: | Loss:0.88600 | Acc: 73.639\n",
      "Epoch 010: | Loss:0.85984 | Acc: 73.748\n",
      "Epoch 011: | Loss:0.82099 | Acc: 74.440\n",
      "Epoch 012: | Loss:0.81000 | Acc: 74.547\n",
      "Epoch 013: | Loss:0.79239 | Acc: 74.818\n",
      "Epoch 014: | Loss:0.81023 | Acc: 76.245\n",
      "Epoch 015: | Loss:0.76490 | Acc: 76.018\n",
      "Epoch 016: | Loss:0.72886 | Acc: 77.217\n",
      "Epoch 017: | Loss:0.70328 | Acc: 78.113\n",
      "Epoch 018: | Loss:0.70406 | Acc: 78.308\n",
      "Epoch 019: | Loss:0.68001 | Acc: 79.839\n",
      "Epoch 020: | Loss:0.66940 | Acc: 79.660\n"
     ]
    }
   ],
   "source": [
    "model.train()\n",
    "for e in range(1, epochs+1):\n",
    "    epoch_loss = 0\n",
    "    epoch_acc = 0\n",
    "    for X_batch, y_batch in train_loader:\n",
    "        X_batch, y_batch = X_batch.to(device), y_batch.to(device)\n",
    "        optimizer.zero_grad()\n",
    "        \n",
    "        y_pred = model(X_batch)\n",
    "        \n",
    "        loss = criterion(y_pred, y_batch.unsqueeze(1))\n",
    "        acc = binary_acc(y_pred, y_batch.unsqueeze(1))\n",
    "        \n",
    "        loss.backward()\n",
    "        optimizer.step()\n",
    "        \n",
    "        epoch_loss += loss.item()\n",
    "        epoch_acc += acc.item()\n",
    "        \n",
    "    print(f'Epoch {e+0:03}: | Loss:{epoch_loss/len(train_loader):.5f} | Acc: {epoch_acc/len(train_loader):.3f}')"
   ]
  },
  {
   "cell_type": "code",
   "execution_count": 89,
   "metadata": {},
   "outputs": [],
   "source": [
    "# Test the model\n",
    "y_pred_list = []\n",
    "y_prob = []\n",
    "\n",
    "model.eval()\n",
    "with torch.no_grad():\n",
    "    for x_batch in test_loader:\n",
    "        x_batch = x_batch.to(device)\n",
    "        y_test_pred = model(x_batch)\n",
    "        y_test_pred = torch.sigmoid(y_test_pred)\n",
    "        y_prob.append(y_test_pred.cpu().numpy())\n",
    "        y_pred_tag = torch.round(y_test_pred)\n",
    "        y_pred_list.append(y_pred_tag.cpu().numpy())\n",
    "        \n",
    "y_pred_list = [a.squeeze().tolist() for a in y_pred_list]"
   ]
  },
  {
   "cell_type": "code",
   "execution_count": 90,
   "metadata": {},
   "outputs": [
    {
     "data": {
      "text/plain": [
       "<Figure size 432x288 with 0 Axes>"
      ]
     },
     "metadata": {},
     "output_type": "display_data"
    },
    {
     "data": {
      "image/png": "[encoded data removed]",
      "text/plain": [
       "<Figure size 576x432 with 2 Axes>"
      ]
     },
     "metadata": {
      "needs_background": "light"
     },
     "output_type": "display_data"
    }
   ],
   "source": [
    "# confusion matrix\n",
    "plt.figure()\n",
    "cm = confusion_matrix(test_set['target'],y_pred_list)\n",
    "labels = ['No Default', 'Default']\n",
    "plt.figure(figsize=(8,6))\n",
    "sns.heatmap(cm, xticklabels = labels, yticklabels = labels, annot = True, fmt='d', cmap=\"Blues\", vmin = 0.2);\n",
    "plt.title('Confusion Matrix')\n",
    "plt.ylabel('True Class')\n",
    "plt.xlabel('Predicted Class')\n",
    "plt.show()"
   ]
  },
  {
   "cell_type": "code",
   "execution_count": 91,
   "metadata": {},
   "outputs": [
    {
     "name": "stdout",
     "output_type": "stream",
     "text": [
      "              precision    recall  f1-score   support\n",
      "\n",
      "           0       0.98      0.87      0.92     32780\n",
      "           1       0.09      0.41      0.15       975\n",
      "\n",
      "    accuracy                           0.86     33755\n",
      "   macro avg       0.53      0.64      0.53     33755\n",
      "weighted avg       0.95      0.86      0.90     33755\n",
      "\n"
     ]
    }
   ],
   "source": [
    "# classification report\n",
    "print(classification_report(y_test, y_pred_list))"
   ]
  },
  {
   "cell_type": "code",
   "execution_count": 92,
   "metadata": {},
   "outputs": [
    {
     "name": "stdout",
     "output_type": "stream",
     "text": [
      "valid auc 0.7608412415325166\n"
     ]
    }
   ],
   "source": [
    "prob = list()\n",
    "for i in range(len(y_prob)):\n",
    "    y_prob[i] = y_prob[i][0][0]\n",
    "print('valid auc', roc_auc_score(y_test, y_prob))"
   ]
  },
  {
   "cell_type": "code",
   "execution_count": 93,
   "metadata": {},
   "outputs": [
    {
     "data": {
      "image/png": "[encoded data removed]",
      "text/plain": [
       "<Figure size 432x288 with 1 Axes>"
      ]
     },
     "metadata": {
      "needs_background": "light"
     },
     "output_type": "display_data"
    }
   ],
   "source": [
    "fpr_rf, tpr_rf, _ = roc_curve(y_test, y_prob)\n",
    "# ROC curve of Random Forest result\n",
    "plt.figure(1)\n",
    "plt.plot([0, 1], [0, 1], 'k--')\n",
    "plt.plot(fpr_rf, tpr_rf, label='Neural Network')\n",
    "plt.xlabel('False positive rate')\n",
    "plt.ylabel('True positive rate')\n",
    "plt.title('ROC curve - Baisc Neural Network')\n",
    "plt.legend(loc='best')\n",
    "plt.show()"
   ]
  }
 ],
 "metadata": {
  "kernelspec": {
   "display_name": "Python 3",
   "language": "python",
   "name": "python3"
  },
  "language_info": {
   "codemirror_mode": {
    "name": "ipython",
    "version": 3
   },
   "file_extension": ".py",
   "mimetype": "text/x-python",
   "name": "python",
   "nbconvert_exporter": "python",
   "pygments_lexer": "ipython3",
   "version": "3.7.4"
  }
 },
 "nbformat": 4,
 "nbformat_minor": 4
}
