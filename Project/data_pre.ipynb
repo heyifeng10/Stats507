{
 "cells": [
  {
   "cell_type": "code",
   "execution_count": 14,
   "metadata": {},
   "outputs": [],
   "source": [
    "import pandas as pd\n",
    "import datetime\n",
    "import matplotlib.pyplot as plt\n",
    "%matplotlib inline\n",
    "import seaborn as sns\n",
    "import numpy as np"
   ]
  },
  {
   "cell_type": "code",
   "execution_count": 2,
   "metadata": {},
   "outputs": [],
   "source": [
    "data = pd.read_csv(\"C:/Users/Vance He/Desktop/UMich/2020_WN/STATS507/project/project/data/processed_data/one_hot_truncated.csv\",\n",
    "                        parse_dates=['appl_sbm_tm'])"
   ]
  },
  {
   "cell_type": "code",
   "execution_count": 3,
   "metadata": {},
   "outputs": [
    {
     "data": {
      "text/plain": [
       "0    0\n",
       "1    0\n",
       "2    0\n",
       "3    0\n",
       "4    0\n",
       "Name: target, dtype: int64"
      ]
     },
     "execution_count": 3,
     "metadata": {},
     "output_type": "execute_result"
    }
   ],
   "source": [
    "data['target'].head()"
   ]
  },
  {
   "cell_type": "code",
   "execution_count": 4,
   "metadata": {},
   "outputs": [
    {
     "data": {
      "text/plain": [
       "0   2017-04-08 19:10:13\n",
       "1   2016-06-08 15:20:21\n",
       "2   2016-04-27 11:36:27\n",
       "3   2017-03-30 08:45:55\n",
       "4   2016-11-30 11:40:38\n",
       "Name: appl_sbm_tm, dtype: datetime64[ns]"
      ]
     },
     "execution_count": 4,
     "metadata": {},
     "output_type": "execute_result"
    }
   ],
   "source": [
    "data['appl_sbm_tm'].head()"
   ]
  },
  {
   "cell_type": "code",
   "execution_count": 8,
   "metadata": {},
   "outputs": [],
   "source": [
    "target_zero = data[data['target']==1]\n",
    "target_one = data[data['target']==0]"
   ]
  },
  {
   "cell_type": "code",
   "execution_count": 11,
   "metadata": {},
   "outputs": [
    {
     "data": {
      "text/plain": [
       "(3388, 114)"
      ]
     },
     "execution_count": 11,
     "metadata": {},
     "output_type": "execute_result"
    }
   ],
   "source": [
    "target_zero.shape"
   ]
  },
  {
   "cell_type": "code",
   "execution_count": 9,
   "metadata": {},
   "outputs": [
    {
     "data": {
      "text/plain": [
       "(117541, 114)"
      ]
     },
     "execution_count": 9,
     "metadata": {},
     "output_type": "execute_result"
    }
   ],
   "source": [
    "target_one.shape"
   ]
  },
  {
   "cell_type": "code",
   "execution_count": 7,
   "metadata": {},
   "outputs": [
    {
     "data": {
      "text/plain": [
       "(120929, 114)"
      ]
     },
     "execution_count": 7,
     "metadata": {},
     "output_type": "execute_result"
    }
   ],
   "source": [
    "data.shape"
   ]
  },
  {
   "cell_type": "code",
   "execution_count": 41,
   "metadata": {},
   "outputs": [],
   "source": [
    "data['appl_sbm_tm'] = data['appl_sbm_tm'].apply(lambda x: str(x)[:10])"
   ]
  },
  {
   "cell_type": "code",
   "execution_count": 42,
   "metadata": {},
   "outputs": [],
   "source": [
    "zero_count = data.groupby(by=['appl_sbm_tm']).apply(\n",
    "    lambda x: x['target'][(x['target'] == 0).values].count()).reset_index(name='non_default')"
   ]
  },
  {
   "cell_type": "code",
   "execution_count": 43,
   "metadata": {},
   "outputs": [],
   "source": [
    "one_count = data.groupby(by=['appl_sbm_tm']).apply(\n",
    "    lambda x: x['target'][(x['target'] == 1).values].count()).reset_index(name='default')"
   ]
  },
  {
   "cell_type": "code",
   "execution_count": 44,
   "metadata": {},
   "outputs": [],
   "source": [
    "combine = pd.merge(one_count, zero_count, on=['appl_sbm_tm'], how='left')"
   ]
  },
  {
   "cell_type": "code",
   "execution_count": 45,
   "metadata": {},
   "outputs": [],
   "source": [
    "combine['appl_sbm_tm'] = combine['appl_sbm_tm'].map(lambda x: pd.to_datetime(x, format='%Y-%m-%d'))"
   ]
  },
  {
   "cell_type": "code",
   "execution_count": 46,
   "metadata": {},
   "outputs": [
    {
     "data": {
      "image/png": "[encoded data removed]",
      "text/plain": [
       "<Figure size 432x288 with 1 Axes>"
      ]
     },
     "metadata": {
      "needs_background": "light"
     },
     "output_type": "display_data"
    }
   ],
   "source": [
    "plt.plot(combine['appl_sbm_tm'], combine['default'], label=\"default\")\n",
    "plt.plot(combine['appl_sbm_tm'], combine['non_default'], label=\"non-default\")\n",
    "plt.legend()\n",
    "plt.ylabel('count')\n",
    "plt.title('Statistical results of the number of default and non-default users over time')\n",
    "plt.show()"
   ]
  },
  {
   "cell_type": "code",
   "execution_count": 17,
   "metadata": {},
   "outputs": [
    {
     "data": {
      "image/png": "[encoded data removed]",
      "text/plain": [
       "<Figure size 432x288 with 1 Axes>"
      ]
     },
     "metadata": {
      "needs_background": "light"
     },
     "output_type": "display_data"
    }
   ],
   "source": [
    "# plot the number of default and non-default users\n",
    "performance = [target_zero.shape[0], target_one.shape[0]]\n",
    "objects = ('non-default', 'default')\n",
    "y_pos = np.arange(len(objects))\n",
    "\n",
    "plt.bar(y_pos, performance, align='center', alpha=0.5)\n",
    "plt.xticks(y_pos, objects)\n",
    "plt.ylabel('Count')\n",
    "plt.title('response variable distribution')\n",
    "\n",
    "plt.show()"
   ]
  },
  {
   "cell_type": "markdown",
   "metadata": {},
   "source": [
    "### count the missing rate for each column"
   ]
  },
  {
   "cell_type": "code",
   "execution_count": 101,
   "metadata": {
    "scrolled": true
   },
   "outputs": [
    {
     "name": "stdout",
     "output_type": "stream",
     "text": [
      "appl_sbm_tm, datetime64[ns]\n",
      "target, int64\n",
      "id, object\n",
      "id_card_x, object\n",
      "auth_time, object\n",
      "phone, object\n",
      "spt_id_card_x, int64\n",
      "phone_exist_x, int64\n",
      "auth_time_year, int64\n",
      "auth_time_month, int64\n",
      "auth_time_day, int64\n",
      "birthday, object\n",
      "id_card_y, object\n",
      "credit_score, float64\n",
      "overdraft, float64\n",
      "quota, float64\n",
      "remaining, float64\n",
      "using_rate, float64\n",
      "inverse_credit_score, float64\n",
      "hour, int64\n",
      "month, int64\n",
      "year, int64\n",
      "nan_num, int64\n",
      "diff_day, float64\n",
      "how_old, float64\n",
      "the_same_id, int64\n",
      "exist_phone, int64\n",
      "bank_name_len, int64\n",
      "tail_num_len, int64\n",
      "Online Pay, int64\n",
      "Cash on Delivery, int64\n",
      "is_double, int64\n",
      "is_0_0_0, int64\n",
      "is_0000_00_00, int64\n",
      "is_0001_1_1, int64\n",
      "AH, int64\n",
      "BJ, int64\n",
      "CQ, int64\n",
      "FJ, int64\n",
      "GD, int64\n",
      "GS, int64\n",
      "GX, int64\n",
      "GZ, int64\n",
      "HA, int64\n",
      "HB, int64\n",
      "HE, int64\n",
      "HI, int64\n",
      "HK, int64\n",
      "HL, int64\n",
      "HN, int64\n",
      "JL, int64\n",
      "JS, int64\n",
      "JX, int64\n",
      "LN, int64\n",
      "NM, int64\n",
      "NX, int64\n",
      "QH, int64\n",
      "SC, int64\n",
      "SD, int64\n",
      "SH, int64\n",
      "SN, int64\n",
      "SX, int64\n",
      "TJ, int64\n",
      "TW, int64\n",
      "XJ, int64\n",
      "XZ, int64\n",
      "YN, int64\n",
      "ZJ, int64\n",
      "unknown, int64\n",
      "receive_phone_count, int64\n",
      "unique_fix_phone, int64\n",
      "bank_phone_num, int64\n",
      "is_hobby, int64\n",
      "is_industry, int64\n",
      "is_idcard, int64\n",
      "day_order_max, float64\n",
      "day_order_min, float64\n",
      "order_time, float64\n",
      "order_mean, float64\n",
      "unit_price_mean, float64\n",
      "order_time_set, int64\n",
      "order_std, float64\n",
      "order_skew, float64\n",
      "order_sum, float64\n",
      "sex_Female, int64\n",
      "sex_Male, int64\n",
      "sex_No Disclosure, int64\n",
      "sex_unknown, int64\n",
      "merriage_Married, int64\n",
      "merriage_No Disclosure, int64\n",
      "merriage_Single, int64\n",
      "merriage_unknown, int64\n",
      "income_2000-3999, int64\n",
      "income_4000-5999, int64\n",
      "income_6000-7999, int64\n",
      "income_Below 2000, int64\n",
      "income_above 8000, int64\n",
      "income_unknown, int64\n",
      "qq_bound_Bounded, int64\n",
      "qq_bound_Not Bounded, int64\n",
      "qq_bound_unknown, int64\n",
      "degree_Bachelor, int64\n",
      "degree_College, int64\n",
      "degree_High School, int64\n",
      "degree_Master, int64\n",
      "degree_Middle School, int64\n",
      "degree_Others, int64\n",
      "degree_PhD, int64\n",
      "degree_Special Secondary School, int64\n",
      "degree_unknown, int64\n",
      "wechat_bound_Bounded, int64\n",
      "wechat_bound_Not Bounded, int64\n",
      "wechat_bound_unknown, int64\n",
      "account_grade_1st Level, int64\n",
      "account_grade_2nd Level, int64\n",
      "account_grade_3rd Level, int64\n",
      "account_grade_Initial Level, int64\n",
      "account_grade_Premier Level, int64\n",
      "account_grade_unknown, int64\n"
     ]
    }
   ],
   "source": [
    "for column in data:\n",
    "    print('{}, {}'.format(column, data[column].dtypes))"
   ]
  },
  {
   "cell_type": "code",
   "execution_count": 77,
   "metadata": {},
   "outputs": [
    {
     "name": "stdout",
     "output_type": "stream",
     "text": [
      "71\n"
     ]
    }
   ],
   "source": [
    "count = 0\n",
    "record = dict()\n",
    "for column in data:\n",
    "    if 0 in data[column].unique() and len(column) > 2 and column != 'target':\n",
    "        record[column] = data[data[column]==0].shape[0] / data[column].shape[0]\n",
    "        count += 1\n",
    "print(count)"
   ]
  },
  {
   "cell_type": "code",
   "execution_count": 79,
   "metadata": {},
   "outputs": [],
   "source": [
    "missing_rate = pd.DataFrame(record.items(), columns=['feature', 'missing rate'])"
   ]
  },
  {
   "cell_type": "code",
   "execution_count": 90,
   "metadata": {
    "scrolled": true
   },
   "outputs": [
    {
     "data": {
      "text/html": [
       "<div>\n",
       "<style scoped>\n",
       "    .dataframe tbody tr th:only-of-type {\n",
       "        vertical-align: middle;\n",
       "    }\n",
       "\n",
       "    .dataframe tbody tr th {\n",
       "        vertical-align: top;\n",
       "    }\n",
       "\n",
       "    .dataframe thead th {\n",
       "        text-align: right;\n",
       "    }\n",
       "</style>\n",
       "<table border=\"1\" class=\"dataframe\">\n",
       "  <thead>\n",
       "    <tr style=\"text-align: right;\">\n",
       "      <th></th>\n",
       "      <th>feature</th>\n",
       "      <th>missing rate</th>\n",
       "    </tr>\n",
       "  </thead>\n",
       "  <tbody>\n",
       "    <tr>\n",
       "      <th>22</th>\n",
       "      <td>is_0001_1_1</td>\n",
       "      <td>1.000000</td>\n",
       "    </tr>\n",
       "    <tr>\n",
       "      <th>19</th>\n",
       "      <td>is_double</td>\n",
       "      <td>1.000000</td>\n",
       "    </tr>\n",
       "    <tr>\n",
       "      <th>21</th>\n",
       "      <td>is_0000_00_00</td>\n",
       "      <td>1.000000</td>\n",
       "    </tr>\n",
       "    <tr>\n",
       "      <th>20</th>\n",
       "      <td>is_0_0_0</td>\n",
       "      <td>1.000000</td>\n",
       "    </tr>\n",
       "    <tr>\n",
       "      <th>59</th>\n",
       "      <td>degree_PhD</td>\n",
       "      <td>0.999868</td>\n",
       "    </tr>\n",
       "    <tr>\n",
       "      <th>58</th>\n",
       "      <td>degree_Others</td>\n",
       "      <td>0.999760</td>\n",
       "    </tr>\n",
       "    <tr>\n",
       "      <th>56</th>\n",
       "      <td>degree_Master</td>\n",
       "      <td>0.999496</td>\n",
       "    </tr>\n",
       "    <tr>\n",
       "      <th>41</th>\n",
       "      <td>merriage_No Disclosure</td>\n",
       "      <td>0.999214</td>\n",
       "    </tr>\n",
       "    <tr>\n",
       "      <th>47</th>\n",
       "      <td>income_Below 2000</td>\n",
       "      <td>0.998652</td>\n",
       "    </tr>\n",
       "    <tr>\n",
       "      <th>57</th>\n",
       "      <td>degree_Middle School</td>\n",
       "      <td>0.995882</td>\n",
       "    </tr>\n",
       "    <tr>\n",
       "      <th>60</th>\n",
       "      <td>degree_Special Secondary School</td>\n",
       "      <td>0.989333</td>\n",
       "    </tr>\n",
       "    <tr>\n",
       "      <th>55</th>\n",
       "      <td>degree_High School</td>\n",
       "      <td>0.988770</td>\n",
       "    </tr>\n",
       "    <tr>\n",
       "      <th>53</th>\n",
       "      <td>degree_Bachelor</td>\n",
       "      <td>0.987025</td>\n",
       "    </tr>\n",
       "    <tr>\n",
       "      <th>46</th>\n",
       "      <td>income_6000-7999</td>\n",
       "      <td>0.986306</td>\n",
       "    </tr>\n",
       "    <tr>\n",
       "      <th>44</th>\n",
       "      <td>income_2000-3999</td>\n",
       "      <td>0.985471</td>\n",
       "    </tr>\n",
       "    <tr>\n",
       "      <th>48</th>\n",
       "      <td>income_above 8000</td>\n",
       "      <td>0.979310</td>\n",
       "    </tr>\n",
       "    <tr>\n",
       "      <th>45</th>\n",
       "      <td>income_4000-5999</td>\n",
       "      <td>0.973819</td>\n",
       "    </tr>\n",
       "    <tr>\n",
       "      <th>69</th>\n",
       "      <td>account_grade_Premier Level</td>\n",
       "      <td>0.973141</td>\n",
       "    </tr>\n",
       "    <tr>\n",
       "      <th>39</th>\n",
       "      <td>sex_unknown</td>\n",
       "      <td>0.971769</td>\n",
       "    </tr>\n",
       "    <tr>\n",
       "      <th>54</th>\n",
       "      <td>degree_College</td>\n",
       "      <td>0.970627</td>\n",
       "    </tr>\n",
       "    <tr>\n",
       "      <th>40</th>\n",
       "      <td>merriage_Married</td>\n",
       "      <td>0.969470</td>\n",
       "    </tr>\n",
       "    <tr>\n",
       "      <th>64</th>\n",
       "      <td>wechat_bound_unknown</td>\n",
       "      <td>0.965385</td>\n",
       "    </tr>\n",
       "    <tr>\n",
       "      <th>52</th>\n",
       "      <td>qq_bound_unknown</td>\n",
       "      <td>0.965385</td>\n",
       "    </tr>\n",
       "    <tr>\n",
       "      <th>42</th>\n",
       "      <td>merriage_Single</td>\n",
       "      <td>0.957430</td>\n",
       "    </tr>\n",
       "    <tr>\n",
       "      <th>65</th>\n",
       "      <td>account_grade_1st Level</td>\n",
       "      <td>0.936756</td>\n",
       "    </tr>\n",
       "    <tr>\n",
       "      <th>36</th>\n",
       "      <td>sex_Female</td>\n",
       "      <td>0.932018</td>\n",
       "    </tr>\n",
       "    <tr>\n",
       "      <th>27</th>\n",
       "      <td>is_industry</td>\n",
       "      <td>0.931414</td>\n",
       "    </tr>\n",
       "    <tr>\n",
       "      <th>28</th>\n",
       "      <td>is_idcard</td>\n",
       "      <td>0.925502</td>\n",
       "    </tr>\n",
       "    <tr>\n",
       "      <th>66</th>\n",
       "      <td>account_grade_2nd Level</td>\n",
       "      <td>0.901289</td>\n",
       "    </tr>\n",
       "    <tr>\n",
       "      <th>26</th>\n",
       "      <td>is_hobby</td>\n",
       "      <td>0.874579</td>\n",
       "    </tr>\n",
       "    <tr>\n",
       "      <th>32</th>\n",
       "      <td>unit_price_mean</td>\n",
       "      <td>0.871148</td>\n",
       "    </tr>\n",
       "    <tr>\n",
       "      <th>67</th>\n",
       "      <td>account_grade_3rd Level</td>\n",
       "      <td>0.849135</td>\n",
       "    </tr>\n",
       "    <tr>\n",
       "      <th>18</th>\n",
       "      <td>Cash on Delivery</td>\n",
       "      <td>0.839129</td>\n",
       "    </tr>\n",
       "    <tr>\n",
       "      <th>68</th>\n",
       "      <td>account_grade_Initial Level</td>\n",
       "      <td>0.782252</td>\n",
       "    </tr>\n",
       "    <tr>\n",
       "      <th>6</th>\n",
       "      <td>overdraft</td>\n",
       "      <td>0.726997</td>\n",
       "    </tr>\n",
       "    <tr>\n",
       "      <th>9</th>\n",
       "      <td>using_rate</td>\n",
       "      <td>0.726997</td>\n",
       "    </tr>\n",
       "    <tr>\n",
       "      <th>23</th>\n",
       "      <td>unknown</td>\n",
       "      <td>0.721084</td>\n",
       "    </tr>\n",
       "    <tr>\n",
       "      <th>37</th>\n",
       "      <td>sex_Male</td>\n",
       "      <td>0.717975</td>\n",
       "    </tr>\n",
       "    <tr>\n",
       "      <th>8</th>\n",
       "      <td>remaining</td>\n",
       "      <td>0.717934</td>\n",
       "    </tr>\n",
       "    <tr>\n",
       "      <th>7</th>\n",
       "      <td>quota</td>\n",
       "      <td>0.688569</td>\n",
       "    </tr>\n",
       "    <tr>\n",
       "      <th>14</th>\n",
       "      <td>how_old</td>\n",
       "      <td>0.673792</td>\n",
       "    </tr>\n",
       "    <tr>\n",
       "      <th>50</th>\n",
       "      <td>qq_bound_Bounded</td>\n",
       "      <td>0.639102</td>\n",
       "    </tr>\n",
       "    <tr>\n",
       "      <th>63</th>\n",
       "      <td>wechat_bound_Not Bounded</td>\n",
       "      <td>0.630023</td>\n",
       "    </tr>\n",
       "    <tr>\n",
       "      <th>34</th>\n",
       "      <td>order_skew</td>\n",
       "      <td>0.594324</td>\n",
       "    </tr>\n",
       "    <tr>\n",
       "      <th>25</th>\n",
       "      <td>unique_fix_phone</td>\n",
       "      <td>0.562785</td>\n",
       "    </tr>\n",
       "    <tr>\n",
       "      <th>24</th>\n",
       "      <td>receive_phone_count</td>\n",
       "      <td>0.562785</td>\n",
       "    </tr>\n",
       "    <tr>\n",
       "      <th>70</th>\n",
       "      <td>account_grade_unknown</td>\n",
       "      <td>0.557426</td>\n",
       "    </tr>\n",
       "    <tr>\n",
       "      <th>33</th>\n",
       "      <td>order_std</td>\n",
       "      <td>0.556459</td>\n",
       "    </tr>\n",
       "    <tr>\n",
       "      <th>29</th>\n",
       "      <td>day_order_max</td>\n",
       "      <td>0.489659</td>\n",
       "    </tr>\n",
       "    <tr>\n",
       "      <th>17</th>\n",
       "      <td>Online Pay</td>\n",
       "      <td>0.482068</td>\n",
       "    </tr>\n",
       "  </tbody>\n",
       "</table>\n",
       "</div>"
      ],
      "text/plain": [
       "                            feature  missing rate\n",
       "22                      is_0001_1_1      1.000000\n",
       "19                        is_double      1.000000\n",
       "21                    is_0000_00_00      1.000000\n",
       "20                         is_0_0_0      1.000000\n",
       "59                       degree_PhD      0.999868\n",
       "58                    degree_Others      0.999760\n",
       "56                    degree_Master      0.999496\n",
       "41           merriage_No Disclosure      0.999214\n",
       "47                income_Below 2000      0.998652\n",
       "57             degree_Middle School      0.995882\n",
       "60  degree_Special Secondary School      0.989333\n",
       "55               degree_High School      0.988770\n",
       "53                  degree_Bachelor      0.987025\n",
       "46                 income_6000-7999      0.986306\n",
       "44                 income_2000-3999      0.985471\n",
       "48                income_above 8000      0.979310\n",
       "45                 income_4000-5999      0.973819\n",
       "69      account_grade_Premier Level      0.973141\n",
       "39                      sex_unknown      0.971769\n",
       "54                   degree_College      0.970627\n",
       "40                 merriage_Married      0.969470\n",
       "64             wechat_bound_unknown      0.965385\n",
       "52                 qq_bound_unknown      0.965385\n",
       "42                  merriage_Single      0.957430\n",
       "65          account_grade_1st Level      0.936756\n",
       "36                       sex_Female      0.932018\n",
       "27                      is_industry      0.931414\n",
       "28                        is_idcard      0.925502\n",
       "66          account_grade_2nd Level      0.901289\n",
       "26                         is_hobby      0.874579\n",
       "32                  unit_price_mean      0.871148\n",
       "67          account_grade_3rd Level      0.849135\n",
       "18                 Cash on Delivery      0.839129\n",
       "68      account_grade_Initial Level      0.782252\n",
       "6                         overdraft      0.726997\n",
       "9                        using_rate      0.726997\n",
       "23                          unknown      0.721084\n",
       "37                         sex_Male      0.717975\n",
       "8                         remaining      0.717934\n",
       "7                             quota      0.688569\n",
       "14                          how_old      0.673792\n",
       "50                 qq_bound_Bounded      0.639102\n",
       "63         wechat_bound_Not Bounded      0.630023\n",
       "34                       order_skew      0.594324\n",
       "25                 unique_fix_phone      0.562785\n",
       "24              receive_phone_count      0.562785\n",
       "70            account_grade_unknown      0.557426\n",
       "33                        order_std      0.556459\n",
       "29                    day_order_max      0.489659\n",
       "17                       Online Pay      0.482068"
      ]
     },
     "execution_count": 90,
     "metadata": {},
     "output_type": "execute_result"
    }
   ],
   "source": [
    "missing_rate.sort_values(by='missing rate', axis=0, ascending=False).head(50)"
   ]
  },
  {
   "cell_type": "code",
   "execution_count": 93,
   "metadata": {},
   "outputs": [],
   "source": [
    "new = data.drop(columns = \"is_0001_1_1\")\n",
    "new = new.drop(columns = \"is_double\")\n",
    "new = new.drop(columns = \"is_0000_00_00\")\n",
    "new = new.drop(columns = \"is_0_0_0\")\n",
    "new = new.drop(columns = \"is_industry\")\n",
    "new = new.drop(columns = \"is_idcard\")"
   ]
  },
  {
   "cell_type": "code",
   "execution_count": 94,
   "metadata": {},
   "outputs": [],
   "source": [
    "new.to_csv('C:/Users/Vance He/Desktop/UMich/2020_WN/STATS507/project/project/data/processed_data/train_data_truncated.csv')"
   ]
  },
  {
   "cell_type": "markdown",
   "metadata": {},
   "source": [
    "### apply heatmap"
   ]
  },
  {
   "cell_type": "code",
   "execution_count": 32,
   "metadata": {},
   "outputs": [
    {
     "data": {
      "text/plain": [
       "['appl_sbm_tm',\n",
       " 'phone',\n",
       " 'spt_id_card_x',\n",
       " 'phone_exist_x',\n",
       " 'auth_time_year',\n",
       " 'auth_time_month',\n",
       " 'auth_time_day',\n",
       " 'birthday',\n",
       " 'credit_score',\n",
       " 'overdraft',\n",
       " 'quota',\n",
       " 'remaining',\n",
       " 'using_rate',\n",
       " 'inverse_credit_score',\n",
       " 'hour',\n",
       " 'month',\n",
       " 'year',\n",
       " 'nan_num',\n",
       " 'diff_day',\n",
       " 'how_old',\n",
       " 'the_same_id',\n",
       " 'exist_phone',\n",
       " 'bank_name_len',\n",
       " 'tail_num_len',\n",
       " 'Online Pay',\n",
       " 'Cash on Delivery',\n",
       " 'unknown',\n",
       " 'receive_phone_count',\n",
       " 'unique_fix_phone',\n",
       " 'bank_phone_num',\n",
       " 'is_hobby',\n",
       " 'day_order_max',\n",
       " 'day_order_min',\n",
       " 'order_time',\n",
       " 'order_mean',\n",
       " 'unit_price_mean',\n",
       " 'order_time_set',\n",
       " 'order_std',\n",
       " 'order_skew',\n",
       " 'order_sum',\n",
       " 'merriage_Married',\n",
       " 'merriage_No Disclosure',\n",
       " 'merriage_Single',\n",
       " 'merriage_unknown',\n",
       " 'income_2000-3999',\n",
       " 'income_4000-5999',\n",
       " 'income_6000-7999',\n",
       " 'income_Below 2000',\n",
       " 'income_above 8000',\n",
       " 'income_unknown',\n",
       " 'qq_bound_Bounded',\n",
       " 'qq_bound_Not Bounded',\n",
       " 'qq_bound_unknown',\n",
       " 'wechat_bound_Bounded',\n",
       " 'wechat_bound_Not Bounded',\n",
       " 'wechat_bound_unknown',\n",
       " 'account_grade_1st Level',\n",
       " 'account_grade_2nd Level',\n",
       " 'account_grade_3rd Level',\n",
       " 'account_grade_Initial Level',\n",
       " 'account_grade_Premier Level',\n",
       " 'account_grade_unknown']"
      ]
     },
     "execution_count": 32,
     "metadata": {},
     "output_type": "execute_result"
    }
   ],
   "source": [
    "res = []\n",
    "for column in data:\n",
    "    if len(column) > 2 and column != 'target' and 'degree' not in column and 'sex' not in column: \n",
    "        res.append(column)\n",
    "res"
   ]
  },
  {
   "cell_type": "code",
   "execution_count": 27,
   "metadata": {},
   "outputs": [],
   "source": [
    "data = data.drop('Unnamed: 0', axis=1)"
   ]
  },
  {
   "cell_type": "code",
   "execution_count": 33,
   "metadata": {
    "scrolled": false
   },
   "outputs": [
    {
     "data": {
      "image/png": "[encoded data removed]",
      "text/plain": [
       "<Figure size 432x288 with 2 Axes>"
      ]
     },
     "metadata": {
      "needs_background": "light"
     },
     "output_type": "display_data"
    }
   ],
   "source": [
    "# correlations between all the features\n",
    "corr = data[res].corr()\n",
    "\n",
    "# show heapmap of correlations\n",
    "sns.heatmap(corr)\n",
    "plt.show()"
   ]
  },
  {
   "cell_type": "markdown",
   "metadata": {},
   "source": [
    "### generate new data file (delete high missing rate features)"
   ]
  },
  {
   "cell_type": "code",
   "execution_count": 2,
   "metadata": {},
   "outputs": [],
   "source": [
    "one_hot = pd.read_csv(\"C:/Users/Vance He/Desktop/UMich/2020_WN/STATS507/project/project/data/processed_data/train_data_one_hot.csv\",\n",
    "                        parse_dates=['appl_sbm_tm'])\n",
    "data = pd.read_csv(\"C:/Users/Vance He/Desktop/UMich/2020_WN/STATS507/project/project/data/processed_data/train_data.csv\",\n",
    "                        parse_dates=['appl_sbm_tm'])"
   ]
  },
  {
   "cell_type": "code",
   "execution_count": 8,
   "metadata": {},
   "outputs": [
    {
     "name": "stdout",
     "output_type": "stream",
     "text": [
      "appl_sbm_tm, datetime64[ns]\n",
      "target, int64\n",
      "id, object\n",
      "id_card_x, object\n",
      "auth_time, object\n",
      "phone, object\n",
      "spt_id_card_x, int64\n",
      "phone_exist_x, int64\n",
      "auth_time_year, int64\n",
      "auth_time_month, int64\n",
      "auth_time_day, int64\n",
      "birthday, object\n",
      "id_card_y, object\n",
      "credit_score, float64\n",
      "overdraft, float64\n",
      "quota, float64\n",
      "remaining, float64\n",
      "using_rate, float64\n",
      "inverse_credit_score, float64\n",
      "hour, int64\n",
      "month, int64\n",
      "year, int64\n",
      "nan_num, int64\n",
      "diff_day, float64\n",
      "how_old, float64\n",
      "the_same_id, int64\n",
      "exist_phone, int64\n",
      "bank_name_len, int64\n",
      "tail_num_len, int64\n",
      "Online Pay, int64\n",
      "Cash on Delivery, int64\n",
      "is_double, int64\n",
      "is_0_0_0, int64\n",
      "is_0000_00_00, int64\n",
      "is_0001_1_1, int64\n",
      "AH, int64\n",
      "BJ, int64\n",
      "CQ, int64\n",
      "FJ, int64\n",
      "GD, int64\n",
      "GS, int64\n",
      "GX, int64\n",
      "GZ, int64\n",
      "HA, int64\n",
      "HB, int64\n",
      "HE, int64\n",
      "HI, int64\n",
      "HK, int64\n",
      "HL, int64\n",
      "HN, int64\n",
      "JL, int64\n",
      "JS, int64\n",
      "JX, int64\n",
      "LN, int64\n",
      "NM, int64\n",
      "NX, int64\n",
      "QH, int64\n",
      "SC, int64\n",
      "SD, int64\n",
      "SH, int64\n",
      "SN, int64\n",
      "SX, int64\n",
      "TJ, int64\n",
      "TW, int64\n",
      "XJ, int64\n",
      "XZ, int64\n",
      "YN, int64\n",
      "ZJ, int64\n",
      "unknown, int64\n",
      "receive_phone_count, int64\n",
      "unique_fix_phone, int64\n",
      "bank_phone_num, int64\n",
      "is_hobby, int64\n",
      "is_industry, int64\n",
      "is_idcard, int64\n",
      "day_order_max, float64\n",
      "day_order_min, float64\n",
      "order_time, float64\n",
      "order_mean, float64\n",
      "unit_price_mean, float64\n",
      "order_time_set, int64\n",
      "order_std, float64\n",
      "order_skew, float64\n",
      "order_sum, float64\n",
      "sex_Female, int64\n",
      "sex_Male, int64\n",
      "sex_No Disclosure, int64\n",
      "sex_unknown, int64\n",
      "merriage_Married, int64\n",
      "merriage_No Disclosure, int64\n",
      "merriage_Single, int64\n",
      "merriage_unknown, int64\n",
      "income_2000-3999, int64\n",
      "income_4000-5999, int64\n",
      "income_6000-7999, int64\n",
      "income_Below 2000, int64\n",
      "income_above 8000, int64\n",
      "income_unknown, int64\n",
      "qq_bound_Bounded, int64\n",
      "qq_bound_Not Bounded, int64\n",
      "qq_bound_unknown, int64\n",
      "degree_Bachelor, int64\n",
      "degree_College, int64\n",
      "degree_High School, int64\n",
      "degree_Master, int64\n",
      "degree_Middle School, int64\n",
      "degree_Others, int64\n",
      "degree_PhD, int64\n",
      "degree_Special Secondary School, int64\n",
      "degree_unknown, int64\n",
      "wechat_bound_Bounded, int64\n",
      "wechat_bound_Not Bounded, int64\n",
      "wechat_bound_unknown, int64\n",
      "account_grade_1st Level, int64\n",
      "account_grade_2nd Level, int64\n",
      "account_grade_3rd Level, int64\n",
      "account_grade_Initial Level, int64\n",
      "account_grade_Premier Level, int64\n",
      "account_grade_unknown, int64\n"
     ]
    }
   ],
   "source": [
    "for column in one_hot:\n",
    "    print('{}, {}'.format(column, one_hot[column].dtypes))"
   ]
  },
  {
   "cell_type": "code",
   "execution_count": 12,
   "metadata": {},
   "outputs": [
    {
     "data": {
      "text/html": [
       "<div>\n",
       "<style scoped>\n",
       "    .dataframe tbody tr th:only-of-type {\n",
       "        vertical-align: middle;\n",
       "    }\n",
       "\n",
       "    .dataframe tbody tr th {\n",
       "        vertical-align: top;\n",
       "    }\n",
       "\n",
       "    .dataframe thead th {\n",
       "        text-align: right;\n",
       "    }\n",
       "</style>\n",
       "<table border=\"1\" class=\"dataframe\">\n",
       "  <thead>\n",
       "    <tr style=\"text-align: right;\">\n",
       "      <th></th>\n",
       "      <th>appl_sbm_tm</th>\n",
       "      <th>target</th>\n",
       "      <th>id</th>\n",
       "      <th>id_card_x</th>\n",
       "      <th>auth_time</th>\n",
       "      <th>phone</th>\n",
       "      <th>spt_id_card_x</th>\n",
       "      <th>phone_exist_x</th>\n",
       "      <th>auth_time_year</th>\n",
       "      <th>auth_time_month</th>\n",
       "      <th>...</th>\n",
       "      <th>account_grade_2nd Level</th>\n",
       "      <th>account_grade_3rd Level</th>\n",
       "      <th>account_grade_Initial Level</th>\n",
       "      <th>account_grade_Premier Level</th>\n",
       "      <th>account_grade_unknown</th>\n",
       "      <th>0</th>\n",
       "      <th>China Mobile</th>\n",
       "      <th>China Telecom</th>\n",
       "      <th>China Unicom</th>\n",
       "      <th>Other</th>\n",
       "    </tr>\n",
       "  </thead>\n",
       "  <tbody>\n",
       "    <tr>\n",
       "      <th>0</th>\n",
       "      <td>2017-04-08 19:10:13</td>\n",
       "      <td>0</td>\n",
       "      <td>600689284231467016</td>\n",
       "      <td>4****************2</td>\n",
       "      <td>2017-03-05</td>\n",
       "      <td>China Mobile</td>\n",
       "      <td>1</td>\n",
       "      <td>1</td>\n",
       "      <td>2017</td>\n",
       "      <td>3</td>\n",
       "      <td>...</td>\n",
       "      <td>0</td>\n",
       "      <td>0</td>\n",
       "      <td>0</td>\n",
       "      <td>0</td>\n",
       "      <td>1</td>\n",
       "      <td>0</td>\n",
       "      <td>1</td>\n",
       "      <td>0</td>\n",
       "      <td>0</td>\n",
       "      <td>0</td>\n",
       "    </tr>\n",
       "    <tr>\n",
       "      <th>1</th>\n",
       "      <td>2016-06-08 15:20:21</td>\n",
       "      <td>0</td>\n",
       "      <td>20160608150003808365</td>\n",
       "      <td>2****************3</td>\n",
       "      <td>2016-01-31</td>\n",
       "      <td>China Mobile</td>\n",
       "      <td>1</td>\n",
       "      <td>1</td>\n",
       "      <td>2016</td>\n",
       "      <td>1</td>\n",
       "      <td>...</td>\n",
       "      <td>0</td>\n",
       "      <td>0</td>\n",
       "      <td>0</td>\n",
       "      <td>0</td>\n",
       "      <td>1</td>\n",
       "      <td>0</td>\n",
       "      <td>1</td>\n",
       "      <td>0</td>\n",
       "      <td>0</td>\n",
       "      <td>0</td>\n",
       "    </tr>\n",
       "    <tr>\n",
       "      <th>2</th>\n",
       "      <td>2016-04-27 11:36:27</td>\n",
       "      <td>0</td>\n",
       "      <td>20160427110002485018</td>\n",
       "      <td>4****************7</td>\n",
       "      <td>2017-06-18</td>\n",
       "      <td>China Mobile</td>\n",
       "      <td>1</td>\n",
       "      <td>1</td>\n",
       "      <td>2017</td>\n",
       "      <td>6</td>\n",
       "      <td>...</td>\n",
       "      <td>0</td>\n",
       "      <td>1</td>\n",
       "      <td>0</td>\n",
       "      <td>0</td>\n",
       "      <td>0</td>\n",
       "      <td>0</td>\n",
       "      <td>1</td>\n",
       "      <td>0</td>\n",
       "      <td>0</td>\n",
       "      <td>0</td>\n",
       "    </tr>\n",
       "    <tr>\n",
       "      <th>3</th>\n",
       "      <td>2017-03-30 08:45:55</td>\n",
       "      <td>0</td>\n",
       "      <td>593852820159991816</td>\n",
       "      <td>0</td>\n",
       "      <td>0</td>\n",
       "      <td>China Unicom</td>\n",
       "      <td>0</td>\n",
       "      <td>1</td>\n",
       "      <td>0</td>\n",
       "      <td>0</td>\n",
       "      <td>...</td>\n",
       "      <td>0</td>\n",
       "      <td>0</td>\n",
       "      <td>0</td>\n",
       "      <td>0</td>\n",
       "      <td>1</td>\n",
       "      <td>0</td>\n",
       "      <td>0</td>\n",
       "      <td>0</td>\n",
       "      <td>1</td>\n",
       "      <td>0</td>\n",
       "    </tr>\n",
       "    <tr>\n",
       "      <th>4</th>\n",
       "      <td>2016-11-30 11:40:38</td>\n",
       "      <td>0</td>\n",
       "      <td>506970882778861832</td>\n",
       "      <td>6****************2</td>\n",
       "      <td>2017-12-15</td>\n",
       "      <td>China Mobile</td>\n",
       "      <td>1</td>\n",
       "      <td>1</td>\n",
       "      <td>2017</td>\n",
       "      <td>12</td>\n",
       "      <td>...</td>\n",
       "      <td>0</td>\n",
       "      <td>0</td>\n",
       "      <td>0</td>\n",
       "      <td>0</td>\n",
       "      <td>1</td>\n",
       "      <td>0</td>\n",
       "      <td>1</td>\n",
       "      <td>0</td>\n",
       "      <td>0</td>\n",
       "      <td>0</td>\n",
       "    </tr>\n",
       "  </tbody>\n",
       "</table>\n",
       "<p>5 rows × 124 columns</p>\n",
       "</div>"
      ],
      "text/plain": [
       "          appl_sbm_tm  target                    id           id_card_x  \\\n",
       "0 2017-04-08 19:10:13       0    600689284231467016  4****************2   \n",
       "1 2016-06-08 15:20:21       0  20160608150003808365  2****************3   \n",
       "2 2016-04-27 11:36:27       0  20160427110002485018  4****************7   \n",
       "3 2017-03-30 08:45:55       0    593852820159991816                   0   \n",
       "4 2016-11-30 11:40:38       0    506970882778861832  6****************2   \n",
       "\n",
       "    auth_time         phone  spt_id_card_x  phone_exist_x  auth_time_year  \\\n",
       "0  2017-03-05  China Mobile              1              1            2017   \n",
       "1  2016-01-31  China Mobile              1              1            2016   \n",
       "2  2017-06-18  China Mobile              1              1            2017   \n",
       "3           0  China Unicom              0              1               0   \n",
       "4  2017-12-15  China Mobile              1              1            2017   \n",
       "\n",
       "   auth_time_month  ...  account_grade_2nd Level account_grade_3rd Level  \\\n",
       "0                3  ...                        0                       0   \n",
       "1                1  ...                        0                       0   \n",
       "2                6  ...                        0                       1   \n",
       "3                0  ...                        0                       0   \n",
       "4               12  ...                        0                       0   \n",
       "\n",
       "  account_grade_Initial Level  account_grade_Premier Level  \\\n",
       "0                           0                            0   \n",
       "1                           0                            0   \n",
       "2                           0                            0   \n",
       "3                           0                            0   \n",
       "4                           0                            0   \n",
       "\n",
       "   account_grade_unknown  0  China Mobile  China Telecom  China Unicom  Other  \n",
       "0                      1  0             1              0             0      0  \n",
       "1                      1  0             1              0             0      0  \n",
       "2                      0  0             1              0             0      0  \n",
       "3                      1  0             0              0             1      0  \n",
       "4                      1  0             1              0             0      0  \n",
       "\n",
       "[5 rows x 124 columns]"
      ]
     },
     "execution_count": 12,
     "metadata": {},
     "output_type": "execute_result"
    }
   ],
   "source": [
    "dummy_df = pd.get_dummies(one_hot.loc[:,'phone'])\n",
    "# add one-hot features\n",
    "data_copy = pd.concat([one_hot, dummy_df], axis=1)\n",
    "data_copy = data_copy.fillna(0)\n",
    "data_copy.head()"
   ]
  },
  {
   "cell_type": "code",
   "execution_count": 13,
   "metadata": {},
   "outputs": [],
   "source": [
    "data_copy = data_copy.drop('phone', axis=1)"
   ]
  },
  {
   "cell_type": "code",
   "execution_count": 15,
   "metadata": {},
   "outputs": [],
   "source": [
    "data_copy.to_csv('C:/Users/Vance He/Desktop/UMich/2020_WN/STATS507/project/project/data/processed_data/train_data_one_hot.csv')"
   ]
  },
  {
   "cell_type": "code",
   "execution_count": 16,
   "metadata": {},
   "outputs": [
    {
     "data": {
      "text/plain": [
       "array(['2017-03-05', '2016-01-31', '2017-06-18', ..., '2018-01-01',\n",
       "       '2014-02-24', '2014-09-25'], dtype=object)"
      ]
     },
     "execution_count": 16,
     "metadata": {},
     "output_type": "execute_result"
    }
   ],
   "source": [
    "one_hot['auth_time'].unique()"
   ]
  },
  {
   "cell_type": "code",
   "execution_count": 17,
   "metadata": {},
   "outputs": [],
   "source": [
    "hot_data = one_hot.drop(columns = \"id_card_x\")\n",
    "hot_data = hot_data.drop(columns = \"id\")\n",
    "hot_data = hot_data.drop(columns = \"auth_time\")\n",
    "hot_data = hot_data.drop(columns = \"id_card_y\")"
   ]
  },
  {
   "cell_type": "code",
   "execution_count": 19,
   "metadata": {},
   "outputs": [],
   "source": [
    "hot_data = hot_data.drop(columns = \"is_0001_1_1\")\n",
    "hot_data = hot_data.drop(columns = \"is_double\")\n",
    "hot_data = hot_data.drop(columns = \"is_0000_00_00\")\n",
    "hot_data = hot_data.drop(columns = \"is_0_0_0\")\n",
    "hot_data = hot_data.drop(columns = \"is_industry\")\n",
    "hot_data = hot_data.drop(columns = \"is_idcard\")"
   ]
  },
  {
   "cell_type": "code",
   "execution_count": 20,
   "metadata": {},
   "outputs": [],
   "source": [
    "hot_data.to_csv('C:/Users/Vance He/Desktop/UMich/2020_WN/STATS507/project/project/data/processed_data/one_hot_truncated.csv')"
   ]
  },
  {
   "cell_type": "code",
   "execution_count": 22,
   "metadata": {},
   "outputs": [],
   "source": [
    "new_data = data.drop(columns = \"id_card_x\")\n",
    "new_data = new_data.drop(columns = \"id\")\n",
    "new_data = new_data.drop(columns = \"auth_time\")\n",
    "new_data = new_data.drop(columns = \"id_card_y\")\n",
    "new_data = new_data.drop(columns = \"is_0001_1_1\")\n",
    "new_data = new_data.drop(columns = \"is_double\")\n",
    "new_data = new_data.drop(columns = \"is_0000_00_00\")\n",
    "new_data = new_data.drop(columns = \"is_0_0_0\")\n",
    "new_data = new_data.drop(columns = \"is_industry\")\n",
    "new_data = new_data.drop(columns = \"is_idcard\")\n",
    "new_data.to_csv('C:/Users/Vance He/Desktop/UMich/2020_WN/STATS507/project/project/data/processed_data/data_truncated.csv')"
   ]
  },
  {
   "cell_type": "markdown",
   "metadata": {},
   "source": [
    "### convert string type to numeric "
   ]
  },
  {
   "cell_type": "code",
   "execution_count": 37,
   "metadata": {},
   "outputs": [],
   "source": [
    "#data = data.drop('Unnamed: 0', axis=1)\n",
    "#data = data.drop('Unnamed: 0.1', axis=1)\n",
    "data.to_csv('C:/Users/Vance He/Desktop/UMich/2020_WN/STATS507/project/project/data/processed_data/one_hot_truncated.csv', index=False)"
   ]
  },
  {
   "cell_type": "code",
   "execution_count": 15,
   "metadata": {},
   "outputs": [
    {
     "name": "stdout",
     "output_type": "stream",
     "text": [
      "appl_sbm_tm, datetime64[ns]\n",
      "target, int64\n",
      "spt_id_card_x, int64\n",
      "phone_exist_x, int64\n",
      "auth_time_year, int64\n",
      "auth_time_month, int64\n",
      "auth_time_day, int64\n",
      "birthday, object\n",
      "credit_score, float64\n",
      "overdraft, float64\n",
      "quota, float64\n",
      "remaining, float64\n",
      "using_rate, float64\n",
      "inverse_credit_score, float64\n",
      "hour, int64\n",
      "month, int64\n",
      "year, int64\n",
      "nan_num, int64\n",
      "diff_day, float64\n",
      "how_old, float64\n",
      "the_same_id, int64\n",
      "exist_phone, int64\n",
      "bank_name_len, int64\n",
      "tail_num_len, int64\n",
      "Online Pay, int64\n",
      "Cash on Delivery, int64\n",
      "AH, int64\n",
      "BJ, int64\n",
      "CQ, int64\n",
      "FJ, int64\n",
      "GD, int64\n",
      "GS, int64\n",
      "GX, int64\n",
      "GZ, int64\n",
      "HA, int64\n",
      "HB, int64\n",
      "HE, int64\n",
      "HI, int64\n",
      "HK, int64\n",
      "HL, int64\n",
      "HN, int64\n",
      "JL, int64\n",
      "JS, int64\n",
      "JX, int64\n",
      "LN, int64\n",
      "NM, int64\n",
      "NX, int64\n",
      "QH, int64\n",
      "SC, int64\n",
      "SD, int64\n",
      "SH, int64\n",
      "SN, int64\n",
      "SX, int64\n",
      "TJ, int64\n",
      "TW, int64\n",
      "XJ, int64\n",
      "XZ, int64\n",
      "YN, int64\n",
      "ZJ, int64\n",
      "unknown, int64\n",
      "receive_phone_count, int64\n",
      "unique_fix_phone, int64\n",
      "bank_phone_num, int64\n",
      "is_hobby, int64\n",
      "day_order_max, float64\n",
      "day_order_min, float64\n",
      "order_time, float64\n",
      "order_mean, float64\n",
      "unit_price_mean, float64\n",
      "order_time_set, int64\n",
      "order_std, float64\n",
      "order_skew, float64\n",
      "order_sum, float64\n",
      "sex_Female, int64\n",
      "sex_Male, int64\n",
      "sex_No Disclosure, int64\n",
      "sex_unknown, int64\n",
      "merriage_Married, int64\n",
      "merriage_No Disclosure, int64\n",
      "merriage_Single, int64\n",
      "merriage_unknown, int64\n",
      "income_2000-3999, int64\n",
      "income_4000-5999, int64\n",
      "income_6000-7999, int64\n",
      "income_Below 2000, int64\n",
      "income_above 8000, int64\n",
      "income_unknown, int64\n",
      "qq_bound_Bounded, int64\n",
      "qq_bound_Not Bounded, int64\n",
      "qq_bound_unknown, int64\n",
      "degree_Bachelor, int64\n",
      "degree_College, int64\n",
      "degree_High School, int64\n",
      "degree_Master, int64\n",
      "degree_Middle School, int64\n",
      "degree_Others, int64\n",
      "degree_PhD, int64\n",
      "degree_Special Secondary School, int64\n",
      "degree_unknown, int64\n",
      "wechat_bound_Bounded, int64\n",
      "wechat_bound_Not Bounded, int64\n",
      "wechat_bound_unknown, int64\n",
      "account_grade_1st Level, int64\n",
      "account_grade_2nd Level, int64\n",
      "account_grade_3rd Level, int64\n",
      "account_grade_Initial Level, int64\n",
      "account_grade_Premier Level, int64\n",
      "account_grade_unknown, int64\n",
      "China Mobile, int64\n",
      "China Telecom, int64\n",
      "China Unicom, int64\n",
      "Other, int64\n",
      "missing_phone, int64\n"
     ]
    }
   ],
   "source": [
    "for column in data:\n",
    "    print('{}, {}'.format(column, data[column].dtypes))"
   ]
  },
  {
   "cell_type": "code",
   "execution_count": 28,
   "metadata": {},
   "outputs": [],
   "source": [
    "min_time = min(data['appl_sbm_tm'])"
   ]
  },
  {
   "cell_type": "code",
   "execution_count": 29,
   "metadata": {},
   "outputs": [],
   "source": [
    "data['appl_tm_num'] = data['appl_sbm_tm'].apply(lambda x: x-min_time)"
   ]
  },
  {
   "cell_type": "code",
   "execution_count": 35,
   "metadata": {},
   "outputs": [],
   "source": [
    "data['appl_tm_num'] = data['appl_tm_num'].dt.days"
   ]
  },
  {
   "cell_type": "code",
   "execution_count": 36,
   "metadata": {},
   "outputs": [
    {
     "data": {
      "text/plain": [
       "0    376\n",
       "1     72\n",
       "2     30\n",
       "3    366\n",
       "4    247\n",
       "Name: appl_tm_num, dtype: int64"
      ]
     },
     "execution_count": 36,
     "metadata": {},
     "output_type": "execute_result"
    }
   ],
   "source": [
    "data['appl_tm_num'].head()"
   ]
  },
  {
   "cell_type": "code",
   "execution_count": 39,
   "metadata": {},
   "outputs": [
    {
     "data": {
      "text/plain": [
       "'1999-12-12'"
      ]
     },
     "execution_count": 39,
     "metadata": {},
     "output_type": "execute_result"
    }
   ],
   "source": [
    "max(data['birthday'])"
   ]
  }
 ],
 "metadata": {
  "kernelspec": {
   "display_name": "Python 3",
   "language": "python",
   "name": "python3"
  },
  "language_info": {
   "codemirror_mode": {
    "name": "ipython",
    "version": 3
   },
   "file_extension": ".py",
   "mimetype": "text/x-python",
   "name": "python",
   "nbconvert_exporter": "python",
   "pygments_lexer": "ipython3",
   "version": "3.7.4"
  }
 },
 "nbformat": 4,
 "nbformat_minor": 4
}
