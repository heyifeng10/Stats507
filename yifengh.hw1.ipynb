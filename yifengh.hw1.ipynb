{
 "cells": [
  {
   "cell_type": "markdown",
   "metadata": {},
   "source": [
    "## STATS 507 Homework 1\n",
    "### Yifeng He\n",
    "#### yifengh@umich.com\n",
    "\n",
    "People with discussion:Wang Xiang, Yanze Liu<br>\n",
    "Problem 1- 2.5 hrs; Problem 2 - 1 hr; Problem 3 - 1 hr; Probloem 4 - 0.5 hr"
   ]
  },
  {
   "cell_type": "markdown",
   "metadata": {},
   "source": [
    "### Problem 1: Severance textbook exercises \n",
    "**Chapter 1:**<br>\n",
    "\n",
    "**Exercises 3: What is the difference between a compiler and an interpreter?**<br>\n",
    "The main difference is that an interpreter directly executes the instructions in the source programming language without previously converting them to an object code or a machine code.while a compiler translates those instructions into efficient machine code which is typically stored in a file. Thus, compliler requires more memory. In other words, an interprter would trasnlate program one statement at a time, while a compiler would scan the entire program, and translate it as a whole into machine code which further requires linking.<br>\n",
    "\n",
    "**Exercises 5: What is wrong with the following code?**<br>\n",
    "1 The reason for error is that 'Hello world!' should be in a parentheses.<br>\n",
    "2 Further,it should be \"print\" instead of \"primt\"\n",
    "\n",
    "**Exercises 6: Where in the computer is a variable such as “x” stored after the following Python line finishes?**<br>\n",
    "b) Main Memory\n",
    "\n",
    "**Exercise 8: Explain each of the following using an example of a human capability: (1) Central processing unit, (2) Main Memory, (3)\n",
    "Secondary Memory, (4) Input Device, and (5) Output Device. For example, “What is the human equivalent to a Central Processing Unit”?**<br>\n",
    "1) Central processing unit - human brain<br>\n",
    "2) Main Memory - humans' short term memory<br>\n",
    "3) Secondary Memory - humans' long term memory<br>\n",
    "4) Input Device - one example is that human ears when listerning<br>\n",
    "5) Output Device - One example is human mouth when speaking<br>\n",
    "\n",
    "**Chapter 2:**<br>\n",
    "\n",
    "**Exercises 3: Write a program to prompt the user for hours and rate per hour to compute gross pay.**<br>"
   ]
  },
  {
   "cell_type": "code",
   "execution_count": 11,
   "metadata": {},
   "outputs": [
    {
     "name": "stdout",
     "output_type": "stream",
     "text": [
      "Enter Hours: 35\n",
      "Enter Rate: 2.75\n",
      "Pay: 96.25\n"
     ]
    }
   ],
   "source": [
    "hours = input('Enter Hours: ')\n",
    "rate = input('Enter Rate: ')\n",
    "print(\"Pay: {}\".format(float(hours)*float(rate)))"
   ]
  },
  {
   "cell_type": "markdown",
   "metadata": {},
   "source": [
    "**Exercises 4: Assume that we execute the following assignment statements...**<br>\n",
    "1) width//2  --- 8(int)<br>\n",
    "2) width/2  --- 8.5(float)<br>\n",
    "3) height/3  --- 4.0(float)<br>\n",
    "4) 1 + 2 * 5 --- 11(int)<br> \n",
    "\n",
    "**Chapter 3:**<br>\n",
    "\n",
    "**Exercises 1: Rewrite your pay computation to give the employee 1.5 times the hourly rate for hours worked above 40 hours.**<br>"
   ]
  },
  {
   "cell_type": "code",
   "execution_count": 12,
   "metadata": {},
   "outputs": [
    {
     "name": "stdout",
     "output_type": "stream",
     "text": [
      "Enter Hours: 45\n",
      "Enter Rate: 10\n",
      "Pay: 475.0\n"
     ]
    }
   ],
   "source": [
    "hours = float(input('Enter Hours: '))\n",
    "rate = float(input('Enter Rate: '))\n",
    "if hours >= 40:\n",
    "  pay = 40*rate+(hours-40)*rate*1.5\n",
    "else:\n",
    "  pay = hours*rate\n",
    "print(\"Pay: {}\".format(pay))"
   ]
  },
  {
   "cell_type": "markdown",
   "metadata": {},
   "source": [
    "**Exercises 2: Rewrite your pay program using try and except so that your program handles non-numeric input gracefully by printing a message and exiting the program. The following shows two executions of the program:**<br>"
   ]
  },
  {
   "cell_type": "code",
   "execution_count": 4,
   "metadata": {},
   "outputs": [
    {
     "name": "stdout",
     "output_type": "stream",
     "text": [
      "Enter Hours: 20\n",
      "Enter Rate: nine\n",
      "Error, please enter numeric input\n"
     ]
    }
   ],
   "source": [
    "try:\n",
    "  hours = float(input('Enter Hours: '))\n",
    "  rate = float(input('Enter Rate: '))\n",
    "  if hours >= 40:\n",
    "    pay = 40*rate+(hours-40)*rate*1.5\n",
    "  else:\n",
    "    pay = hours*rate\n",
    "  print(\"Pay: {}\".format(pay))\n",
    "except:\n",
    "  print(\"Error, please enter numeric input\")"
   ]
  },
  {
   "cell_type": "markdown",
   "metadata": {},
   "source": [
    "**Chapter 4:**<br>\n",
    "\n",
    "**Exercise 6: Rewrite your pay computation with time-and-a-half for overtime and create a function called computepay which takes two parameters (hours and rate).**<br>"
   ]
  },
  {
   "cell_type": "code",
   "execution_count": 1,
   "metadata": {},
   "outputs": [
    {
     "name": "stdout",
     "output_type": "stream",
     "text": [
      "Enter Hours: 45\n",
      "Enter Rate: 10\n",
      "Pay: 475.0\n"
     ]
    }
   ],
   "source": [
    "def computepay(hours, rate):\n",
    "  if hours >= 40:\n",
    "    pay = 40*rate+(hours-40)*rate*1.5\n",
    "  else:\n",
    "    pay = hours*rate\n",
    "  return pay\n",
    "\n",
    "hours = float(input('Enter Hours: '))\n",
    "rate = float(input('Enter Rate: '))\n",
    "print(\"Pay: {}\".format(computepay(hours, rate)))"
   ]
  },
  {
   "cell_type": "markdown",
   "metadata": {},
   "source": [
    "**Chapter 5:**<br>\n",
    "\n",
    "**Exercise 1: Write a program which repeatedly reads numbers until the user enters “done”. Once “done” is entered, print out the total, count,and average of the numbers. If the user enters anything other than a number, detect their mistake using try and except and print an error message and skip to the next number.**<br>"
   ]
  },
  {
   "cell_type": "code",
   "execution_count": 1,
   "metadata": {},
   "outputs": [
    {
     "name": "stdout",
     "output_type": "stream",
     "text": [
      "Enter a number: 4\n",
      "Enter a number: 5\n",
      "Enter a number: bad data\n",
      "Invalid input\n",
      "Enter a number: 7\n",
      "Enter a number: done\n",
      "16.0 3 5.333333333333333\n"
     ]
    }
   ],
   "source": [
    "lst = []\n",
    "sum = 0\n",
    "number = input(\"Enter a number: \")\n",
    "while number != \"done\":\n",
    "    try:\n",
    "        while number != \"done\":\n",
    "            lst.append(float(number))\n",
    "            number = input(\"Enter a number: \")\n",
    "    except:\n",
    "        print(\"Invalid input\")\n",
    "        number = input(\"Enter a number: \")\n",
    "if number == \"done\":\n",
    "    if len(lst) == 0:\n",
    "        print(str(sum) + \" \" + str(len(lst)) + \" \" + \"average is not available\")\n",
    "    else:\n",
    "        for i in range(len(lst)):\n",
    "            sum += lst[i]\n",
    "        print(str(sum) + \" \" + str(len(lst)) + \" \" + str(sum/len(lst)))"
   ]
  },
  {
   "cell_type": "markdown",
   "metadata": {},
   "source": [
    "### 2 Euclid's algorithm (3 points)\n",
    "\n",
    "**2.1**<br>"
   ]
  },
  {
   "cell_type": "code",
   "execution_count": 4,
   "metadata": {},
   "outputs": [],
   "source": [
    "def gcd(a,b):\n",
    "    if b == 0:\n",
    "        return a\n",
    "    else:\n",
    "        return gcd(b,a%b)"
   ]
  },
  {
   "cell_type": "markdown",
   "metadata": {},
   "source": [
    "**2.2**<br>"
   ]
  },
  {
   "cell_type": "code",
   "execution_count": 5,
   "metadata": {},
   "outputs": [
    {
     "name": "stdout",
     "output_type": "stream",
     "text": [
      "1\n",
      "400\n",
      "60\n"
     ]
    }
   ],
   "source": [
    "print(gcd(2019,2020))\n",
    "print(gcd(1600,400))\n",
    "print(gcd(5040,60))"
   ]
  },
  {
   "cell_type": "markdown",
   "metadata": {},
   "source": [
    "**2.3**<br> "
   ]
  },
  {
   "cell_type": "code",
   "execution_count": 6,
   "metadata": {},
   "outputs": [
    {
     "name": "stdout",
     "output_type": "stream",
     "text": [
      "-5\n",
      "6\n",
      "-8\n"
     ]
    }
   ],
   "source": [
    "# First, try one negative number, one positive number\n",
    "print(gcd(20,-5))\n",
    "print(gcd(-30,6))\n",
    "# Then, we try two negative numbers\n",
    "print(gcd(-40,-8))"
   ]
  },
  {
   "cell_type": "markdown",
   "metadata": {},
   "source": [
    "From the results above, we could see that for one-negative-number case, result could be either positive or negative number. For two-negative-number, result will be positive.\n",
    "From the definition of gcd function, it makes sense. However, mathmatically, the greatest common number cannot be negative."
   ]
  },
  {
   "cell_type": "markdown",
   "metadata": {},
   "source": [
    "### 3 Approximating Euler's number e (8 points)\n",
    "\n",
    "**3.1**"
   ]
  },
  {
   "cell_type": "code",
   "execution_count": 18,
   "metadata": {},
   "outputs": [
    {
     "name": "stdout",
     "output_type": "stream",
     "text": [
      "2.7169239322355936\n"
     ]
    }
   ],
   "source": [
    "def euler_limit(n):\n",
    "    return (1+1/n)**n\n",
    "\n",
    "print(euler_limit(1000))"
   ]
  },
  {
   "cell_type": "markdown",
   "metadata": {},
   "source": [
    "**3.2**"
   ]
  },
  {
   "cell_type": "code",
   "execution_count": 27,
   "metadata": {},
   "outputs": [
    {
     "data": {
      "text/plain": [
       "1.0"
      ]
     },
     "execution_count": 27,
     "metadata": {},
     "output_type": "execute_result"
    }
   ],
   "source": [
    "euler_limit(10**16)"
   ]
  },
  {
   "cell_type": "markdown",
   "metadata": {},
   "source": [
    "when n is large, the returned number of function becomes 1.0.<br>\n",
    "The reason is that all numbers are stored as binary numbers in computer,and it has accuracy limit because of IEEE 754 standard.Because of this, the smallest number n such that 1.0 + n != 1.0 is 1.19*(10**-7), which is much larger than (1*10(-16)).Thus,(1/(10**(16))) is treated as zero, and the returned number is 1 consequently.  "
   ]
  },
  {
   "cell_type": "markdown",
   "metadata": {},
   "source": [
    "**3.3**"
   ]
  },
  {
   "cell_type": "code",
   "execution_count": 2,
   "metadata": {},
   "outputs": [
    {
     "data": {
      "text/plain": [
       "2.6666666666666665"
      ]
     },
     "execution_count": 2,
     "metadata": {},
     "output_type": "execute_result"
    }
   ],
   "source": [
    "def factorial(n):\n",
    "    if n == 1 or n == 0:\n",
    "        return 1\n",
    "    else:\n",
    "        return n*factorial(n-1)\n",
    "\n",
    "def euler_sum(n):\n",
    "    sum= 0\n",
    "    for i in range(n):\n",
    "        sum += 1/factorial(i)\n",
    "    return sum\n",
    "\n",
    "euler_sum(4)"
   ]
  },
  {
   "cell_type": "markdown",
   "metadata": {},
   "source": [
    "**3.4**"
   ]
  },
  {
   "cell_type": "code",
   "execution_count": 3,
   "metadata": {},
   "outputs": [
    {
     "data": {
      "text/plain": [
       "2.6666666666666665"
      ]
     },
     "execution_count": 3,
     "metadata": {},
     "output_type": "execute_result"
    }
   ],
   "source": [
    "import math\n",
    "def euler_approx(eps):\n",
    "    i = 0\n",
    "    while abs(euler_sum(i)-math.exp(1)) >= eps:\n",
    "        i += 1\n",
    "    return euler_sum(i)\n",
    "\n",
    "euler_approx(0.1)"
   ]
  },
  {
   "cell_type": "markdown",
   "metadata": {},
   "source": [
    "**3.5**"
   ]
  },
  {
   "cell_type": "code",
   "execution_count": 15,
   "metadata": {},
   "outputs": [],
   "source": [
    "def print_euler_sum_table(n):\n",
    "    for i in range(1,n+1):\n",
    "        print(abs(euler_sum(i)-math.exp(1)))\n",
    "\n",
    "def print_euler_lim_table(n):\n",
    "    for i in range(1,n+1):\n",
    "        print(abs(euler_limit(i)-math.exp(1)))"
   ]
  },
  {
   "cell_type": "code",
   "execution_count": 16,
   "metadata": {},
   "outputs": [
    {
     "name": "stdout",
     "output_type": "stream",
     "text": [
      "1.718281828459045\n",
      "0.7182818284590451\n",
      "0.2182818284590451\n",
      "0.05161516179237857\n",
      "0.009948495125712054\n"
     ]
    }
   ],
   "source": [
    "print_euler_sum_table(5)"
   ]
  },
  {
   "cell_type": "code",
   "execution_count": 19,
   "metadata": {},
   "outputs": [
    {
     "name": "stdout",
     "output_type": "stream",
     "text": [
      "0.7182818284590451\n",
      "0.4682818284590451\n",
      "0.3479114580886753\n",
      "0.2768755784590451\n",
      "0.22996182845904567\n"
     ]
    }
   ],
   "source": [
    "print_euler_lim_table(5)"
   ]
  },
  {
   "cell_type": "markdown",
   "metadata": {},
   "source": [
    "**3.6**\n",
    "\n",
    "When n is less than 3, the euler_lim approximation is better. However, when n is greater than or equal to 3, the euler sum function is better. "
   ]
  },
  {
   "cell_type": "markdown",
   "metadata": {},
   "source": [
    "**4 Testing Properties of an Integer (5 points)**<br>"
   ]
  },
  {
   "cell_type": "markdown",
   "metadata": {},
   "source": [
    "**4.1**"
   ]
  },
  {
   "cell_type": "code",
   "execution_count": 31,
   "metadata": {},
   "outputs": [
    {
     "data": {
      "text/plain": [
       "False"
      ]
     },
     "execution_count": 31,
     "metadata": {},
     "output_type": "execute_result"
    }
   ],
   "source": [
    "def is_power_of_2(n):\n",
    "    if n == 0:\n",
    "        return False\n",
    "    elif n%2 == 0:\n",
    "        return is_power_of_2(n/2)\n",
    "    elif n == 1:\n",
    "        return True\n",
    "    else:\n",
    "        return False\n",
    "        \n",
    "is_power_of_2(0)        "
   ]
  },
  {
   "cell_type": "markdown",
   "metadata": {},
   "source": [
    "**4.2**"
   ]
  },
  {
   "cell_type": "code",
   "execution_count": 30,
   "metadata": {},
   "outputs": [
    {
     "data": {
      "text/plain": [
       "True"
      ]
     },
     "execution_count": 30,
     "metadata": {},
     "output_type": "execute_result"
    }
   ],
   "source": [
    "def is_power(b, n):\n",
    "    if n == 0:\n",
    "        return False\n",
    "    elif n%b == 0:\n",
    "        return is_power(b, n/b)\n",
    "    elif n == 1:\n",
    "        return True\n",
    "    else:\n",
    "        return False\n",
    "    \n",
    "is_power(5,1)"
   ]
  }
 ],
 "metadata": {
  "kernelspec": {
   "display_name": "Python 3",
   "language": "python",
   "name": "python3"
  },
  "language_info": {
   "codemirror_mode": {
    "name": "ipython",
    "version": 3
   },
   "file_extension": ".py",
   "mimetype": "text/x-python",
   "name": "python",
   "nbconvert_exporter": "python",
   "pygments_lexer": "ipython3",
   "version": "3.7.4"
  }
 },
 "nbformat": 4,
 "nbformat_minor": 2
}
